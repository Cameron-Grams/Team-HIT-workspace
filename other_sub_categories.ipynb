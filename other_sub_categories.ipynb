{
 "cells": [
  {
   "cell_type": "code",
   "execution_count": 1,
   "id": "307bd872",
   "metadata": {},
   "outputs": [],
   "source": [
    "import pandas as pd\n",
    "import numpy as np"
   ]
  },
  {
   "cell_type": "code",
   "execution_count": 2,
   "id": "33675327",
   "metadata": {},
   "outputs": [],
   "source": [
    "import nltk\n",
    "import re\n",
    "import string\n",
    "import contractions\n",
    "import collections\n",
    "from time import time\n",
    "import matplotlib.pyplot as plt"
   ]
  },
  {
   "cell_type": "code",
   "execution_count": 3,
   "id": "4dd7f8ab",
   "metadata": {},
   "outputs": [],
   "source": [
    "from nltk.corpus import stopwords\n",
    "from nltk.tokenize import word_tokenize \n",
    "from nltk.stem import WordNetLemmatizer"
   ]
  },
  {
   "cell_type": "code",
   "execution_count": 4,
   "id": "e8232755",
   "metadata": {},
   "outputs": [],
   "source": [
    "from sklearn.feature_extraction.text import TfidfVectorizer\n",
    "from sklearn.cluster import KMeans\n"
   ]
  },
  {
   "cell_type": "code",
   "execution_count": 5,
   "id": "35f49496",
   "metadata": {},
   "outputs": [],
   "source": [
    "from sklearn.decomposition import TruncatedSVD\n",
    "from sklearn.pipeline import make_pipeline\n",
    "from sklearn.preprocessing import Normalizer"
   ]
  },
  {
   "cell_type": "code",
   "execution_count": 6,
   "id": "f12c96f7",
   "metadata": {},
   "outputs": [],
   "source": [
    "import utils as u"
   ]
  },
  {
   "cell_type": "code",
   "execution_count": 7,
   "id": "bc871f6b",
   "metadata": {},
   "outputs": [],
   "source": [
    "stop_words = nltk.corpus.stopwords.words('english')"
   ]
  },
  {
   "cell_type": "markdown",
   "id": "fbba6c73",
   "metadata": {},
   "source": [
    "### Dataset is a portion of the Tweets surrounding past storms"
   ]
  },
  {
   "cell_type": "code",
   "execution_count": 8,
   "id": "19d09cfb",
   "metadata": {},
   "outputs": [],
   "source": [
    "# df_full = pd.read_csv('ORIGINAL_LABELED/all_hurricanes_tweets_train.csv')\n",
    "# df_full = pd.read_csv('YEARS_PRIOR_LABELED/test_with_labels.csv')\n",
    "df_full = pd.read_csv('https://raw.githubusercontent.com/Cameron-Grams/Team-HIT-workspace/main/hurricane/test_with_labels.csv')"
   ]
  },
  {
   "cell_type": "code",
   "execution_count": 9,
   "id": "f6abf5a2",
   "metadata": {},
   "outputs": [
    {
     "data": {
      "text/plain": [
       "(17577, 26)"
      ]
     },
     "execution_count": 9,
     "metadata": {},
     "output_type": "execute_result"
    }
   ],
   "source": [
    "df_full.shape"
   ]
  },
  {
   "cell_type": "code",
   "execution_count": 10,
   "id": "aab92cd0",
   "metadata": {},
   "outputs": [
    {
     "data": {
      "text/plain": [
       "(12813, 26)"
      ]
     },
     "execution_count": 10,
     "metadata": {},
     "output_type": "execute_result"
    }
   ],
   "source": [
    "df = df_full[df_full['class_label'] == 'other_relevant_information']\n",
    "df.shape"
   ]
  },
  {
   "cell_type": "markdown",
   "id": "d23044a8",
   "metadata": {},
   "source": [
    "## Process Text"
   ]
  },
  {
   "cell_type": "code",
   "execution_count": 11,
   "id": "9d038501",
   "metadata": {},
   "outputs": [],
   "source": [
    "X_raw_text = df['text'].apply(lambda x: u.preprocess_text(x, flg_stemm=True, flg_lemm=True, lst_stopwords=stop_words))"
   ]
  },
  {
   "cell_type": "code",
   "execution_count": 12,
   "id": "7010e26e",
   "metadata": {},
   "outputs": [
    {
     "name": "stdout",
     "output_type": "stream",
     "text": [
      "vectorization done in 0.138 s\n",
      "n_samples: 12813, n_features: 3394\n"
     ]
    }
   ],
   "source": [
    "# the min and max parameters will have to be adjusted\n",
    "\n",
    "vectorizer = TfidfVectorizer(\n",
    "    max_df=0.5,\n",
    "    min_df=5,\n",
    "    stop_words=\"english\",\n",
    ")\n",
    "t0 = time()\n",
    "X_tfidf = vectorizer.fit_transform(X_raw_text)\n",
    "\n",
    "print(f\"vectorization done in {time() - t0:.3f} s\")\n",
    "print(f\"n_samples: {X_tfidf.shape[0]}, n_features: {X_tfidf.shape[1]}\")"
   ]
  },
  {
   "cell_type": "markdown",
   "id": "4a041644",
   "metadata": {},
   "source": [
    "### Dimensionality reduction with SVD"
   ]
  },
  {
   "cell_type": "markdown",
   "id": "f8bdeeff",
   "metadata": {},
   "source": [
    "### QUESTION QUESTION QUESTION"
   ]
  },
  {
   "cell_type": "code",
   "execution_count": 13,
   "id": "eba62a4f",
   "metadata": {},
   "outputs": [
    {
     "name": "stdin",
     "output_type": "stream",
     "text": [
      "Enter components:  300\n"
     ]
    }
   ],
   "source": [
    "# decide on the number of components to use for SVD\n",
    "n_comp = int(input(\"Enter components: \"))"
   ]
  },
  {
   "cell_type": "code",
   "execution_count": 14,
   "id": "de9b6166",
   "metadata": {},
   "outputs": [
    {
     "name": "stdout",
     "output_type": "stream",
     "text": [
      "LSA done in 1.487 s\n",
      "Explained variance of the SVD step: 44.2%\n"
     ]
    }
   ],
   "source": [
    "# decision on what level of components to truncate to... example = 100\n",
    "# greater explained variance with higher numbers \n",
    "\n",
    "lsa = make_pipeline(TruncatedSVD(n_components=n_comp), Normalizer(copy=False))\n",
    "t0 = time()\n",
    "X_lsa = lsa.fit_transform(X_tfidf)\n",
    "explained_variance = lsa[0].explained_variance_ratio_.sum()\n",
    "\n",
    "print(f\"LSA done in {time() - t0:.3f} s\")\n",
    "print(f\"Explained variance of the SVD step: {explained_variance * 100:.1f}%\")"
   ]
  },
  {
   "cell_type": "markdown",
   "id": "efb13402",
   "metadata": {},
   "source": [
    "## Model selection"
   ]
  },
  {
   "cell_type": "code",
   "execution_count": 15,
   "id": "40596a86",
   "metadata": {},
   "outputs": [],
   "source": [
    "make_km = lambda x: KMeans(\n",
    "    n_clusters=x,\n",
    "    max_iter=100,\n",
    "    init = 'k-means++',\n",
    "    n_init=5,\n",
    ")"
   ]
  },
  {
   "cell_type": "code",
   "execution_count": 16,
   "id": "0acee1ca",
   "metadata": {},
   "outputs": [],
   "source": [
    "Sum_of_squared_distances = []\n",
    "\n",
    "K = range(1,15)\n",
    "\n",
    "for k in K:\n",
    "    km = make_km(k)\n",
    "    km = km.fit(X_lsa)\n",
    "    Sum_of_squared_distances.append(km.inertia_)"
   ]
  },
  {
   "cell_type": "code",
   "execution_count": 17,
   "id": "6ad21652",
   "metadata": {},
   "outputs": [
    {
     "data": {
      "image/png": "[encoded data removed]",
      "text/plain": [
       "<Figure size 640x480 with 1 Axes>"
      ]
     },
     "metadata": {},
     "output_type": "display_data"
    }
   ],
   "source": [
    "plt.plot(K, Sum_of_squared_distances, 'bx-')\n",
    "plt.xlabel('k')\n",
    "plt.ylabel('Sum_of_squared_distances')\n",
    "plt.title('Elbow Method For Optimal k')\n",
    "plt.show()"
   ]
  },
  {
   "cell_type": "markdown",
   "id": "fde93c10",
   "metadata": {},
   "source": [
    "## Identify Clusters"
   ]
  },
  {
   "cell_type": "code",
   "execution_count": null,
   "id": "9104183c",
   "metadata": {},
   "outputs": [],
   "source": [
    "# input the number of the elbow from the graph\n",
    "num_k = int(input('>>>'))"
   ]
  },
  {
   "cell_type": "code",
   "execution_count": null,
   "id": "b000f824",
   "metadata": {},
   "outputs": [],
   "source": [
    "kmeans = make_km(num_k)\n",
    "kmeans.fit(X_lsa)"
   ]
  },
  {
   "cell_type": "code",
   "execution_count": null,
   "id": "60e83c20",
   "metadata": {},
   "outputs": [],
   "source": [
    "original_space_centroids = lsa[0].inverse_transform(kmeans.cluster_centers_)\n",
    "order_centroids = original_space_centroids.argsort()[:, ::-1]\n",
    "terms = vectorizer.get_feature_names_out()\n",
    "\n",
    "for i in range(num_k):\n",
    "    print(f\"Cluster {i}: \", end=\"\")\n",
    "    for ind in order_centroids[i, :20]:\n",
    "        print(f\"{terms[ind]} \", end=\"\")\n",
    "    print(\"\\n\")"
   ]
  },
  {
   "cell_type": "markdown",
   "id": "5e703a99",
   "metadata": {},
   "source": [
    "##### "
   ]
  },
  {
   "cell_type": "code",
   "execution_count": null,
   "id": "9e01e5c0",
   "metadata": {},
   "outputs": [],
   "source": [
    "preds = kmeans.predict(X_lsa)"
   ]
  },
  {
   "cell_type": "code",
   "execution_count": null,
   "id": "499bcff6",
   "metadata": {},
   "outputs": [],
   "source": [
    "df['predicted_subclass'] = preds"
   ]
  },
  {
   "cell_type": "code",
   "execution_count": null,
   "id": "034e3d2f",
   "metadata": {},
   "outputs": [],
   "source": [
    "# df_0 = df[df['predicted_subclass'] == 0]\n",
    "# df_0.shape"
   ]
  },
  {
   "cell_type": "code",
   "execution_count": null,
   "id": "0073d388",
   "metadata": {},
   "outputs": [],
   "source": [
    "# df_1 = df[df['predicted_subclass'] == 1]\n",
    "# df_1.shape"
   ]
  },
  {
   "cell_type": "code",
   "execution_count": null,
   "id": "a7bcc473",
   "metadata": {},
   "outputs": [],
   "source": [
    "# df_2 = df[df['predicted_subclass'] == 2]\n",
    "# df_2.shape"
   ]
  },
  {
   "cell_type": "code",
   "execution_count": null,
   "id": "582aa2d3",
   "metadata": {},
   "outputs": [],
   "source": [
    "# df_3 = df[df['predicted_subclass'] == 3]\n",
    "# df_3.shape"
   ]
  },
  {
   "cell_type": "code",
   "execution_count": null,
   "id": "cab23b2a",
   "metadata": {},
   "outputs": [],
   "source": [
    "# df_4 = df[df['predicted_subclass'] == 4]\n",
    "# df_4.shape"
   ]
  },
  {
   "cell_type": "code",
   "execution_count": null,
   "id": "c71b035e",
   "metadata": {},
   "outputs": [],
   "source": [
    "# list(df_0['text'].sample(10))"
   ]
  },
  {
   "cell_type": "code",
   "execution_count": null,
   "id": "9eeb0079",
   "metadata": {},
   "outputs": [],
   "source": [
    "other_cat_key = {\n",
    "    0: 'personal_commentary',\n",
    "    1: 'hurricane_facts',\n",
    "    2: 'people_and_garbage',\n",
    "    3: 'personal_interest',\n",
    "    4: 'storm_location' \n",
    "}"
   ]
  },
  {
   "cell_type": "code",
   "execution_count": null,
   "id": "61a9b98f",
   "metadata": {},
   "outputs": [],
   "source": [
    "df['class_label'] = df.apply(lambda x: other_cat_key[x['predicted_subclass']], axis=1)\n",
    "df.shape"
   ]
  },
  {
   "cell_type": "code",
   "execution_count": null,
   "id": "f1bcdf73",
   "metadata": {},
   "outputs": [],
   "source": [
    "#list(df.columns)"
   ]
  },
  {
   "cell_type": "code",
   "execution_count": null,
   "id": "13df9ba7",
   "metadata": {},
   "outputs": [],
   "source": [
    "df_original = df_full[df_full['class_label'] != 'other_relevant_information']\n",
    "df_original.shape"
   ]
  },
  {
   "cell_type": "code",
   "execution_count": null,
   "id": "c4a702f9",
   "metadata": {},
   "outputs": [],
   "source": [
    "df_final = pd.concat([df, df_original])\n",
    "df_final.shape"
   ]
  },
  {
   "cell_type": "code",
   "execution_count": null,
   "id": "9848e22e",
   "metadata": {},
   "outputs": [],
   "source": [
    "df_final = df_final.iloc[:, 2:]"
   ]
  },
  {
   "cell_type": "code",
   "execution_count": null,
   "id": "b1b718a0",
   "metadata": {},
   "outputs": [],
   "source": [
    "df_final.sample(3)"
   ]
  },
  {
   "cell_type": "code",
   "execution_count": null,
   "id": "6a6e0edc",
   "metadata": {},
   "outputs": [],
   "source": [
    "df_final.to_csv('expanded_other_17577samples.csv', index=False)"
   ]
  },
  {
   "cell_type": "code",
   "execution_count": null,
   "id": "38330b6d",
   "metadata": {},
   "outputs": [],
   "source": []
  }
 ],
 "metadata": {
  "kernelspec": {
   "display_name": "Python 3 (ipykernel)",
   "language": "python",
   "name": "python3"
  },
  "language_info": {
   "codemirror_mode": {
    "name": "ipython",
    "version": 3
   },
   "file_extension": ".py",
   "mimetype": "text/x-python",
   "name": "python",
   "nbconvert_exporter": "python",
   "pygments_lexer": "ipython3",
   "version": "3.10.8"
  }
 },
 "nbformat": 4,
 "nbformat_minor": 5
}
