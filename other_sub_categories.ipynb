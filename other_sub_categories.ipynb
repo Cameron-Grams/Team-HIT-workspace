{
 "cells": [
  {
   "cell_type": "code",
   "execution_count": 1,
   "id": "307bd872",
   "metadata": {},
   "outputs": [],
   "source": [
    "import pandas as pd\n",
    "import numpy as np"
   ]
  },
  {
   "cell_type": "code",
   "execution_count": 2,
   "id": "33675327",
   "metadata": {},
   "outputs": [],
   "source": [
    "import nltk\n",
    "import re\n",
    "import string\n",
    "import contractions\n",
    "import collections\n",
    "from time import time\n",
    "import matplotlib.pyplot as plt"
   ]
  },
  {
   "cell_type": "code",
   "execution_count": 3,
   "id": "4dd7f8ab",
   "metadata": {},
   "outputs": [],
   "source": [
    "from nltk.corpus import stopwords\n",
    "from nltk.tokenize import word_tokenize \n",
    "from nltk.stem import WordNetLemmatizer"
   ]
  },
  {
   "cell_type": "code",
   "execution_count": 4,
   "id": "e8232755",
   "metadata": {},
   "outputs": [],
   "source": [
    "from sklearn.feature_extraction.text import TfidfVectorizer\n",
    "from sklearn.cluster import KMeans\n"
   ]
  },
  {
   "cell_type": "code",
   "execution_count": 5,
   "id": "35f49496",
   "metadata": {},
   "outputs": [],
   "source": [
    "from sklearn.decomposition import TruncatedSVD\n",
    "from sklearn.pipeline import make_pipeline\n",
    "from sklearn.preprocessing import Normalizer"
   ]
  },
  {
   "cell_type": "code",
   "execution_count": 6,
   "id": "f12c96f7",
   "metadata": {},
   "outputs": [],
   "source": [
    "import utils as u"
   ]
  },
  {
   "cell_type": "code",
   "execution_count": 7,
   "id": "bc871f6b",
   "metadata": {},
   "outputs": [],
   "source": [
    "stop_words = nltk.corpus.stopwords.words('english')"
   ]
  },
  {
   "cell_type": "markdown",
   "id": "fbba6c73",
   "metadata": {},
   "source": [
    "### Dataset is a portion of the Tweets surrounding past storms"
   ]
  },
  {
   "cell_type": "code",
   "execution_count": 8,
   "id": "19d09cfb",
   "metadata": {},
   "outputs": [],
   "source": [
    "# df_full = pd.read_csv('ORIGINAL_LABELED/all_hurricanes_tweets_train.csv')\n",
    "# df_full = pd.read_csv('YEARS_PRIOR_LABELED/test_with_labels.csv')\n",
    "df_full = pd.read_csv('https://raw.githubusercontent.com/Cameron-Grams/Team-HIT-workspace/main/hurricane/test_with_labels.csv')"
   ]
  },
  {
   "cell_type": "code",
   "execution_count": 9,
   "id": "f6abf5a2",
   "metadata": {},
   "outputs": [
    {
     "data": {
      "text/plain": [
       "(17577, 26)"
      ]
     },
     "execution_count": 9,
     "metadata": {},
     "output_type": "execute_result"
    }
   ],
   "source": [
    "df_full.shape"
   ]
  },
  {
   "cell_type": "code",
   "execution_count": 10,
   "id": "aab92cd0",
   "metadata": {},
   "outputs": [
    {
     "data": {
      "text/plain": [
       "(12813, 26)"
      ]
     },
     "execution_count": 10,
     "metadata": {},
     "output_type": "execute_result"
    }
   ],
   "source": [
    "df = df_full[df_full['class_label'] == 'other_relevant_information']\n",
    "df.shape"
   ]
  },
  {
   "cell_type": "markdown",
   "id": "d23044a8",
   "metadata": {},
   "source": [
    "## Process Text"
   ]
  },
  {
   "cell_type": "code",
   "execution_count": 11,
   "id": "9d038501",
   "metadata": {},
   "outputs": [],
   "source": [
    "X_raw_text = df['text'].apply(lambda x: u.preprocess_text(x, flg_stemm=True, flg_lemm=True, lst_stopwords=stop_words))"
   ]
  },
  {
   "cell_type": "code",
   "execution_count": 12,
   "id": "7010e26e",
   "metadata": {},
   "outputs": [
    {
     "name": "stdout",
     "output_type": "stream",
     "text": [
      "vectorization done in 0.141 s\n",
      "n_samples: 12813, n_features: 3394\n"
     ]
    }
   ],
   "source": [
    "# the min and max parameters will have to be adjusted\n",
    "\n",
    "vectorizer = TfidfVectorizer(\n",
    "    max_df=0.5,\n",
    "    min_df=5,\n",
    "    stop_words=\"english\",\n",
    ")\n",
    "t0 = time()\n",
    "X_tfidf = vectorizer.fit_transform(X_raw_text)\n",
    "\n",
    "print(f\"vectorization done in {time() - t0:.3f} s\")\n",
    "print(f\"n_samples: {X_tfidf.shape[0]}, n_features: {X_tfidf.shape[1]}\")"
   ]
  },
  {
   "cell_type": "markdown",
   "id": "4a041644",
   "metadata": {},
   "source": [
    "### Dimensionality reduction with SVD"
   ]
  },
  {
   "cell_type": "markdown",
   "id": "f8bdeeff",
   "metadata": {},
   "source": [
    "# QUESTION QUESTION QUESTION"
   ]
  },
  {
   "cell_type": "code",
   "execution_count": 13,
   "id": "eba62a4f",
   "metadata": {},
   "outputs": [
    {
     "name": "stdout",
     "output_type": "stream",
     "text": [
      "Enter components: 100\n"
     ]
    }
   ],
   "source": [
    "# decide on the number of components to use for SVD\n",
    "n_comp = int(input(\"Enter components: \"))"
   ]
  },
  {
   "cell_type": "code",
   "execution_count": 14,
   "id": "de9b6166",
   "metadata": {},
   "outputs": [
    {
     "name": "stdout",
     "output_type": "stream",
     "text": [
      "LSA done in 0.449 s\n",
      "Explained variance of the SVD step: 25.5%\n"
     ]
    }
   ],
   "source": [
    "# decision on what level of components to truncate to... example = 100\n",
    "# greater explained variance with higher numbers \n",
    "\n",
    "lsa = make_pipeline(TruncatedSVD(n_components=n_comp), Normalizer(copy=False))\n",
    "t0 = time()\n",
    "X_lsa = lsa.fit_transform(X_tfidf)\n",
    "explained_variance = lsa[0].explained_variance_ratio_.sum()\n",
    "\n",
    "print(f\"LSA done in {time() - t0:.3f} s\")\n",
    "print(f\"Explained variance of the SVD step: {explained_variance * 100:.1f}%\")"
   ]
  },
  {
   "cell_type": "markdown",
   "id": "efb13402",
   "metadata": {},
   "source": [
    "## Model selection"
   ]
  },
  {
   "cell_type": "code",
   "execution_count": 15,
   "id": "40596a86",
   "metadata": {},
   "outputs": [],
   "source": [
    "make_km = lambda x: KMeans(\n",
    "    n_clusters=x,\n",
    "    max_iter=100,\n",
    "    init = 'k-means++',\n",
    "    n_init=5,\n",
    ")"
   ]
  },
  {
   "cell_type": "code",
   "execution_count": 16,
   "id": "0acee1ca",
   "metadata": {},
   "outputs": [],
   "source": [
    "Sum_of_squared_distances = []\n",
    "\n",
    "K = range(1,15)\n",
    "\n",
    "for k in K:\n",
    "    km = make_km(k)\n",
    "    km = km.fit(X_lsa)\n",
    "    Sum_of_squared_distances.append(km.inertia_)"
   ]
  },
  {
   "cell_type": "code",
   "execution_count": 17,
   "id": "6ad21652",
   "metadata": {},
   "outputs": [
    {
     "data": {
      "image/png": "[encoded data removed]",
      "text/plain": [
       "<Figure size 640x480 with 1 Axes>"
      ]
     },
     "metadata": {},
     "output_type": "display_data"
    }
   ],
   "source": [
    "plt.plot(K, Sum_of_squared_distances, 'bx-')\n",
    "plt.xlabel('k')\n",
    "plt.ylabel('Sum_of_squared_distances')\n",
    "plt.title('Elbow Method For Optimal k')\n",
    "plt.show()"
   ]
  },
  {
   "cell_type": "markdown",
   "id": "fde93c10",
   "metadata": {},
   "source": [
    "## Identify Clusters"
   ]
  },
  {
   "cell_type": "code",
   "execution_count": 18,
   "id": "9104183c",
   "metadata": {},
   "outputs": [
    {
     "name": "stdout",
     "output_type": "stream",
     "text": [
      ">>>5\n"
     ]
    }
   ],
   "source": [
    "# input the number of the elbow from the graph\n",
    "num_k = int(input('>>>'))"
   ]
  },
  {
   "cell_type": "code",
   "execution_count": 19,
   "id": "b000f824",
   "metadata": {},
   "outputs": [
    {
     "data": {
      "text/html": [
       "<style>#sk-container-id-1 {color: black;background-color: white;}#sk-container-id-1 pre{padding: 0;}#sk-container-id-1 div.sk-toggleable {background-color: white;}#sk-container-id-1 label.sk-toggleable__label {cursor: pointer;display: block;width: 100%;margin-bottom: 0;padding: 0.3em;box-sizing: border-box;text-align: center;}#sk-container-id-1 label.sk-toggleable__label-arrow:before {content: \"▸\";float: left;margin-right: 0.25em;color: #696969;}#sk-container-id-1 label.sk-toggleable__label-arrow:hover:before {color: black;}#sk-container-id-1 div.sk-estimator:hover label.sk-toggleable__label-arrow:before {color: black;}#sk-container-id-1 div.sk-toggleable__content {max-height: 0;max-width: 0;overflow: hidden;text-align: left;background-color: #f0f8ff;}#sk-container-id-1 div.sk-toggleable__content pre {margin: 0.2em;color: black;border-radius: 0.25em;background-color: #f0f8ff;}#sk-container-id-1 input.sk-toggleable__control:checked~div.sk-toggleable__content {max-height: 200px;max-width: 100%;overflow: auto;}#sk-container-id-1 input.sk-toggleable__control:checked~label.sk-toggleable__label-arrow:before {content: \"▾\";}#sk-container-id-1 div.sk-estimator input.sk-toggleable__control:checked~label.sk-toggleable__label {background-color: #d4ebff;}#sk-container-id-1 div.sk-label input.sk-toggleable__control:checked~label.sk-toggleable__label {background-color: #d4ebff;}#sk-container-id-1 input.sk-hidden--visually {border: 0;clip: rect(1px 1px 1px 1px);clip: rect(1px, 1px, 1px, 1px);height: 1px;margin: -1px;overflow: hidden;padding: 0;position: absolute;width: 1px;}#sk-container-id-1 div.sk-estimator {font-family: monospace;background-color: #f0f8ff;border: 1px dotted black;border-radius: 0.25em;box-sizing: border-box;margin-bottom: 0.5em;}#sk-container-id-1 div.sk-estimator:hover {background-color: #d4ebff;}#sk-container-id-1 div.sk-parallel-item::after {content: \"\";width: 100%;border-bottom: 1px solid gray;flex-grow: 1;}#sk-container-id-1 div.sk-label:hover label.sk-toggleable__label {background-color: #d4ebff;}#sk-container-id-1 div.sk-serial::before {content: \"\";position: absolute;border-left: 1px solid gray;box-sizing: border-box;top: 0;bottom: 0;left: 50%;z-index: 0;}#sk-container-id-1 div.sk-serial {display: flex;flex-direction: column;align-items: center;background-color: white;padding-right: 0.2em;padding-left: 0.2em;position: relative;}#sk-container-id-1 div.sk-item {position: relative;z-index: 1;}#sk-container-id-1 div.sk-parallel {display: flex;align-items: stretch;justify-content: center;background-color: white;position: relative;}#sk-container-id-1 div.sk-item::before, #sk-container-id-1 div.sk-parallel-item::before {content: \"\";position: absolute;border-left: 1px solid gray;box-sizing: border-box;top: 0;bottom: 0;left: 50%;z-index: -1;}#sk-container-id-1 div.sk-parallel-item {display: flex;flex-direction: column;z-index: 1;position: relative;background-color: white;}#sk-container-id-1 div.sk-parallel-item:first-child::after {align-self: flex-end;width: 50%;}#sk-container-id-1 div.sk-parallel-item:last-child::after {align-self: flex-start;width: 50%;}#sk-container-id-1 div.sk-parallel-item:only-child::after {width: 0;}#sk-container-id-1 div.sk-dashed-wrapped {border: 1px dashed gray;margin: 0 0.4em 0.5em 0.4em;box-sizing: border-box;padding-bottom: 0.4em;background-color: white;}#sk-container-id-1 div.sk-label label {font-family: monospace;font-weight: bold;display: inline-block;line-height: 1.2em;}#sk-container-id-1 div.sk-label-container {text-align: center;}#sk-container-id-1 div.sk-container {/* jupyter's `normalize.less` sets `[hidden] { display: none; }` but bootstrap.min.css set `[hidden] { display: none !important; }` so we also need the `!important` here to be able to override the default hidden behavior on the sphinx rendered scikit-learn.org. See: https://github.com/scikit-learn/scikit-learn/issues/21755 */display: inline-block !important;position: relative;}#sk-container-id-1 div.sk-text-repr-fallback {display: none;}</style><div id=\"sk-container-id-1\" class=\"sk-top-container\"><div class=\"sk-text-repr-fallback\"><pre>KMeans(max_iter=100, n_clusters=5, n_init=5)</pre><b>In a Jupyter environment, please rerun this cell to show the HTML representation or trust the notebook. <br />On GitHub, the HTML representation is unable to render, please try loading this page with nbviewer.org.</b></div><div class=\"sk-container\" hidden><div class=\"sk-item\"><div class=\"sk-estimator sk-toggleable\"><input class=\"sk-toggleable__control sk-hidden--visually\" id=\"sk-estimator-id-1\" type=\"checkbox\" checked><label for=\"sk-estimator-id-1\" class=\"sk-toggleable__label sk-toggleable__label-arrow\">KMeans</label><div class=\"sk-toggleable__content\"><pre>KMeans(max_iter=100, n_clusters=5, n_init=5)</pre></div></div></div></div></div>"
      ],
      "text/plain": [
       "KMeans(max_iter=100, n_clusters=5, n_init=5)"
      ]
     },
     "execution_count": 19,
     "metadata": {},
     "output_type": "execute_result"
    }
   ],
   "source": [
    "kmeans = make_km(num_k)\n",
    "kmeans.fit(X_lsa)"
   ]
  },
  {
   "cell_type": "code",
   "execution_count": 20,
   "id": "60e83c20",
   "metadata": {},
   "outputs": [
    {
     "name": "stdout",
     "output_type": "stream",
     "text": [
      "Cluster 0: httpt sandi rt new arthur victim cleanup debri storm hit canada york amp recoveri southeast cristob island photo surviv video \n",
      "\n",
      "Cluster 1: storm tropic httpst rt httpt arthur form becom discus forecast center issu atlant track wind nation weather updat expect rain \n",
      "\n",
      "Cluster 2: garbag peopl httpst thi rt road realdonaldtrump clean water plea piec tweet know time cnn amp trump way area team \n",
      "\n",
      "Cluster 3: rt debri hurricane like amp peopl hit garbage cleanup make florida thi time come trump year rain water today know \n",
      "\n",
      "Cluster 4: httpst rt florenc cleanup debri florida michael ian new storm advisori dorian center categori season forecast coast ida latest flood \n",
      "\n"
     ]
    }
   ],
   "source": [
    "original_space_centroids = lsa[0].inverse_transform(kmeans.cluster_centers_)\n",
    "order_centroids = original_space_centroids.argsort()[:, ::-1]\n",
    "terms = vectorizer.get_feature_names_out()\n",
    "\n",
    "for i in range(num_k):\n",
    "    print(f\"Cluster {i}: \", end=\"\")\n",
    "    for ind in order_centroids[i, :20]:\n",
    "        print(f\"{terms[ind]} \", end=\"\")\n",
    "    print(\"\\n\")"
   ]
  },
  {
   "cell_type": "markdown",
   "id": "5e703a99",
   "metadata": {},
   "source": [
    "##### "
   ]
  },
  {
   "cell_type": "code",
   "execution_count": 21,
   "id": "9e01e5c0",
   "metadata": {},
   "outputs": [],
   "source": [
    "preds = kmeans.predict(X_lsa)"
   ]
  },
  {
   "cell_type": "code",
   "execution_count": 22,
   "id": "499bcff6",
   "metadata": {},
   "outputs": [
    {
     "name": "stderr",
     "output_type": "stream",
     "text": [
      "/tmp/ipykernel_11826/1108154002.py:1: SettingWithCopyWarning: \n",
      "A value is trying to be set on a copy of a slice from a DataFrame.\n",
      "Try using .loc[row_indexer,col_indexer] = value instead\n",
      "\n",
      "See the caveats in the documentation: https://pandas.pydata.org/pandas-docs/stable/user_guide/indexing.html#returning-a-view-versus-a-copy\n",
      "  df['predicted_subclass'] = preds\n"
     ]
    }
   ],
   "source": [
    "df['predicted_subclass'] = preds"
   ]
  },
  {
   "cell_type": "code",
   "execution_count": 23,
   "id": "034e3d2f",
   "metadata": {},
   "outputs": [],
   "source": [
    "# df_0 = df[df['predicted_subclass'] == 0]\n",
    "# df_0.shape"
   ]
  },
  {
   "cell_type": "code",
   "execution_count": 24,
   "id": "0073d388",
   "metadata": {},
   "outputs": [],
   "source": [
    "# df_1 = df[df['predicted_subclass'] == 1]\n",
    "# df_1.shape"
   ]
  },
  {
   "cell_type": "code",
   "execution_count": 25,
   "id": "a7bcc473",
   "metadata": {},
   "outputs": [],
   "source": [
    "# df_2 = df[df['predicted_subclass'] == 2]\n",
    "# df_2.shape"
   ]
  },
  {
   "cell_type": "code",
   "execution_count": 26,
   "id": "582aa2d3",
   "metadata": {},
   "outputs": [],
   "source": [
    "# df_3 = df[df['predicted_subclass'] == 3]\n",
    "# df_3.shape"
   ]
  },
  {
   "cell_type": "code",
   "execution_count": 27,
   "id": "cab23b2a",
   "metadata": {},
   "outputs": [],
   "source": [
    "# df_4 = df[df['predicted_subclass'] == 4]\n",
    "# df_4.shape"
   ]
  },
  {
   "cell_type": "code",
   "execution_count": 28,
   "id": "c71b035e",
   "metadata": {},
   "outputs": [],
   "source": [
    "# list(df_0['text'].sample(10))"
   ]
  },
  {
   "cell_type": "code",
   "execution_count": 29,
   "id": "9eeb0079",
   "metadata": {},
   "outputs": [],
   "source": [
    "other_cat_key = {\n",
    "    0: 'personal_commentary',\n",
    "    1: 'hurricane_facts',\n",
    "    2: 'people_and_garbage',\n",
    "    3: 'personal_interest',\n",
    "    4: 'storm_location' \n",
    "}"
   ]
  },
  {
   "cell_type": "code",
   "execution_count": 30,
   "id": "61a9b98f",
   "metadata": {},
   "outputs": [
    {
     "name": "stderr",
     "output_type": "stream",
     "text": [
      "/tmp/ipykernel_11826/938979681.py:1: SettingWithCopyWarning: \n",
      "A value is trying to be set on a copy of a slice from a DataFrame.\n",
      "Try using .loc[row_indexer,col_indexer] = value instead\n",
      "\n",
      "See the caveats in the documentation: https://pandas.pydata.org/pandas-docs/stable/user_guide/indexing.html#returning-a-view-versus-a-copy\n",
      "  df['class_label'] = df.apply(lambda x: other_cat_key[x['predicted_subclass']], axis=1)\n"
     ]
    },
    {
     "data": {
      "text/plain": [
       "(12813, 27)"
      ]
     },
     "execution_count": 30,
     "metadata": {},
     "output_type": "execute_result"
    }
   ],
   "source": [
    "df['class_label'] = df.apply(lambda x: other_cat_key[x['predicted_subclass']], axis=1)\n",
    "df.shape"
   ]
  },
  {
   "cell_type": "code",
   "execution_count": 36,
   "id": "f1bcdf73",
   "metadata": {},
   "outputs": [],
   "source": [
    "#list(df.columns)"
   ]
  },
  {
   "cell_type": "code",
   "execution_count": 32,
   "id": "13df9ba7",
   "metadata": {},
   "outputs": [
    {
     "data": {
      "text/plain": [
       "(4764, 26)"
      ]
     },
     "execution_count": 32,
     "metadata": {},
     "output_type": "execute_result"
    }
   ],
   "source": [
    "df_original = df_full[df_full['class_label'] != 'other_relevant_information']\n",
    "df_original.shape"
   ]
  },
  {
   "cell_type": "code",
   "execution_count": 33,
   "id": "c4a702f9",
   "metadata": {},
   "outputs": [
    {
     "data": {
      "text/plain": [
       "(17577, 27)"
      ]
     },
     "execution_count": 33,
     "metadata": {},
     "output_type": "execute_result"
    }
   ],
   "source": [
    "df_final = pd.concat([df, df_original])\n",
    "df_final.shape"
   ]
  },
  {
   "cell_type": "code",
   "execution_count": 34,
   "id": "9848e22e",
   "metadata": {},
   "outputs": [],
   "source": [
    "df_final = df_final.iloc[:, 2:]"
   ]
  },
  {
   "cell_type": "code",
   "execution_count": 35,
   "id": "b1b718a0",
   "metadata": {},
   "outputs": [
    {
     "data": {
      "text/html": [
       "<div>\n",
       "<style scoped>\n",
       "    .dataframe tbody tr th:only-of-type {\n",
       "        vertical-align: middle;\n",
       "    }\n",
       "\n",
       "    .dataframe tbody tr th {\n",
       "        vertical-align: top;\n",
       "    }\n",
       "\n",
       "    .dataframe thead th {\n",
       "        text-align: right;\n",
       "    }\n",
       "</style>\n",
       "<table border=\"1\" class=\"dataframe\">\n",
       "  <thead>\n",
       "    <tr style=\"text-align: right;\">\n",
       "      <th></th>\n",
       "      <th>id</th>\n",
       "      <th>text</th>\n",
       "      <th>author_id</th>\n",
       "      <th>created_at</th>\n",
       "      <th>public_metrics</th>\n",
       "      <th>reply_settings</th>\n",
       "      <th>entities</th>\n",
       "      <th>possibly_sensitive</th>\n",
       "      <th>edit_history_tweet_ids</th>\n",
       "      <th>source</th>\n",
       "      <th>...</th>\n",
       "      <th>withheld</th>\n",
       "      <th>predictions</th>\n",
       "      <th>hurricane</th>\n",
       "      <th>fatalities</th>\n",
       "      <th>damage(billion USD)</th>\n",
       "      <th>date</th>\n",
       "      <th>norm_date</th>\n",
       "      <th>pre_processed</th>\n",
       "      <th>class_label</th>\n",
       "      <th>predicted_subclass</th>\n",
       "    </tr>\n",
       "  </thead>\n",
       "  <tbody>\n",
       "    <tr>\n",
       "      <th>4196</th>\n",
       "      <td>1169127251125985286</td>\n",
       "      <td>RT @yahoophoto: A handout photo made available...</td>\n",
       "      <td>2.388516e+07</td>\n",
       "      <td>2019-09-04T05:57:12.000Z</td>\n",
       "      <td>{'retweet_count': 39, 'reply_count': 0, 'like_...</td>\n",
       "      <td>everyone</td>\n",
       "      <td>{'annotations': [{'start': 50, 'end': 53, 'pro...</td>\n",
       "      <td>False</td>\n",
       "      <td>['1169127251125985286']</td>\n",
       "      <td>Twitter for iPhone</td>\n",
       "      <td>...</td>\n",
       "      <td>NaN</td>\n",
       "      <td>1</td>\n",
       "      <td>barry</td>\n",
       "      <td>1</td>\n",
       "      <td>0.60</td>\n",
       "      <td>2019-09-04 05:57:12+00:00</td>\n",
       "      <td>92.022737</td>\n",
       "      <td>rt yahoophoto a handout photo made avail nasa ...</td>\n",
       "      <td>personal_interest</td>\n",
       "      <td>3.0</td>\n",
       "    </tr>\n",
       "    <tr>\n",
       "      <th>6186</th>\n",
       "      <td>1041898797050290181</td>\n",
       "      <td>RT @OCREdge: @wellsfargo over an hour a half i...</td>\n",
       "      <td>9.899650e+17</td>\n",
       "      <td>2018-09-18T03:56:45.000Z</td>\n",
       "      <td>{'retweet_count': 6, 'reply_count': 0, 'like_c...</td>\n",
       "      <td>everyone</td>\n",
       "      <td>{'mentions': [{'start': 3, 'end': 11, 'usernam...</td>\n",
       "      <td>False</td>\n",
       "      <td>['1041898797050290181']</td>\n",
       "      <td>Twitter for Android</td>\n",
       "      <td>...</td>\n",
       "      <td>NaN</td>\n",
       "      <td>1</td>\n",
       "      <td>florence</td>\n",
       "      <td>53</td>\n",
       "      <td>24.23</td>\n",
       "      <td>2018-09-18 03:56:45+00:00</td>\n",
       "      <td>54.062291</td>\n",
       "      <td>rt ocredg wellsfargo hour half call hurrican a...</td>\n",
       "      <td>personal_interest</td>\n",
       "      <td>3.0</td>\n",
       "    </tr>\n",
       "    <tr>\n",
       "      <th>2728</th>\n",
       "      <td>1147368820065165312</td>\n",
       "      <td>Blizzard of 96, Hurricane Sandy, a earthquake ...</td>\n",
       "      <td>2.232622e+08</td>\n",
       "      <td>2019-07-06T04:56:58.000Z</td>\n",
       "      <td>{'retweet_count': 0, 'reply_count': 0, 'like_c...</td>\n",
       "      <td>everyone</td>\n",
       "      <td>{'urls': [{'start': 112, 'end': 135, 'url': 'h...</td>\n",
       "      <td>False</td>\n",
       "      <td>['1147368820065165312']</td>\n",
       "      <td>Twitter for iPhone</td>\n",
       "      <td>...</td>\n",
       "      <td>NaN</td>\n",
       "      <td>1</td>\n",
       "      <td>barry</td>\n",
       "      <td>1</td>\n",
       "      <td>0.60</td>\n",
       "      <td>2019-07-06 04:56:58+00:00</td>\n",
       "      <td>21.084490</td>\n",
       "      <td>blizzard 96 hurrican sandi earthquak japan eat...</td>\n",
       "      <td>storm_location</td>\n",
       "      <td>4.0</td>\n",
       "    </tr>\n",
       "  </tbody>\n",
       "</table>\n",
       "<p>3 rows × 25 columns</p>\n",
       "</div>"
      ],
      "text/plain": [
       "                       id                                               text  \\\n",
       "4196  1169127251125985286  RT @yahoophoto: A handout photo made available...   \n",
       "6186  1041898797050290181  RT @OCREdge: @wellsfargo over an hour a half i...   \n",
       "2728  1147368820065165312  Blizzard of 96, Hurricane Sandy, a earthquake ...   \n",
       "\n",
       "         author_id                created_at  \\\n",
       "4196  2.388516e+07  2019-09-04T05:57:12.000Z   \n",
       "6186  9.899650e+17  2018-09-18T03:56:45.000Z   \n",
       "2728  2.232622e+08  2019-07-06T04:56:58.000Z   \n",
       "\n",
       "                                         public_metrics reply_settings  \\\n",
       "4196  {'retweet_count': 39, 'reply_count': 0, 'like_...       everyone   \n",
       "6186  {'retweet_count': 6, 'reply_count': 0, 'like_c...       everyone   \n",
       "2728  {'retweet_count': 0, 'reply_count': 0, 'like_c...       everyone   \n",
       "\n",
       "                                               entities  possibly_sensitive  \\\n",
       "4196  {'annotations': [{'start': 50, 'end': 53, 'pro...               False   \n",
       "6186  {'mentions': [{'start': 3, 'end': 11, 'usernam...               False   \n",
       "2728  {'urls': [{'start': 112, 'end': 135, 'url': 'h...               False   \n",
       "\n",
       "       edit_history_tweet_ids               source  ... withheld predictions  \\\n",
       "4196  ['1169127251125985286']   Twitter for iPhone  ...      NaN           1   \n",
       "6186  ['1041898797050290181']  Twitter for Android  ...      NaN           1   \n",
       "2728  ['1147368820065165312']   Twitter for iPhone  ...      NaN           1   \n",
       "\n",
       "      hurricane  fatalities damage(billion USD)                       date  \\\n",
       "4196      barry           1                0.60  2019-09-04 05:57:12+00:00   \n",
       "6186   florence          53               24.23  2018-09-18 03:56:45+00:00   \n",
       "2728      barry           1                0.60  2019-07-06 04:56:58+00:00   \n",
       "\n",
       "      norm_date                                      pre_processed  \\\n",
       "4196  92.022737  rt yahoophoto a handout photo made avail nasa ...   \n",
       "6186  54.062291  rt ocredg wellsfargo hour half call hurrican a...   \n",
       "2728  21.084490  blizzard 96 hurrican sandi earthquak japan eat...   \n",
       "\n",
       "            class_label  predicted_subclass  \n",
       "4196  personal_interest                 3.0  \n",
       "6186  personal_interest                 3.0  \n",
       "2728     storm_location                 4.0  \n",
       "\n",
       "[3 rows x 25 columns]"
      ]
     },
     "execution_count": 35,
     "metadata": {},
     "output_type": "execute_result"
    }
   ],
   "source": [
    "df_final.sample(3)"
   ]
  },
  {
   "cell_type": "code",
   "execution_count": 37,
   "id": "6a6e0edc",
   "metadata": {},
   "outputs": [],
   "source": [
    "df_final.to_csv('expanded_other_17577samples.csv', index=False)"
   ]
  },
  {
   "cell_type": "code",
   "execution_count": null,
   "id": "38330b6d",
   "metadata": {},
   "outputs": [],
   "source": []
  }
 ],
 "metadata": {
  "kernelspec": {
   "display_name": "Python 3 (ipykernel)",
   "language": "python",
   "name": "python3"
  },
  "language_info": {
   "codemirror_mode": {
    "name": "ipython",
    "version": 3
   },
   "file_extension": ".py",
   "mimetype": "text/x-python",
   "name": "python",
   "nbconvert_exporter": "python",
   "pygments_lexer": "ipython3",
   "version": "3.10.8"
  }
 },
 "nbformat": 4,
 "nbformat_minor": 5
}
