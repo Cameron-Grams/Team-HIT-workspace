{
 "cells": [
  {
   "cell_type": "code",
   "execution_count": 1,
   "id": "dd8bda5a",
   "metadata": {},
   "outputs": [],
   "source": [
    "import pandas as pd\n",
    "import numpy as np"
   ]
  },
  {
   "cell_type": "code",
   "execution_count": 2,
   "id": "5e03403f",
   "metadata": {},
   "outputs": [],
   "source": [
    "import tweepy\n",
    "import json\n",
    "import datetime\n",
    "import random"
   ]
  },
  {
   "cell_type": "code",
   "execution_count": 3,
   "id": "502af1c1",
   "metadata": {},
   "outputs": [],
   "source": [
    "import config\n",
    "import request_history"
   ]
  },
  {
   "cell_type": "code",
   "execution_count": 4,
   "id": "21347512",
   "metadata": {},
   "outputs": [],
   "source": [
    "# assumed start date for concern for Huricanne Ian 1 Sept 2022 -- planning factor\n",
    "date_ = '2022-09-01T00:00:00.000Z'\n",
    "\n",
    "# last reporting of casualties from Hurricane Ian: 1 Nov 2022\n"
   ]
  },
  {
   "cell_type": "code",
   "execution_count": 5,
   "id": "f8a4d212",
   "metadata": {},
   "outputs": [],
   "source": [
    "# hurricane terms adopted from the Stowe paper: \n",
    "query_terms = \"Category 3 OR Category 4 OR landfall OR eyewall OR cleanup OR debris OR garbage OR hurricane OR hurricaneian OR perfectstorm OR Ian OR stormporn OR superstorm OR Tropical Storm\""
   ]
  },
  {
   "cell_type": "code",
   "execution_count": 6,
   "id": "1c7159d6",
   "metadata": {},
   "outputs": [],
   "source": [
    "# update dates iterates by 5 days + random hour selection - 500 tweets filled up in minutes\n",
    "# so a random hour selection was used to interject variability in the time selection \n",
    "\n",
    "def generate_dates(old_end):\n",
    "    \"\"\"\n",
    "    updates the start and end dates to pull tweets from the Twitter API (Academic Permissions)\n",
    "    arguments:\n",
    "        - old_end: string formated date to start the window for pulling set of 500 tweets\n",
    "        \n",
    "    return:\n",
    "        - new_start: the previous end date\n",
    "        - new_end: 5 days from the old end, at a random hour\n",
    "    \"\"\"\n",
    "    hour_increment = random.randint(0, 23)\n",
    "    new_start = old_end\n",
    "\n",
    "    old_date = datetime.datetime.strptime(old_end, '%Y-%m-%dT%H:%M:%S.%fZ')\n",
    "    new_end_dtg = old_date + datetime.timedelta(days=3, hours=hour_increment)\n",
    "    new_end = datetime.datetime.strftime(new_end_dtg, '%Y-%m-%dT%H:%M:%S.%fZ')\n",
    "\n",
    "    return new_start, new_end"
   ]
  },
  {
   "cell_type": "code",
   "execution_count": 7,
   "id": "1d4080ea",
   "metadata": {},
   "outputs": [],
   "source": [
    "def next_batch(previous_end, query_terms=query_terms, generate_dates=generate_dates):\n",
    "    # request 500 tweets at a time\n",
    "    time_now = datetime.datetime.now()\n",
    "    print(f\"Time of most recent request: {time_now.hour}:{time_now.minute}\")\n",
    "\n",
    "    start, end = generate_dates(previous_end)\n",
    "    tweet_batch = request_history.main(query_terms, start, end)\n",
    "\n",
    "    return end, tweet_batch"
   ]
  },
  {
   "cell_type": "code",
   "execution_count": 8,
   "id": "7cbb7087",
   "metadata": {},
   "outputs": [],
   "source": [
    "def create_tweets_df(raw_list):\n",
    "    list_of_tweets = []\n",
    "    for tweet in raw_list:\n",
    "        current_df = pd.DataFrame([tweet])\n",
    "        list_of_tweets.append(current_df)\n",
    "    df = pd.concat(list_of_tweets, ignore_index=True)\n",
    "    return df"
   ]
  },
  {
   "cell_type": "code",
   "execution_count": 9,
   "id": "3eb2b54e",
   "metadata": {},
   "outputs": [
    {
     "name": "stdout",
     "output_type": "stream",
     "text": [
      "Time of most recent request: 22:51\n",
      "200\n",
      "Time of most recent request: 22:51\n",
      "200\n",
      "Time of most recent request: 22:51\n",
      "200\n",
      "Time of most recent request: 22:51\n",
      "200\n",
      "Time of most recent request: 22:51\n",
      "200\n",
      "Time of most recent request: 22:51\n",
      "200\n",
      "Time of most recent request: 22:51\n",
      "200\n",
      "Time of most recent request: 22:51\n",
      "200\n",
      "Time of most recent request: 22:51\n",
      "200\n",
      "Time of most recent request: 22:51\n",
      "200\n",
      "Time of most recent request: 22:51\n",
      "200\n",
      "Time of most recent request: 22:51\n",
      "200\n",
      "Time of most recent request: 22:51\n",
      "200\n",
      "Time of most recent request: 22:51\n",
      "200\n",
      "Time of most recent request: 22:51\n",
      "200\n",
      "Time of most recent request: 22:51\n",
      "200\n",
      "Time of most recent request: 22:51\n",
      "200\n",
      "Time of most recent request: 22:51\n",
      "200\n"
     ]
    }
   ],
   "source": [
    "all_dfs = []\n",
    "for _ in range(18):\n",
    "    try:\n",
    "        date_, tweets = next_batch(date_)\n",
    "        df = create_tweets_df(tweets['data'])\n",
    "        all_dfs.append(df)\n",
    "    except Exception as e:\n",
    "        print(\"Final date: \", date_)\n",
    "        print(\"API errors: \", e)\n",
    "        break"
   ]
  },
  {
   "cell_type": "code",
   "execution_count": 11,
   "id": "3a994c84",
   "metadata": {},
   "outputs": [
    {
     "data": {
      "text/plain": [
       "(8654, 16)"
      ]
     },
     "execution_count": 11,
     "metadata": {},
     "output_type": "execute_result"
    }
   ],
   "source": [
    "final_df = pd.concat(all_dfs, ignore_index=True)\n",
    "final_df.shape"
   ]
  },
  {
   "cell_type": "code",
   "execution_count": 12,
   "id": "d549aadc",
   "metadata": {},
   "outputs": [
    {
     "data": {
      "text/plain": [
       "'2022-10-30T21:00:00.000000Z'"
      ]
     },
     "execution_count": 12,
     "metadata": {},
     "output_type": "execute_result"
    }
   ],
   "source": [
    "date_"
   ]
  },
  {
   "cell_type": "code",
   "execution_count": 17,
   "id": "d385a5b3",
   "metadata": {},
   "outputs": [
    {
     "data": {
      "text/plain": [
       "['public_metrics',\n",
       " 'text',\n",
       " 'reply_settings',\n",
       " 'entities',\n",
       " 'possibly_sensitive',\n",
       " 'edit_history_tweet_ids',\n",
       " 'source',\n",
       " 'lang',\n",
       " 'referenced_tweets',\n",
       " 'conversation_id',\n",
       " 'created_at',\n",
       " 'author_id',\n",
       " 'id',\n",
       " 'in_reply_to_user_id',\n",
       " 'attachments',\n",
       " 'withheld']"
      ]
     },
     "execution_count": 17,
     "metadata": {},
     "output_type": "execute_result"
    }
   ],
   "source": [
    "cols = list(final_df.columns)\n",
    "cols"
   ]
  },
  {
   "cell_type": "code",
   "execution_count": 16,
   "id": "f6e6efc7",
   "metadata": {},
   "outputs": [
    {
     "data": {
      "text/plain": [
       "16"
      ]
     },
     "execution_count": 16,
     "metadata": {},
     "output_type": "execute_result"
    }
   ],
   "source": [
    "order = [\n",
    "    'id',\n",
    "    'text',\n",
    "    'author_id',\n",
    "    'created_at',\n",
    "    'public_metrics',\n",
    "    'reply_settings',\n",
    "    'entities',\n",
    "    'possibly_sensitive',\n",
    "    'edit_history_tweet_ids',\n",
    "    'source',\n",
    "    'lang',\n",
    "    'referenced_tweets',\n",
    "    'conversation_id',\n",
    "    'in_reply_to_user_id',\n",
    "    'attachments',\n",
    "    'withheld'\n",
    "]\n",
    "\n",
    "len(order)"
   ]
  },
  {
   "cell_type": "code",
   "execution_count": 18,
   "id": "e1b52258",
   "metadata": {},
   "outputs": [],
   "source": [
    "df = final_df[order]"
   ]
  },
  {
   "cell_type": "code",
   "execution_count": 21,
   "id": "ecf890a5",
   "metadata": {},
   "outputs": [],
   "source": [
    "df.to_csv('hurricane_ian_3day_increment.csv', index=False)"
   ]
  },
  {
   "cell_type": "code",
   "execution_count": 23,
   "id": "297f81ec",
   "metadata": {},
   "outputs": [],
   "source": [
    "# df.head()"
   ]
  },
  {
   "cell_type": "code",
   "execution_count": null,
   "id": "ae05f318",
   "metadata": {},
   "outputs": [],
   "source": []
  }
 ],
 "metadata": {
  "kernelspec": {
   "display_name": "Python 3 (ipykernel)",
   "language": "python",
   "name": "python3"
  },
  "language_info": {
   "codemirror_mode": {
    "name": "ipython",
    "version": 3
   },
   "file_extension": ".py",
   "mimetype": "text/x-python",
   "name": "python",
   "nbconvert_exporter": "python",
   "pygments_lexer": "ipython3",
   "version": "3.10.6"
  }
 },
 "nbformat": 4,
 "nbformat_minor": 5
}
