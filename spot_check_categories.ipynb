{
 "cells": [
  {
   "cell_type": "code",
   "execution_count": 1,
   "id": "d4c26e02",
   "metadata": {},
   "outputs": [],
   "source": [
    "import pandas as pd\n",
    "import numpy as np\n"
   ]
  },
  {
   "cell_type": "code",
   "execution_count": 2,
   "id": "94f40721",
   "metadata": {},
   "outputs": [
    {
     "name": "stdout",
     "output_type": "stream",
     "text": [
      "(100, 26)\n"
     ]
    }
   ],
   "source": [
    "df = pd.read_csv('df_without_other_Cameron.csv')\n",
    "print(df.shape)\n",
    "# df.head()"
   ]
  },
  {
   "cell_type": "code",
   "execution_count": 3,
   "id": "eae5fd5c",
   "metadata": {
    "scrolled": false
   },
   "outputs": [],
   "source": [
    "df_ex = df[['text', 'pre_processed', 'class_label' ]]\n",
    "# df_ex.head()"
   ]
  },
  {
   "cell_type": "code",
   "execution_count": 4,
   "id": "3855af95",
   "metadata": {},
   "outputs": [],
   "source": [
    "list_of_assessments = []"
   ]
  },
  {
   "cell_type": "code",
   "execution_count": 5,
   "id": "1cab249d",
   "metadata": {},
   "outputs": [],
   "source": [
    "dist_tuple = (0, 100)"
   ]
  },
  {
   "cell_type": "code",
   "execution_count": 6,
   "id": "23f23c69",
   "metadata": {},
   "outputs": [],
   "source": [
    "for i in range(dist_tuple[0], dist_tuple[1]):\n",
    "    print(df_ex.iloc[i, 0], \"***\", df_ex.iloc[i, -1] )\n",
    "    assessment = input(\">>>\")\n",
    "    list_of_assessments.append(int(assessment))"
   ]
  },
  {
   "cell_type": "code",
   "execution_count": 7,
   "id": "566b6feb",
   "metadata": {},
   "outputs": [
    {
     "data": {
      "text/plain": [
       "0"
      ]
     },
     "execution_count": 7,
     "metadata": {},
     "output_type": "execute_result"
    }
   ],
   "source": [
    "sum(list_of_assessments)\n"
   ]
  }
 ],
 "metadata": {
  "kernelspec": {
   "display_name": "Python 3 (ipykernel)",
   "language": "python",
   "name": "python3"
  },
  "language_info": {
   "codemirror_mode": {
    "name": "ipython",
    "version": 3
   },
   "file_extension": ".py",
   "mimetype": "text/x-python",
   "name": "python",
   "nbconvert_exporter": "python",
   "pygments_lexer": "ipython3",
   "version": "3.10.8"
  }
 },
 "nbformat": 4,
 "nbformat_minor": 5
}
