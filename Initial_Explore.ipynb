{
 "cells": [
  {
   "cell_type": "code",
   "execution_count": 1,
   "id": "f33e43a5",
   "metadata": {},
   "outputs": [],
   "source": [
    "import pandas as pd\n",
    "import numpy as np\n",
    "import json"
   ]
  },
  {
   "cell_type": "code",
   "execution_count": 2,
   "id": "8bfb0b09",
   "metadata": {},
   "outputs": [],
   "source": [
    "with open('tweets.2022-10-08.part2.csv', 'r') as file:\n",
    "    data = file.readlines()"
   ]
  },
  {
   "cell_type": "code",
   "execution_count": 3,
   "id": "5cbc8387",
   "metadata": {},
   "outputs": [
    {
     "data": {
      "text/plain": [
       "'{\"attachments\": {}, \"author_id\": \"1278422020057903105\", \"created_at\": \"2022-10-09T03:11:42.000Z\", \"edit_history_tweet_ids\": [\"1578946277676498944\"], \"entities\": {\"mentions\": [{\"start\": 3, \"end\": 14, \"username\": \"Think1nine\", \"id\": \"1131862675573682177\"}]}, \"geo\": {}, \"id\": \"1578946277676498944\", \"referenced_tweets\": [{\"type\": \"retweeted\", \"id\": \"1578450786660495360\"}], \"text\": \"RT @Think1nine: What are you not telling us? https://t.co/6xNhXQFsHe\"}\\n'"
      ]
     },
     "execution_count": 3,
     "metadata": {},
     "output_type": "execute_result"
    }
   ],
   "source": [
    "data[0]"
   ]
  },
  {
   "cell_type": "code",
   "execution_count": 4,
   "id": "b49f5237",
   "metadata": {},
   "outputs": [
    {
     "data": {
      "text/plain": [
       "({'attachments',\n",
       "  'author_id',\n",
       "  'created_at',\n",
       "  'edit_history_tweet_ids',\n",
       "  'entities',\n",
       "  'geo',\n",
       "  'id',\n",
       "  'in_reply_to_user_id',\n",
       "  'referenced_tweets',\n",
       "  'text',\n",
       "  'withheld'},\n",
       " 11)"
      ]
     },
     "execution_count": 4,
     "metadata": {},
     "output_type": "execute_result"
    }
   ],
   "source": [
    "# some tweets do not have all of the features, this should give us the full set of what tweets could contain\n",
    "tweet_features = set()\n",
    "\n",
    "for d in data:\n",
    "    jsn = json.loads(d)\n",
    "    for f in jsn.keys(): \n",
    "        tweet_features.add(f)\n",
    "\n",
    "tweet_features, len(tweet_features)"
   ]
  },
  {
   "cell_type": "code",
   "execution_count": 5,
   "id": "95fb0196",
   "metadata": {},
   "outputs": [
    {
     "data": {
      "text/plain": [
       "129046"
      ]
     },
     "execution_count": 5,
     "metadata": {},
     "output_type": "execute_result"
    }
   ],
   "source": [
    "len(data)"
   ]
  },
  {
   "cell_type": "code",
   "execution_count": 6,
   "id": "129c5788",
   "metadata": {},
   "outputs": [],
   "source": [
    "# small_data = data[:5]"
   ]
  },
  {
   "cell_type": "code",
   "execution_count": 11,
   "id": "8707f359",
   "metadata": {},
   "outputs": [],
   "source": [
    "def create_df(tweet_features, data):\n",
    "    dfs = []\n",
    "    for d in data:\n",
    "        with_all_features = {}\n",
    "        jsn = json.loads(d)\n",
    "\n",
    "        for f in tweet_features:\n",
    "            try:\n",
    "                with_all_features[f] = str(jsn[f]) # had to use strings as values \n",
    "            except:\n",
    "                with_all_features[f] = 'None'\n",
    "\n",
    "        with_all_features = pd.DataFrame(with_all_features, index = [0])\n",
    "        dfs.append(with_all_features)\n",
    "\n",
    "    df = pd.concat(dfs, sort = False).reset_index()\n",
    "    df = df.drop(['index'], axis = 1)\n",
    "    \n",
    "    return df    "
   ]
  },
  {
   "cell_type": "code",
   "execution_count": 12,
   "id": "f6d37359",
   "metadata": {},
   "outputs": [],
   "source": [
    "# df_small = create_df(tweet_features, small_data)"
   ]
  },
  {
   "cell_type": "code",
   "execution_count": 13,
   "id": "d1135c8d",
   "metadata": {},
   "outputs": [],
   "source": [
    "# df_small"
   ]
  },
  {
   "cell_type": "code",
   "execution_count": 17,
   "id": "1895db8a",
   "metadata": {},
   "outputs": [
    {
     "name": "stdout",
     "output_type": "stream",
     "text": [
      "CPU times: user 48 s, sys: 587 ms, total: 48.6 s\n",
      "Wall time: 48.3 s\n"
     ]
    }
   ],
   "source": [
    "%%time\n",
    "df = create_df(tweet_features, data)"
   ]
  },
  {
   "cell_type": "code",
   "execution_count": 18,
   "id": "09119e1b",
   "metadata": {},
   "outputs": [
    {
     "name": "stdout",
     "output_type": "stream",
     "text": [
      "<class 'pandas.core.frame.DataFrame'>\n",
      "RangeIndex: 129046 entries, 0 to 129045\n",
      "Data columns (total 11 columns):\n",
      " #   Column                  Non-Null Count   Dtype \n",
      "---  ------                  --------------   ----- \n",
      " 0   id                      129046 non-null  object\n",
      " 1   author_id               129046 non-null  object\n",
      " 2   referenced_tweets       129046 non-null  object\n",
      " 3   edit_history_tweet_ids  129046 non-null  object\n",
      " 4   text                    129046 non-null  object\n",
      " 5   withheld                129046 non-null  object\n",
      " 6   attachments             129046 non-null  object\n",
      " 7   geo                     129046 non-null  object\n",
      " 8   in_reply_to_user_id     129046 non-null  object\n",
      " 9   created_at              129046 non-null  object\n",
      " 10  entities                129046 non-null  object\n",
      "dtypes: object(11)\n",
      "memory usage: 10.8+ MB\n"
     ]
    }
   ],
   "source": [
    "df.info()"
   ]
  },
  {
   "cell_type": "code",
   "execution_count": 19,
   "id": "5e46df07",
   "metadata": {},
   "outputs": [
    {
     "data": {
      "text/html": [
       "<div>\n",
       "<style scoped>\n",
       "    .dataframe tbody tr th:only-of-type {\n",
       "        vertical-align: middle;\n",
       "    }\n",
       "\n",
       "    .dataframe tbody tr th {\n",
       "        vertical-align: top;\n",
       "    }\n",
       "\n",
       "    .dataframe thead th {\n",
       "        text-align: right;\n",
       "    }\n",
       "</style>\n",
       "<table border=\"1\" class=\"dataframe\">\n",
       "  <thead>\n",
       "    <tr style=\"text-align: right;\">\n",
       "      <th></th>\n",
       "      <th>id</th>\n",
       "      <th>author_id</th>\n",
       "      <th>referenced_tweets</th>\n",
       "      <th>edit_history_tweet_ids</th>\n",
       "      <th>text</th>\n",
       "      <th>withheld</th>\n",
       "      <th>attachments</th>\n",
       "      <th>geo</th>\n",
       "      <th>in_reply_to_user_id</th>\n",
       "      <th>created_at</th>\n",
       "      <th>entities</th>\n",
       "    </tr>\n",
       "  </thead>\n",
       "  <tbody>\n",
       "    <tr>\n",
       "      <th>0</th>\n",
       "      <td>1578946277676498944</td>\n",
       "      <td>1278422020057903105</td>\n",
       "      <td>[{'type': 'retweeted', 'id': '1578450786660495...</td>\n",
       "      <td>['1578946277676498944']</td>\n",
       "      <td>RT @Think1nine: What are you not telling us? h...</td>\n",
       "      <td>None</td>\n",
       "      <td>{}</td>\n",
       "      <td>{}</td>\n",
       "      <td>None</td>\n",
       "      <td>2022-10-09T03:11:42.000Z</td>\n",
       "      <td>{'mentions': [{'start': 3, 'end': 14, 'usernam...</td>\n",
       "    </tr>\n",
       "    <tr>\n",
       "      <th>1</th>\n",
       "      <td>1578946277672644608</td>\n",
       "      <td>1093709220342419456</td>\n",
       "      <td>[{'type': 'retweeted', 'id': '1578627916761829...</td>\n",
       "      <td>['1578946277672644608']</td>\n",
       "      <td>RT @TarotYouuuu: กูไหว้ล่ะ อย่าหาทำแบบนี้เลยนะ...</td>\n",
       "      <td>None</td>\n",
       "      <td>{}</td>\n",
       "      <td>{}</td>\n",
       "      <td>None</td>\n",
       "      <td>2022-10-09T03:11:42.000Z</td>\n",
       "      <td>{'mentions': [{'start': 3, 'end': 15, 'usernam...</td>\n",
       "    </tr>\n",
       "    <tr>\n",
       "      <th>2</th>\n",
       "      <td>1578946277701611525</td>\n",
       "      <td>1174143917639503874</td>\n",
       "      <td>[{'type': 'retweeted', 'id': '1578903609915641...</td>\n",
       "      <td>['1578946277701611525']</td>\n",
       "      <td>RT @iAmSirOrDaddy: The sound of a BBC $lut bei...</td>\n",
       "      <td>None</td>\n",
       "      <td>{}</td>\n",
       "      <td>{}</td>\n",
       "      <td>None</td>\n",
       "      <td>2022-10-09T03:11:42.000Z</td>\n",
       "      <td>{'mentions': [{'start': 3, 'end': 17, 'usernam...</td>\n",
       "    </tr>\n",
       "    <tr>\n",
       "      <th>3</th>\n",
       "      <td>1578946277689413632</td>\n",
       "      <td>1528619498051608576</td>\n",
       "      <td>None</td>\n",
       "      <td>['1578946277689413632']</td>\n",
       "      <td>ルークさん復帰？嘘やん！</td>\n",
       "      <td>None</td>\n",
       "      <td>{}</td>\n",
       "      <td>{}</td>\n",
       "      <td>None</td>\n",
       "      <td>2022-10-09T03:11:42.000Z</td>\n",
       "      <td>{}</td>\n",
       "    </tr>\n",
       "    <tr>\n",
       "      <th>4</th>\n",
       "      <td>1578946277697781761</td>\n",
       "      <td>761006499107737600</td>\n",
       "      <td>None</td>\n",
       "      <td>['1578946277697781761']</td>\n",
       "      <td>チャレライ報酬ストーリー解禁重視にしている https://t.co/awdRNyFlBY</td>\n",
       "      <td>None</td>\n",
       "      <td>{}</td>\n",
       "      <td>{}</td>\n",
       "      <td>None</td>\n",
       "      <td>2022-10-09T03:11:42.000Z</td>\n",
       "      <td>{}</td>\n",
       "    </tr>\n",
       "  </tbody>\n",
       "</table>\n",
       "</div>"
      ],
      "text/plain": [
       "                    id            author_id  \\\n",
       "0  1578946277676498944  1278422020057903105   \n",
       "1  1578946277672644608  1093709220342419456   \n",
       "2  1578946277701611525  1174143917639503874   \n",
       "3  1578946277689413632  1528619498051608576   \n",
       "4  1578946277697781761   761006499107737600   \n",
       "\n",
       "                                   referenced_tweets   edit_history_tweet_ids  \\\n",
       "0  [{'type': 'retweeted', 'id': '1578450786660495...  ['1578946277676498944']   \n",
       "1  [{'type': 'retweeted', 'id': '1578627916761829...  ['1578946277672644608']   \n",
       "2  [{'type': 'retweeted', 'id': '1578903609915641...  ['1578946277701611525']   \n",
       "3                                               None  ['1578946277689413632']   \n",
       "4                                               None  ['1578946277697781761']   \n",
       "\n",
       "                                                text withheld attachments geo  \\\n",
       "0  RT @Think1nine: What are you not telling us? h...     None          {}  {}   \n",
       "1  RT @TarotYouuuu: กูไหว้ล่ะ อย่าหาทำแบบนี้เลยนะ...     None          {}  {}   \n",
       "2  RT @iAmSirOrDaddy: The sound of a BBC $lut bei...     None          {}  {}   \n",
       "3                                       ルークさん復帰？嘘やん！     None          {}  {}   \n",
       "4      チャレライ報酬ストーリー解禁重視にしている https://t.co/awdRNyFlBY     None          {}  {}   \n",
       "\n",
       "  in_reply_to_user_id                created_at  \\\n",
       "0                None  2022-10-09T03:11:42.000Z   \n",
       "1                None  2022-10-09T03:11:42.000Z   \n",
       "2                None  2022-10-09T03:11:42.000Z   \n",
       "3                None  2022-10-09T03:11:42.000Z   \n",
       "4                None  2022-10-09T03:11:42.000Z   \n",
       "\n",
       "                                            entities  \n",
       "0  {'mentions': [{'start': 3, 'end': 14, 'usernam...  \n",
       "1  {'mentions': [{'start': 3, 'end': 15, 'usernam...  \n",
       "2  {'mentions': [{'start': 3, 'end': 17, 'usernam...  \n",
       "3                                                 {}  \n",
       "4                                                 {}  "
      ]
     },
     "execution_count": 19,
     "metadata": {},
     "output_type": "execute_result"
    }
   ],
   "source": [
    "df.head()"
   ]
  },
  {
   "cell_type": "code",
   "execution_count": null,
   "id": "183094c9",
   "metadata": {},
   "outputs": [],
   "source": []
  }
 ],
 "metadata": {
  "kernelspec": {
   "display_name": "Python 3 (ipykernel)",
   "language": "python",
   "name": "python3"
  },
  "language_info": {
   "codemirror_mode": {
    "name": "ipython",
    "version": 3
   },
   "file_extension": ".py",
   "mimetype": "text/x-python",
   "name": "python",
   "nbconvert_exporter": "python",
   "pygments_lexer": "ipython3",
   "version": "3.9.7"
  }
 },
 "nbformat": 4,
 "nbformat_minor": 5
}
