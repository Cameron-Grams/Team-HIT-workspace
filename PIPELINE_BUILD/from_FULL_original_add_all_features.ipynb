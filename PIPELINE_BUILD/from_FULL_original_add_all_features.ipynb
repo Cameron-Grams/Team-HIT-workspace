{
 "cells": [
  {
   "cell_type": "code",
   "execution_count": 1,
   "id": "e281c4d3",
   "metadata": {},
   "outputs": [],
   "source": [
    "# !pip install tweepy"
   ]
  },
  {
   "cell_type": "code",
   "execution_count": 2,
   "id": "0f5ba36d",
   "metadata": {},
   "outputs": [],
   "source": [
    "import pandas as pd\n",
    "import numpy as np\n",
    "import json\n",
    "import tweepy"
   ]
  },
  {
   "cell_type": "code",
   "execution_count": 3,
   "id": "373aff3a",
   "metadata": {},
   "outputs": [],
   "source": [
    "import config"
   ]
  },
  {
   "cell_type": "code",
   "execution_count": 4,
   "id": "2014264d",
   "metadata": {},
   "outputs": [],
   "source": [
    "# df_ = pd.read_csv('all_labeled_data_without_maryland.csv')\n",
    "# df_.shape"
   ]
  },
  {
   "cell_type": "code",
   "execution_count": 5,
   "id": "93b858c7",
   "metadata": {},
   "outputs": [],
   "source": [
    "# df_.head()"
   ]
  },
  {
   "cell_type": "code",
   "execution_count": 6,
   "id": "fa5b02f0",
   "metadata": {},
   "outputs": [],
   "source": [
    "# get the list of indices to retrieve\n",
    "# ids = list(df_['tweet_id'])"
   ]
  },
  {
   "cell_type": "code",
   "execution_count": 7,
   "id": "5b71dbb5",
   "metadata": {},
   "outputs": [],
   "source": [
    "client = tweepy.Client( \n",
    "                bearer_token = config.Bearer_Token,\n",
    "                consumer_key = config.API_Key,\n",
    "                consumer_secret = config.API_Secret,\n",
    "                wait_on_rate_limit=True\n",
    "         )"
   ]
  },
  {
   "cell_type": "code",
   "execution_count": 8,
   "id": "2c7f0540",
   "metadata": {},
   "outputs": [],
   "source": [
    "# conversation id is the original tweet, if this is the same or different from the tweet id could be significant\n",
    "\n",
    "tweet_fields = [\"author_id\", \n",
    "                \"created_at\", \n",
    "                \"conversation_id\", \n",
    "                \"context_annotations\",\n",
    "                \"edit_history_tweet_ids\",\n",
    "                \"attachments\",\n",
    "                \"entities\",\n",
    "                \"in_reply_to_user_id\",\n",
    "                 \"possibly_sensitive\",\n",
    "                 \"public_metrics\",\n",
    "                 \"lang\",\n",
    "                 \"referenced_tweets\",\n",
    "                 \"reply_settings\",\n",
    "                 \"source\"\n",
    "                 ]"
   ]
  },
  {
   "cell_type": "code",
   "execution_count": 9,
   "id": "c7092391",
   "metadata": {},
   "outputs": [],
   "source": [
    "def retrieve_tweets(index_list):\n",
    "    list_of_tweets = []\n",
    "    try:\n",
    "        tweets = client.get_tweets(ids = index_list, tweet_fields = tweet_fields)\n",
    "        for tweet in tweets.data:\n",
    "            current_tweet = {\n",
    "                'tweet_id': tweet.id,\n",
    "                'text': tweet.text,\n",
    "                'author_id': tweet.author_id,\n",
    "                'created_at': tweet.created_at or np.nan,\n",
    "                'conversation_id': tweet.conversation_id or np.nan,\n",
    "                'entities': tweet.entities or np.nan,\n",
    "                'context_annotations': tweet.context_annotations or np.nan,\n",
    "                \"edit_history_tweet_ids\": tweet.edit_history_tweet_ids or np.nan,\n",
    "                \"in_reply_to_user_id\": tweet.in_reply_to_user_id or np.nan,\n",
    "                \"attachments\": tweet.attachments or np.nan,\n",
    "                \"lang\": tweet.lang or np.nan, \n",
    "                \"possibly_sensitive\": tweet.possibly_sensitive or np.nan,\n",
    "                \"public_metrics\": tweet.public_metrics or np.nan,\n",
    "                \"referenced_tweets\": tweet.referenced_tweets or np.nan,\n",
    "                \"reply_settings\": tweet.reply_settings or np.nan,\n",
    "                \"source\": tweet.source or np.nan \n",
    "            }\n",
    "            current_df = pd.DataFrame([current_tweet])\n",
    "            list_of_tweets.append(current_df)\n",
    "        df = pd.concat(list_of_tweets)\n",
    "        return df\n",
    "\n",
    "    except Error as e:\n",
    "        print(\"Error:\", e)\n",
    "        return False"
   ]
  },
  {
   "cell_type": "code",
   "execution_count": 10,
   "id": "bbc85a82",
   "metadata": {},
   "outputs": [],
   "source": [
    "def collect_tweet_dfs(index_list, start_twt):\n",
    "    \n",
    "    end_twt = start_twt + 100\n",
    "\n",
    "    tweet_dfs = []\n",
    "\n",
    "    working = True\n",
    "\n",
    "    while working: \n",
    "        try:\n",
    "            batch = index_list[start_twt: end_twt]\n",
    "            \n",
    "            df =  retrieve_tweets(batch)\n",
    "            tweet_dfs.append(df)\n",
    "            start_twt += 100\n",
    "            end_twt += 100\n",
    "\n",
    "        except Exception as e:\n",
    "            working = False\n",
    "            print(end_twt)\n",
    "            print(e)\n",
    "                 \n",
    "    \n",
    "    total_dfs = pd.concat(tweet_dfs)\n",
    "    return total_dfs"
   ]
  },
  {
   "cell_type": "code",
   "execution_count": 11,
   "id": "095913ba",
   "metadata": {},
   "outputs": [],
   "source": [
    "short_list = [ 910783391829598208,\n",
    " 913032371435433984,\n",
    " 914175720968028161,\n",
    " 910549451214872577,\n",
    " 914176943033024514,\n",
    " 913879154789056512,\n",
    " 914524833047810048,\n",
    " 912385296557334530,\n",
    " 912218742930550784,\n",
    " 912123826217025536]"
   ]
  },
  {
   "cell_type": "code",
   "execution_count": 12,
   "id": "101f25ef",
   "metadata": {},
   "outputs": [
    {
     "name": "stdout",
     "output_type": "stream",
     "text": [
      "200\n",
      "name 'Error' is not defined\n",
      "CPU times: user 55.1 ms, sys: 3.24 ms, total: 58.3 ms\n",
      "Wall time: 507 ms\n"
     ]
    }
   ],
   "source": [
    "%%time\n",
    "df = collect_tweet_dfs(short_list, 0)"
   ]
  },
  {
   "cell_type": "code",
   "execution_count": 13,
   "id": "a30ff50a",
   "metadata": {},
   "outputs": [],
   "source": [
    "df = df.fillna(\"no value\")"
   ]
  },
  {
   "cell_type": "code",
   "execution_count": 14,
   "id": "774b77a3",
   "metadata": {},
   "outputs": [
    {
     "data": {
      "text/html": [
       "<div>\n",
       "<style scoped>\n",
       "    .dataframe tbody tr th:only-of-type {\n",
       "        vertical-align: middle;\n",
       "    }\n",
       "\n",
       "    .dataframe tbody tr th {\n",
       "        vertical-align: top;\n",
       "    }\n",
       "\n",
       "    .dataframe thead th {\n",
       "        text-align: right;\n",
       "    }\n",
       "</style>\n",
       "<table border=\"1\" class=\"dataframe\">\n",
       "  <thead>\n",
       "    <tr style=\"text-align: right;\">\n",
       "      <th></th>\n",
       "      <th>tweet_id</th>\n",
       "      <th>text</th>\n",
       "      <th>author_id</th>\n",
       "      <th>created_at</th>\n",
       "      <th>conversation_id</th>\n",
       "      <th>entities</th>\n",
       "      <th>context_annotations</th>\n",
       "      <th>edit_history_tweet_ids</th>\n",
       "      <th>in_reply_to_user_id</th>\n",
       "      <th>attachments</th>\n",
       "      <th>lang</th>\n",
       "      <th>possibly_sensitive</th>\n",
       "      <th>public_metrics</th>\n",
       "      <th>referenced_tweets</th>\n",
       "      <th>reply_settings</th>\n",
       "      <th>source</th>\n",
       "    </tr>\n",
       "  </thead>\n",
       "  <tbody>\n",
       "    <tr>\n",
       "      <th>0</th>\n",
       "      <td>914175720968028161</td>\n",
       "      <td>@alan5422 @nytimes U.S. boots have been on the...</td>\n",
       "      <td>241033134</td>\n",
       "      <td>2017-09-30 17:10:51+00:00</td>\n",
       "      <td>914109786341429248</td>\n",
       "      <td>{'urls': [{'start': 119, 'end': 142, 'url': 'h...</td>\n",
       "      <td>[{'domain': {'id': '47', 'name': 'Brand', 'des...</td>\n",
       "      <td>[914175720968028161]</td>\n",
       "      <td>588769770.0</td>\n",
       "      <td>{'media_keys': ['3_914175714278105088']}</td>\n",
       "      <td>en</td>\n",
       "      <td>no value</td>\n",
       "      <td>{'retweet_count': 0, 'reply_count': 1, 'like_c...</td>\n",
       "      <td>[(type, id), (type, id)]</td>\n",
       "      <td>everyone</td>\n",
       "      <td>Twitter for iPhone</td>\n",
       "    </tr>\n",
       "    <tr>\n",
       "      <th>0</th>\n",
       "      <td>910549451214872577</td>\n",
       "      <td>Hurricane Maria is ravaging the same islands I...</td>\n",
       "      <td>463325432</td>\n",
       "      <td>2017-09-20 17:01:21+00:00</td>\n",
       "      <td>910549451214872577</td>\n",
       "      <td>{'urls': [{'start': 91, 'end': 114, 'url': 'ht...</td>\n",
       "      <td>[{'domain': {'id': '29', 'name': 'Events [Enti...</td>\n",
       "      <td>[910549451214872577]</td>\n",
       "      <td>no value</td>\n",
       "      <td>no value</td>\n",
       "      <td>en</td>\n",
       "      <td>no value</td>\n",
       "      <td>{'retweet_count': 0, 'reply_count': 0, 'like_c...</td>\n",
       "      <td>no value</td>\n",
       "      <td>everyone</td>\n",
       "      <td>Twitter Web Client</td>\n",
       "    </tr>\n",
       "    <tr>\n",
       "      <th>0</th>\n",
       "      <td>913879154789056512</td>\n",
       "      <td>RT @JRodzMIA: #SanLorenzo #PuertoRico left in ...</td>\n",
       "      <td>798303441802186752</td>\n",
       "      <td>2017-09-29 21:32:24+00:00</td>\n",
       "      <td>913879154789056512</td>\n",
       "      <td>{'annotations': [{'start': 15, 'end': 24, 'pro...</td>\n",
       "      <td>no value</td>\n",
       "      <td>[913879154789056512]</td>\n",
       "      <td>no value</td>\n",
       "      <td>no value</td>\n",
       "      <td>en</td>\n",
       "      <td>no value</td>\n",
       "      <td>{'retweet_count': 1, 'reply_count': 0, 'like_c...</td>\n",
       "      <td>[(type, id)]</td>\n",
       "      <td>everyone</td>\n",
       "      <td>Twitter for iPhone</td>\n",
       "    </tr>\n",
       "    <tr>\n",
       "      <th>0</th>\n",
       "      <td>912385296557334530</td>\n",
       "      <td>RT @Dixiepro: Is our Government really going f...</td>\n",
       "      <td>101938339</td>\n",
       "      <td>2017-09-25 18:36:20+00:00</td>\n",
       "      <td>912385296557334530</td>\n",
       "      <td>{'annotations': [{'start': 69, 'end': 70, 'pro...</td>\n",
       "      <td>[{'domain': {'id': '29', 'name': 'Events [Enti...</td>\n",
       "      <td>[912385296557334530]</td>\n",
       "      <td>no value</td>\n",
       "      <td>no value</td>\n",
       "      <td>en</td>\n",
       "      <td>no value</td>\n",
       "      <td>{'retweet_count': 1, 'reply_count': 0, 'like_c...</td>\n",
       "      <td>[(type, id)]</td>\n",
       "      <td>everyone</td>\n",
       "      <td>Twitter for iPad</td>\n",
       "    </tr>\n",
       "    <tr>\n",
       "      <th>0</th>\n",
       "      <td>912218742930550784</td>\n",
       "      <td>RT @USDAFoodSafety: Currently affected by a po...</td>\n",
       "      <td>59714064</td>\n",
       "      <td>2017-09-25 07:34:31+00:00</td>\n",
       "      <td>912218742930550784</td>\n",
       "      <td>{'annotations': [{'start': 132, 'end': 138, 'p...</td>\n",
       "      <td>no value</td>\n",
       "      <td>[912218742930550784]</td>\n",
       "      <td>no value</td>\n",
       "      <td>no value</td>\n",
       "      <td>en</td>\n",
       "      <td>no value</td>\n",
       "      <td>{'retweet_count': 49, 'reply_count': 0, 'like_...</td>\n",
       "      <td>[(type, id)]</td>\n",
       "      <td>everyone</td>\n",
       "      <td>Twitter Web Client</td>\n",
       "    </tr>\n",
       "  </tbody>\n",
       "</table>\n",
       "</div>"
      ],
      "text/plain": [
       "             tweet_id                                               text  \\\n",
       "0  914175720968028161  @alan5422 @nytimes U.S. boots have been on the...   \n",
       "0  910549451214872577  Hurricane Maria is ravaging the same islands I...   \n",
       "0  913879154789056512  RT @JRodzMIA: #SanLorenzo #PuertoRico left in ...   \n",
       "0  912385296557334530  RT @Dixiepro: Is our Government really going f...   \n",
       "0  912218742930550784  RT @USDAFoodSafety: Currently affected by a po...   \n",
       "\n",
       "            author_id                created_at     conversation_id  \\\n",
       "0           241033134 2017-09-30 17:10:51+00:00  914109786341429248   \n",
       "0           463325432 2017-09-20 17:01:21+00:00  910549451214872577   \n",
       "0  798303441802186752 2017-09-29 21:32:24+00:00  913879154789056512   \n",
       "0           101938339 2017-09-25 18:36:20+00:00  912385296557334530   \n",
       "0            59714064 2017-09-25 07:34:31+00:00  912218742930550784   \n",
       "\n",
       "                                            entities  \\\n",
       "0  {'urls': [{'start': 119, 'end': 142, 'url': 'h...   \n",
       "0  {'urls': [{'start': 91, 'end': 114, 'url': 'ht...   \n",
       "0  {'annotations': [{'start': 15, 'end': 24, 'pro...   \n",
       "0  {'annotations': [{'start': 69, 'end': 70, 'pro...   \n",
       "0  {'annotations': [{'start': 132, 'end': 138, 'p...   \n",
       "\n",
       "                                 context_annotations edit_history_tweet_ids  \\\n",
       "0  [{'domain': {'id': '47', 'name': 'Brand', 'des...   [914175720968028161]   \n",
       "0  [{'domain': {'id': '29', 'name': 'Events [Enti...   [910549451214872577]   \n",
       "0                                           no value   [913879154789056512]   \n",
       "0  [{'domain': {'id': '29', 'name': 'Events [Enti...   [912385296557334530]   \n",
       "0                                           no value   [912218742930550784]   \n",
       "\n",
       "  in_reply_to_user_id                               attachments lang  \\\n",
       "0         588769770.0  {'media_keys': ['3_914175714278105088']}   en   \n",
       "0            no value                                  no value   en   \n",
       "0            no value                                  no value   en   \n",
       "0            no value                                  no value   en   \n",
       "0            no value                                  no value   en   \n",
       "\n",
       "  possibly_sensitive                                     public_metrics  \\\n",
       "0           no value  {'retweet_count': 0, 'reply_count': 1, 'like_c...   \n",
       "0           no value  {'retweet_count': 0, 'reply_count': 0, 'like_c...   \n",
       "0           no value  {'retweet_count': 1, 'reply_count': 0, 'like_c...   \n",
       "0           no value  {'retweet_count': 1, 'reply_count': 0, 'like_c...   \n",
       "0           no value  {'retweet_count': 49, 'reply_count': 0, 'like_...   \n",
       "\n",
       "          referenced_tweets reply_settings              source  \n",
       "0  [(type, id), (type, id)]       everyone  Twitter for iPhone  \n",
       "0                  no value       everyone  Twitter Web Client  \n",
       "0              [(type, id)]       everyone  Twitter for iPhone  \n",
       "0              [(type, id)]       everyone    Twitter for iPad  \n",
       "0              [(type, id)]       everyone  Twitter Web Client  "
      ]
     },
     "execution_count": 14,
     "metadata": {},
     "output_type": "execute_result"
    }
   ],
   "source": [
    "df.head()"
   ]
  },
  {
   "cell_type": "code",
   "execution_count": 15,
   "id": "431eded6",
   "metadata": {},
   "outputs": [
    {
     "data": {
      "text/plain": [
       "(6, 16)"
      ]
     },
     "execution_count": 15,
     "metadata": {},
     "output_type": "execute_result"
    }
   ],
   "source": [
    "df.shape"
   ]
  },
  {
   "cell_type": "code",
   "execution_count": 16,
   "id": "0dddb6b1",
   "metadata": {},
   "outputs": [
    {
     "ename": "NameError",
     "evalue": "name 'df_' is not defined",
     "output_type": "error",
     "traceback": [
      "\u001b[0;31m---------------------------------------------------------------------------\u001b[0m",
      "\u001b[0;31mNameError\u001b[0m                                 Traceback (most recent call last)",
      "Cell \u001b[0;32mIn [16], line 1\u001b[0m\n\u001b[0;32m----> 1\u001b[0m df_ \u001b[38;5;241m=\u001b[39m \u001b[43mdf_\u001b[49m[[\u001b[38;5;124m'\u001b[39m\u001b[38;5;124mtweet_id\u001b[39m\u001b[38;5;124m'\u001b[39m, \u001b[38;5;124m'\u001b[39m\u001b[38;5;124mclass_label\u001b[39m\u001b[38;5;124m'\u001b[39m]]\n",
      "\u001b[0;31mNameError\u001b[0m: name 'df_' is not defined"
     ]
    }
   ],
   "source": [
    "df_ = df_[['tweet_id', 'class_label']]"
   ]
  },
  {
   "cell_type": "code",
   "execution_count": null,
   "id": "4665a84a",
   "metadata": {},
   "outputs": [],
   "source": [
    "df_full = df_.merge(df, on='tweet_id', how='outer')"
   ]
  },
  {
   "cell_type": "code",
   "execution_count": null,
   "id": "b630b49a",
   "metadata": {},
   "outputs": [],
   "source": [
    "df_full.shape"
   ]
  },
  {
   "cell_type": "code",
   "execution_count": null,
   "id": "fa341283",
   "metadata": {},
   "outputs": [],
   "source": [
    "# df_full = df_full.dropna()\n",
    "# df_full.shape"
   ]
  },
  {
   "cell_type": "code",
   "execution_count": null,
   "id": "d8b22ddb",
   "metadata": {},
   "outputs": [],
   "source": [
    "df_full.head()"
   ]
  },
  {
   "cell_type": "code",
   "execution_count": null,
   "id": "478a577a",
   "metadata": {},
   "outputs": [],
   "source": [
    "27443 - 18787"
   ]
  },
  {
   "cell_type": "code",
   "execution_count": null,
   "id": "5d1a547b",
   "metadata": {},
   "outputs": [],
   "source": [
    "df_full.shape"
   ]
  },
  {
   "cell_type": "code",
   "execution_count": null,
   "id": "3f4b3cda",
   "metadata": {},
   "outputs": [],
   "source": [
    "df_created = df_full[['tweet_id', 'class_label', 'text', 'created_at']]"
   ]
  },
  {
   "cell_type": "code",
   "execution_count": null,
   "id": "84834187",
   "metadata": {},
   "outputs": [],
   "source": [
    "df_created.shape"
   ]
  },
  {
   "cell_type": "code",
   "execution_count": null,
   "id": "a4ee7ee6",
   "metadata": {},
   "outputs": [],
   "source": [
    "# df_full.to_csv('labeled_with_features.csv', index=False)"
   ]
  },
  {
   "cell_type": "code",
   "execution_count": null,
   "id": "63353f1e",
   "metadata": {},
   "outputs": [],
   "source": [
    "df_3 = df_created[df_created['created_at'] == datetime.isnat()]\n",
    "df_3.shape"
   ]
  },
  {
   "cell_type": "code",
   "execution_count": null,
   "id": "81d6425c",
   "metadata": {},
   "outputs": [],
   "source": [
    "list(df_created['created_at'].unique())"
   ]
  },
  {
   "cell_type": "code",
   "execution_count": null,
   "id": "8c601bd8",
   "metadata": {},
   "outputs": [],
   "source": [
    "times = df_3['created_at'].astype('str')"
   ]
  },
  {
   "cell_type": "code",
   "execution_count": null,
   "id": "03c7a865",
   "metadata": {},
   "outputs": [],
   "source": [
    "times"
   ]
  },
  {
   "cell_type": "code",
   "execution_count": null,
   "id": "b00c212e",
   "metadata": {},
   "outputs": [],
   "source": []
  },
  {
   "cell_type": "code",
   "execution_count": null,
   "id": "f0a77495",
   "metadata": {},
   "outputs": [],
   "source": []
  },
  {
   "cell_type": "code",
   "execution_count": null,
   "id": "bcb5cdb6",
   "metadata": {},
   "outputs": [],
   "source": []
  },
  {
   "cell_type": "code",
   "execution_count": null,
   "id": "c9e72c6e",
   "metadata": {},
   "outputs": [],
   "source": []
  },
  {
   "cell_type": "code",
   "execution_count": null,
   "id": "3319d251",
   "metadata": {},
   "outputs": [],
   "source": [
    "# d = \"BAM!  \" * 1000\n",
    "# print(d)"
   ]
  },
  {
   "cell_type": "code",
   "execution_count": null,
   "id": "f35da70a",
   "metadata": {},
   "outputs": [],
   "source": []
  }
 ],
 "metadata": {
  "kernelspec": {
   "display_name": "Python 3 (ipykernel)",
   "language": "python",
   "name": "python3"
  },
  "language_info": {
   "codemirror_mode": {
    "name": "ipython",
    "version": 3
   },
   "file_extension": ".py",
   "mimetype": "text/x-python",
   "name": "python",
   "nbconvert_exporter": "python",
   "pygments_lexer": "ipython3",
   "version": "3.10.8"
  }
 },
 "nbformat": 4,
 "nbformat_minor": 5
}
