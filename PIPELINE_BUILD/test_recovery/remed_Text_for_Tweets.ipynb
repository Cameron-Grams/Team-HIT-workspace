{
 "cells": [
  {
   "cell_type": "code",
   "execution_count": 1,
   "id": "8ed90e20",
   "metadata": {},
   "outputs": [],
   "source": [
    "import pandas as pd\n",
    "import numpy as np\n",
    "import json\n",
    "import tweepy"
   ]
  },
  {
   "cell_type": "code",
   "execution_count": 2,
   "id": "4dc9e179",
   "metadata": {},
   "outputs": [],
   "source": [
    "import config"
   ]
  },
  {
   "cell_type": "code",
   "execution_count": 3,
   "id": "5c05c21b",
   "metadata": {},
   "outputs": [
    {
     "data": {
      "text/plain": [
       "(27443, 3)"
      ]
     },
     "execution_count": 3,
     "metadata": {},
     "output_type": "execute_result"
    }
   ],
   "source": [
    "# training df of tweet ids and labels \n",
    "df = pd.read_csv('https://raw.githubusercontent.com/Cameron-Grams/Team-HIT-workspace/main/hurricane/website_all_labeled_2016_17_hurricanes.csv'),\n",
    "df = df[0]\n",
    "df.shape"
   ]
  },
  {
   "cell_type": "code",
   "execution_count": 4,
   "id": "255290ce",
   "metadata": {},
   "outputs": [],
   "source": [
    "df_train = df.copy()"
   ]
  },
  {
   "cell_type": "code",
   "execution_count": 5,
   "id": "14fe9a0e",
   "metadata": {},
   "outputs": [],
   "source": [
    "# to avoid scientific notation \n",
    "# df_train['string_ids'] = df['tweet_id'].astype('string')"
   ]
  },
  {
   "cell_type": "code",
   "execution_count": 6,
   "id": "26348153",
   "metadata": {},
   "outputs": [],
   "source": [
    "# list of ids to collect text, author id and created at date\n",
    "tweet_ids = list(df_train['tweet_id'].astype('string'))"
   ]
  },
  {
   "cell_type": "markdown",
   "id": "a0148c33",
   "metadata": {},
   "source": [
    "## Tweepy Client"
   ]
  },
  {
   "cell_type": "code",
   "execution_count": 7,
   "id": "ba32c489",
   "metadata": {},
   "outputs": [],
   "source": [
    "bearer = config.Bearer_Token"
   ]
  },
  {
   "cell_type": "code",
   "execution_count": 8,
   "id": "0686aae9",
   "metadata": {},
   "outputs": [],
   "source": [
    "client = tweepy.Client(bearer_token=bearer, wait_on_rate_limit=True)"
   ]
  },
  {
   "cell_type": "markdown",
   "id": "8d35a9d0",
   "metadata": {},
   "source": [
    "## Get the Text"
   ]
  },
  {
   "cell_type": "code",
   "execution_count": 9,
   "id": "6a73631c",
   "metadata": {},
   "outputs": [],
   "source": [
    "def retrieve_text(index_list):\n",
    "    list_of_tweets = []\n",
    "    try:\n",
    "        tweets = client.get_tweets(ids = index_list, tweet_fields = [\"author_id\", \"created_at\"])\n",
    "        for tweet in tweets.data:\n",
    "            current_tweet = {\n",
    "                'tweet_id': tweet.id,\n",
    "                'text': tweet.text,\n",
    "                'author_id': tweet.author_id,\n",
    "                'created_at': tweet.created_at\n",
    "            }\n",
    "            current_df = pd.DataFrame([current_tweet])\n",
    "            list_of_tweets.append(current_df)\n",
    "        df = pd.concat(list_of_tweets)\n",
    "        return df\n",
    "\n",
    "    except Error as e:\n",
    "        print(\"Error:\", e)\n",
    "        return False"
   ]
  },
  {
   "cell_type": "code",
   "execution_count": 10,
   "id": "b57ea830",
   "metadata": {},
   "outputs": [],
   "source": [
    "def collect_tweet_dfs(index_list, start_twt):\n",
    "    end_twt = start_twt + 100\n",
    "\n",
    "    tweet_dfs = []\n",
    "\n",
    "    working = True\n",
    "\n",
    "    while working: \n",
    "        try:\n",
    "            batch = index_list[start_twt: end_twt]\n",
    "            df =  retrieve_text(batch)\n",
    "            tweet_dfs.append(df)\n",
    "            start_twt += 100\n",
    "            end_twt += 100\n",
    "\n",
    "        except Exception as e:\n",
    "            working = False\n",
    "            print(end_twt)\n",
    "            print(e)\n",
    "                 \n",
    "    \n",
    "    total_dfs = pd.concat(tweet_dfs)\n",
    "    return end_twt, total_dfs"
   ]
  },
  {
   "cell_type": "code",
   "execution_count": 11,
   "id": "e54a8cc0",
   "metadata": {},
   "outputs": [
    {
     "data": {
      "text/html": [
       "<div>\n",
       "<style scoped>\n",
       "    .dataframe tbody tr th:only-of-type {\n",
       "        vertical-align: middle;\n",
       "    }\n",
       "\n",
       "    .dataframe tbody tr th {\n",
       "        vertical-align: top;\n",
       "    }\n",
       "\n",
       "    .dataframe thead th {\n",
       "        text-align: right;\n",
       "    }\n",
       "</style>\n",
       "<table border=\"1\" class=\"dataframe\">\n",
       "  <thead>\n",
       "    <tr style=\"text-align: right;\">\n",
       "      <th></th>\n",
       "      <th>tweet_id</th>\n",
       "      <th>tweet_text</th>\n",
       "      <th>class_label</th>\n",
       "    </tr>\n",
       "  </thead>\n",
       "  <tbody>\n",
       "    <tr>\n",
       "      <th>0</th>\n",
       "      <td>914134332226330625</td>\n",
       "      <td>San Juan: Trump lashes out with good reason. #...</td>\n",
       "      <td>other_relevant_information</td>\n",
       "    </tr>\n",
       "    <tr>\n",
       "      <th>1</th>\n",
       "      <td>910783670134476800</td>\n",
       "      <td>Hurricane Maria Live Updates: Catastrophic Flo...</td>\n",
       "      <td>caution_and_advice</td>\n",
       "    </tr>\n",
       "    <tr>\n",
       "      <th>2</th>\n",
       "      <td>912134938727780355</td>\n",
       "      <td>Getting food to the island is, obviously, crit...</td>\n",
       "      <td>rescue_volunteering_or_donation_effort</td>\n",
       "    </tr>\n",
       "  </tbody>\n",
       "</table>\n",
       "</div>"
      ],
      "text/plain": [
       "             tweet_id                                         tweet_text  \\\n",
       "0  914134332226330625  San Juan: Trump lashes out with good reason. #...   \n",
       "1  910783670134476800  Hurricane Maria Live Updates: Catastrophic Flo...   \n",
       "2  912134938727780355  Getting food to the island is, obviously, crit...   \n",
       "\n",
       "                              class_label  \n",
       "0              other_relevant_information  \n",
       "1                      caution_and_advice  \n",
       "2  rescue_volunteering_or_donation_effort  "
      ]
     },
     "execution_count": 11,
     "metadata": {},
     "output_type": "execute_result"
    }
   ],
   "source": [
    "df.head(3)"
   ]
  },
  {
   "cell_type": "code",
   "execution_count": 12,
   "id": "9e69b241",
   "metadata": {},
   "outputs": [],
   "source": [
    "# tweet_index = df['tweet_id']\n",
    "# iteration = 1\n",
    "# df_ = pd.DataFrame()\n",
    "# idx = 0"
   ]
  },
  {
   "cell_type": "code",
   "execution_count": 13,
   "id": "1f73417e",
   "metadata": {},
   "outputs": [],
   "source": [
    "# while idx < df.shape[0]:\n",
    "#     print(\"Starting iteration: \", iteration)\n",
    "#     try:\n",
    "#         end_idx, df_w = collect_tweet_dfs(tweet_index, idx)\n",
    "#         df_ = pd.concat([df_, df_w])\n",
    "#         time.sleep(1)\n",
    "#     except Exception as e:\n",
    "#         idx = end_idx\n",
    "#         time.sleep(910)\n",
    "#         iteration += 1"
   ]
  },
  {
   "cell_type": "code",
   "execution_count": 14,
   "id": "e6587647",
   "metadata": {},
   "outputs": [],
   "source": [
    "# df_.shape"
   ]
  },
  {
   "cell_type": "code",
   "execution_count": null,
   "id": "873c7d2e",
   "metadata": {},
   "outputs": [],
   "source": []
  },
  {
   "cell_type": "code",
   "execution_count": 15,
   "id": "f16884dd",
   "metadata": {
    "scrolled": false
   },
   "outputs": [
    {
     "name": "stdout",
     "output_type": "stream",
     "text": [
      "27600\n",
      "name 'Error' is not defined\n",
      "CPU times: user 17.1 s, sys: 49.2 ms, total: 17.2 s\n",
      "Wall time: 2min 4s\n"
     ]
    }
   ],
   "source": [
    "%%time\n",
    "df_text = collect_tweet_dfs(tweet_ids, 0)"
   ]
  },
  {
   "cell_type": "code",
   "execution_count": 16,
   "id": "ef041f8b",
   "metadata": {},
   "outputs": [
    {
     "data": {
      "text/html": [
       "<div>\n",
       "<style scoped>\n",
       "    .dataframe tbody tr th:only-of-type {\n",
       "        vertical-align: middle;\n",
       "    }\n",
       "\n",
       "    .dataframe tbody tr th {\n",
       "        vertical-align: top;\n",
       "    }\n",
       "\n",
       "    .dataframe thead th {\n",
       "        text-align: right;\n",
       "    }\n",
       "</style>\n",
       "<table border=\"1\" class=\"dataframe\">\n",
       "  <thead>\n",
       "    <tr style=\"text-align: right;\">\n",
       "      <th></th>\n",
       "      <th>tweet_id</th>\n",
       "      <th>text</th>\n",
       "      <th>author_id</th>\n",
       "      <th>created_at</th>\n",
       "    </tr>\n",
       "  </thead>\n",
       "  <tbody>\n",
       "    <tr>\n",
       "      <th>0</th>\n",
       "      <td>910783670134476800</td>\n",
       "      <td>\"Hurricane Maria Live Updates: Catastrophic Fl...</td>\n",
       "      <td>627954585</td>\n",
       "      <td>2017-09-21 08:32:03+00:00</td>\n",
       "    </tr>\n",
       "    <tr>\n",
       "      <th>0</th>\n",
       "      <td>912134938727780355</td>\n",
       "      <td>Getting food to the island is, obviously, crit...</td>\n",
       "      <td>543450752</td>\n",
       "      <td>2017-09-25 02:01:30+00:00</td>\n",
       "    </tr>\n",
       "    <tr>\n",
       "      <th>0</th>\n",
       "      <td>910669838842056704</td>\n",
       "      <td>My heart breaks for the families in Puerto Ric...</td>\n",
       "      <td>3181770608</td>\n",
       "      <td>2017-09-21 00:59:43+00:00</td>\n",
       "    </tr>\n",
       "    <tr>\n",
       "      <th>0</th>\n",
       "      <td>912287091026997248</td>\n",
       "      <td>RT @dreynders: #B-FAST sending medical, recons...</td>\n",
       "      <td>3730165402</td>\n",
       "      <td>2017-09-25 12:06:06+00:00</td>\n",
       "    </tr>\n",
       "    <tr>\n",
       "      <th>0</th>\n",
       "      <td>914175720968028161</td>\n",
       "      <td>@alan5422 @nytimes U.S. boots have been on the...</td>\n",
       "      <td>241033134</td>\n",
       "      <td>2017-09-30 17:10:51+00:00</td>\n",
       "    </tr>\n",
       "  </tbody>\n",
       "</table>\n",
       "</div>"
      ],
      "text/plain": [
       "             tweet_id                                               text  \\\n",
       "0  910783670134476800  \"Hurricane Maria Live Updates: Catastrophic Fl...   \n",
       "0  912134938727780355  Getting food to the island is, obviously, crit...   \n",
       "0  910669838842056704  My heart breaks for the families in Puerto Ric...   \n",
       "0  912287091026997248  RT @dreynders: #B-FAST sending medical, recons...   \n",
       "0  914175720968028161  @alan5422 @nytimes U.S. boots have been on the...   \n",
       "\n",
       "    author_id                created_at  \n",
       "0   627954585 2017-09-21 08:32:03+00:00  \n",
       "0   543450752 2017-09-25 02:01:30+00:00  \n",
       "0  3181770608 2017-09-21 00:59:43+00:00  \n",
       "0  3730165402 2017-09-25 12:06:06+00:00  \n",
       "0   241033134 2017-09-30 17:10:51+00:00  "
      ]
     },
     "execution_count": 16,
     "metadata": {},
     "output_type": "execute_result"
    }
   ],
   "source": [
    "df_text[1].head()"
   ]
  },
  {
   "cell_type": "code",
   "execution_count": 17,
   "id": "9cbbf83b",
   "metadata": {},
   "outputs": [
    {
     "data": {
      "text/plain": [
       "(27600,\n",
       "               tweet_id                                               text  \\\n",
       " 0   910783670134476800  \"Hurricane Maria Live Updates: Catastrophic Fl...   \n",
       " 0   912134938727780355  Getting food to the island is, obviously, crit...   \n",
       " 0   910669838842056704  My heart breaks for the families in Puerto Ric...   \n",
       " 0   912287091026997248  RT @dreynders: #B-FAST sending medical, recons...   \n",
       " 0   914175720968028161  @alan5422 @nytimes U.S. boots have been on the...   \n",
       " ..                 ...                                                ...   \n",
       " 0   783391937004838921  That's scary!!! 🙏🏻 praying for everyone's safe...   \n",
       " 0   783870371887853568  RT @AlishaLaventure: The damage in #Haiti is h...   \n",
       " 0   783699222402957317  REPORTS: Hurricane Matthew kills at least 10 w...   \n",
       " 0   783399699994648576  Hurricane-hit southern Haiti cut off after bri...   \n",
       " 0   783885207514394624  Retweeted Al Jazeera News (@AJENews):\\n\\nSome ...   \n",
       " \n",
       "      author_id                created_at  \n",
       " 0    627954585 2017-09-21 08:32:03+00:00  \n",
       " 0    543450752 2017-09-25 02:01:30+00:00  \n",
       " 0   3181770608 2017-09-21 00:59:43+00:00  \n",
       " 0   3730165402 2017-09-25 12:06:06+00:00  \n",
       " 0    241033134 2017-09-30 17:10:51+00:00  \n",
       " ..         ...                       ...  \n",
       " 0     45278113 2016-10-04 19:42:47+00:00  \n",
       " 0    338774541 2016-10-06 03:23:54+00:00  \n",
       " 0    345161879 2016-10-05 16:03:49+00:00  \n",
       " 0    119807651 2016-10-04 20:13:37+00:00  \n",
       " 0    252147867 2016-10-06 04:22:52+00:00  \n",
       " \n",
       " [18663 rows x 4 columns])"
      ]
     },
     "execution_count": 17,
     "metadata": {},
     "output_type": "execute_result"
    }
   ],
   "source": [
    "df_text"
   ]
  },
  {
   "cell_type": "code",
   "execution_count": 18,
   "id": "1a3b526a",
   "metadata": {},
   "outputs": [],
   "source": [
    "# df_text.shape"
   ]
  },
  {
   "cell_type": "code",
   "execution_count": 19,
   "id": "05e8a580",
   "metadata": {},
   "outputs": [],
   "source": [
    "# df_text.to_csv('up_to_9400.csv')"
   ]
  },
  {
   "cell_type": "code",
   "execution_count": 20,
   "id": "6b9302ee",
   "metadata": {},
   "outputs": [],
   "source": [
    "# %%time\n",
    "# df_text_2 = collect_tweet_dfs(tweet_ids, 9400)"
   ]
  },
  {
   "cell_type": "code",
   "execution_count": 21,
   "id": "8ee9c10d",
   "metadata": {},
   "outputs": [],
   "source": [
    "# last index number 39500\n",
    "# df_text_2.to_csv('from_9400_to_39500.csv')"
   ]
  },
  {
   "cell_type": "code",
   "execution_count": 22,
   "id": "b1228191",
   "metadata": {},
   "outputs": [],
   "source": [
    "# df_text_2.shape"
   ]
  },
  {
   "cell_type": "code",
   "execution_count": 23,
   "id": "1f5bee21",
   "metadata": {},
   "outputs": [],
   "source": [
    "# %%time\n",
    "# df_text_3 = collect_tweet_dfs(tweet_ids, 39500)"
   ]
  },
  {
   "cell_type": "code",
   "execution_count": 24,
   "id": "41d6439e",
   "metadata": {},
   "outputs": [],
   "source": [
    "# df_text_3.shape"
   ]
  },
  {
   "cell_type": "code",
   "execution_count": 25,
   "id": "7651949c",
   "metadata": {},
   "outputs": [],
   "source": [
    "# df_text_3.to_csv('from_39500_to_53700.csv')"
   ]
  },
  {
   "cell_type": "markdown",
   "id": "068a361d",
   "metadata": {},
   "source": [
    "## Combine the text DataFrames"
   ]
  },
  {
   "cell_type": "code",
   "execution_count": 26,
   "id": "4628bd8b",
   "metadata": {},
   "outputs": [],
   "source": [
    "# df1 = pd.read_csv('up_to_9400.csv')\n",
    "# df2 = pd.read_csv('from_9400_to_39500.csv')\n",
    "# df3 = pd.read_csv('from_39500_to_53700.csv')"
   ]
  },
  {
   "cell_type": "code",
   "execution_count": 27,
   "id": "b7d70e07",
   "metadata": {},
   "outputs": [],
   "source": [
    "# df_all = pd.concat([df1, df2, df3])\n",
    "# df_all.shape"
   ]
  },
  {
   "cell_type": "code",
   "execution_count": 28,
   "id": "d2932c4d",
   "metadata": {},
   "outputs": [],
   "source": [
    "# df_main = df_train.merge(df_all, on = 'tweet_id', how = 'outer')\n",
    "# df_main.shape"
   ]
  },
  {
   "cell_type": "code",
   "execution_count": 29,
   "id": "10d3e018",
   "metadata": {},
   "outputs": [],
   "source": [
    "# # full collection of labels and text\n",
    "# df_main = df_main.drop('Unnamed: 0', axis = 1)\n",
    "# df_main.head()"
   ]
  },
  {
   "cell_type": "code",
   "execution_count": 30,
   "id": "1f2e3ddd",
   "metadata": {},
   "outputs": [],
   "source": [
    "# df_main.to_csv('all_tweets_with_nan.csv')"
   ]
  },
  {
   "cell_type": "code",
   "execution_count": 31,
   "id": "54c133df",
   "metadata": {},
   "outputs": [],
   "source": [
    "# from merges of text df = 37469\n",
    "# from original df = 53531"
   ]
  },
  {
   "cell_type": "code",
   "execution_count": 32,
   "id": "f6a35625",
   "metadata": {},
   "outputs": [],
   "source": [
    "# df_final = df_main.dropna()\n",
    "# df_final.shape"
   ]
  },
  {
   "cell_type": "code",
   "execution_count": 33,
   "id": "eabc21ce",
   "metadata": {},
   "outputs": [],
   "source": [
    "#df_final.head()"
   ]
  },
  {
   "cell_type": "code",
   "execution_count": 34,
   "id": "807d74ff",
   "metadata": {},
   "outputs": [],
   "source": [
    "# df_final.to_csv('all_tweets_no_nan.csv')"
   ]
  },
  {
   "cell_type": "code",
   "execution_count": 35,
   "id": "e84c37b7",
   "metadata": {},
   "outputs": [],
   "source": [
    "# # maximum and minimum of tweet text lengths\n",
    "# list_text = list(df_final['text'])\n",
    "# tweet_lengths = [ len(x) for x in list_text]\n",
    "# max(tweet_lengths), min(tweet_lengths)"
   ]
  },
  {
   "cell_type": "code",
   "execution_count": null,
   "id": "03e001ce",
   "metadata": {},
   "outputs": [],
   "source": []
  }
 ],
 "metadata": {
  "kernelspec": {
   "display_name": "Python 3 (ipykernel)",
   "language": "python",
   "name": "python3"
  },
  "language_info": {
   "codemirror_mode": {
    "name": "ipython",
    "version": 3
   },
   "file_extension": ".py",
   "mimetype": "text/x-python",
   "name": "python",
   "nbconvert_exporter": "python",
   "pygments_lexer": "ipython3",
   "version": "3.10.8"
  }
 },
 "nbformat": 4,
 "nbformat_minor": 5
}
