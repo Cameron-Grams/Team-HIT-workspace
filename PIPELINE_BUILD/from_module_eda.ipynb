{
 "cells": [
  {
   "cell_type": "code",
   "execution_count": 1,
   "id": "4cb0eb56",
   "metadata": {},
   "outputs": [],
   "source": [
    "import pandas as pd\n",
    "import numpy as np"
   ]
  },
  {
   "cell_type": "code",
   "execution_count": 2,
   "id": "8fa995c9",
   "metadata": {},
   "outputs": [],
   "source": [
    "import tqdm\n",
    "import time\n",
    "import tweepy\n",
    "import seaborn as sns\n",
    "import config"
   ]
  },
  {
   "cell_type": "code",
   "execution_count": 3,
   "id": "7b28fe95",
   "metadata": {},
   "outputs": [],
   "source": [
    "from data_handler_eda import HurricaneDataHandler as DH\n",
    "from eda import EDA "
   ]
  },
  {
   "cell_type": "code",
   "execution_count": 4,
   "id": "e6a912cf",
   "metadata": {},
   "outputs": [],
   "source": [
    "# short_list = [ 910783391829598208,\n",
    "#  913032371435433984,\n",
    "#  914175720968028161,\n",
    "#  910549451214872577,\n",
    "#  914176943033024514,\n",
    "#  913879154789056512,\n",
    "#  914524833047810048,\n",
    "#  912385296557334530,\n",
    "#  912218742930550784,\n",
    "#  912123826217025536]"
   ]
  },
  {
   "cell_type": "code",
   "execution_count": null,
   "id": "53c8f101",
   "metadata": {},
   "outputs": [],
   "source": [
    "HC = DH()"
   ]
  },
  {
   "cell_type": "code",
   "execution_count": null,
   "id": "4e0416b1",
   "metadata": {},
   "outputs": [],
   "source": [
    "# %%time\n",
    "# df = HC.augment_training_text()"
   ]
  },
  {
   "cell_type": "code",
   "execution_count": null,
   "id": "46e8acac",
   "metadata": {},
   "outputs": [],
   "source": [
    "twts = HC.training_tweet_index\n",
    "type(twts)"
   ]
  },
  {
   "cell_type": "code",
   "execution_count": null,
   "id": "eac656c5",
   "metadata": {},
   "outputs": [],
   "source": [
    "# HC.retrieve_tweets(short_list)"
   ]
  },
  {
   "cell_type": "code",
   "execution_count": null,
   "id": "f7eb82fe",
   "metadata": {},
   "outputs": [],
   "source": [
    "# df = HC.collect_tweet_dfs(list(twts), 0)"
   ]
  },
  {
   "cell_type": "code",
   "execution_count": null,
   "id": "265b7759",
   "metadata": {},
   "outputs": [],
   "source": [
    "# df.shape"
   ]
  },
  {
   "cell_type": "code",
   "execution_count": null,
   "id": "4b12c51a",
   "metadata": {},
   "outputs": [],
   "source": [
    "len(twts)"
   ]
  },
  {
   "cell_type": "code",
   "execution_count": null,
   "id": "fe4c2495",
   "metadata": {},
   "outputs": [],
   "source": [
    "# df = HC.augment_training_text()\n",
    "# df.shape"
   ]
  },
  {
   "cell_type": "code",
   "execution_count": null,
   "id": "edfc1ae9",
   "metadata": {},
   "outputs": [],
   "source": [
    "df = HC.labeled_with_features"
   ]
  },
  {
   "cell_type": "code",
   "execution_count": null,
   "id": "30bd275a",
   "metadata": {},
   "outputs": [],
   "source": [
    "df.to_csv('named_labeled_with_features.csv', index=False)"
   ]
  },
  {
   "cell_type": "code",
   "execution_count": null,
   "id": "e5047229",
   "metadata": {},
   "outputs": [],
   "source": [
    "df.shape"
   ]
  },
  {
   "cell_type": "code",
   "execution_count": null,
   "id": "a2f6d390-c710-4a51-b171-073d68b9a20a",
   "metadata": {},
   "outputs": [],
   "source": [
    "df.head()"
   ]
  },
  {
   "cell_type": "code",
   "execution_count": null,
   "id": "e35a80ce-7480-435a-aeda-c34aef06cd75",
   "metadata": {},
   "outputs": [],
   "source": [
    "type(df.iloc[0, 3])"
   ]
  },
  {
   "cell_type": "code",
   "execution_count": null,
   "id": "1d3ad3f6-4dcc-4ff2-9270-5d04b7894ee2",
   "metadata": {},
   "outputs": [],
   "source": [
    "# EDA.KDE_PLOT()"
   ]
  },
  {
   "cell_type": "code",
   "execution_count": null,
   "id": "563db330-aad2-4966-a9fe-000b108f2372",
   "metadata": {},
   "outputs": [],
   "source": [
    "df['hurricane'].unique()"
   ]
  },
  {
   "cell_type": "code",
   "execution_count": null,
   "id": "91361228-9b33-4f9b-bb82-53688eec3cea",
   "metadata": {},
   "outputs": [],
   "source": []
  },
  {
   "cell_type": "code",
   "execution_count": null,
   "id": "a681586d-c0c0-4653-baaa-814090b65e4a",
   "metadata": {},
   "outputs": [],
   "source": []
  },
  {
   "cell_type": "code",
   "execution_count": null,
   "id": "ea82511f-cccb-4397-a2ca-20a81c5d2e5c",
   "metadata": {},
   "outputs": [],
   "source": []
  },
  {
   "cell_type": "code",
   "execution_count": null,
   "id": "e679c107-683d-4987-8a30-86caa9c3effe",
   "metadata": {},
   "outputs": [],
   "source": []
  }
 ],
 "metadata": {
  "kernelspec": {
   "display_name": "Python 3 (ipykernel)",
   "language": "python",
   "name": "python3"
  },
  "language_info": {
   "codemirror_mode": {
    "name": "ipython",
    "version": 3
   },
   "file_extension": ".py",
   "mimetype": "text/x-python",
   "name": "python",
   "nbconvert_exporter": "python",
   "pygments_lexer": "ipython3",
   "version": "3.10.8"
  }
 },
 "nbformat": 4,
 "nbformat_minor": 5
}
