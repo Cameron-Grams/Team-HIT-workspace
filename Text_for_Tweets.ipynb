{
 "cells": [
  {
   "cell_type": "code",
   "execution_count": 1,
   "id": "8ed90e20",
   "metadata": {},
   "outputs": [],
   "source": [
    "import pandas as pd\n",
    "import numpy as np\n",
    "import json\n",
    "import tweepy"
   ]
  },
  {
   "cell_type": "code",
   "execution_count": 2,
   "id": "4dc9e179",
   "metadata": {},
   "outputs": [],
   "source": [
    "import config"
   ]
  },
  {
   "cell_type": "code",
   "execution_count": 3,
   "id": "5c05c21b",
   "metadata": {},
   "outputs": [
    {
     "data": {
      "text/plain": [
       "(53531, 2)"
      ]
     },
     "execution_count": 3,
     "metadata": {},
     "output_type": "execute_result"
    }
   ],
   "source": [
    "# training df of tweet ids and labels \n",
    "df = pd.read_csv('../all_combined/all_train.tsv', sep='\\t')\n",
    "df.shape"
   ]
  },
  {
   "cell_type": "code",
   "execution_count": 4,
   "id": "255290ce",
   "metadata": {},
   "outputs": [],
   "source": [
    "df_train = df.copy()"
   ]
  },
  {
   "cell_type": "code",
   "execution_count": 5,
   "id": "14fe9a0e",
   "metadata": {},
   "outputs": [],
   "source": [
    "# to avoid scientific notation \n",
    "# df_train['string_ids'] = df['tweet_id'].astype('string')"
   ]
  },
  {
   "cell_type": "code",
   "execution_count": 6,
   "id": "26348153",
   "metadata": {},
   "outputs": [],
   "source": [
    "# list of ids to collect text, author id and created at date\n",
    "tweet_ids = list(df_train['tweet_id'].astype('string'))"
   ]
  },
  {
   "cell_type": "markdown",
   "id": "a0148c33",
   "metadata": {},
   "source": [
    "## Tweepy Client"
   ]
  },
  {
   "cell_type": "code",
   "execution_count": 7,
   "id": "ba32c489",
   "metadata": {},
   "outputs": [],
   "source": [
    "bearer = config.Bearer_token"
   ]
  },
  {
   "cell_type": "code",
   "execution_count": 8,
   "id": "0686aae9",
   "metadata": {},
   "outputs": [],
   "source": [
    "client = tweepy.Client(bearer_token=bearer, wait_on_rate_limit=True)"
   ]
  },
  {
   "cell_type": "markdown",
   "id": "8d35a9d0",
   "metadata": {},
   "source": [
    "## Get the Text"
   ]
  },
  {
   "cell_type": "code",
   "execution_count": 9,
   "id": "6a73631c",
   "metadata": {},
   "outputs": [],
   "source": [
    "def retrieve_text(index_list):\n",
    "    list_of_tweets = []\n",
    "    try:\n",
    "        tweets = client.get_tweets(ids = index_list, tweet_fields = [\"author_id\", \"created_at\"])\n",
    "        for tweet in tweets.data:\n",
    "            current_tweet = {\n",
    "                'tweet_id': tweet.id,\n",
    "                'text': tweet.text,\n",
    "                'author_id': tweet.author_id,\n",
    "                'created_at': tweet.created_at\n",
    "            }\n",
    "            current_df = pd.DataFrame([current_tweet])\n",
    "            list_of_tweets.append(current_df)\n",
    "        df = pd.concat(list_of_tweets)\n",
    "        return df\n",
    "\n",
    "    except Error as e:\n",
    "        print(\"Error:\", e)\n",
    "        return False"
   ]
  },
  {
   "cell_type": "code",
   "execution_count": 10,
   "id": "b57ea830",
   "metadata": {},
   "outputs": [],
   "source": [
    "def collect_tweet_dfs(index_list, start_twt):\n",
    "    end_twt = start_twt + 100\n",
    "\n",
    "    tweet_dfs = []\n",
    "\n",
    "    working = True\n",
    "\n",
    "    while working: \n",
    "        try:\n",
    "            batch = index_list[start_twt: end_twt]\n",
    "            df =  retrieve_text(batch)\n",
    "            tweet_dfs.append(df)\n",
    "            start_twt += 100\n",
    "            end_twt += 100\n",
    "\n",
    "        except Exception as e:\n",
    "            working = False\n",
    "            print(end_twt)\n",
    "            print(e)\n",
    "                 \n",
    "    \n",
    "    total_dfs = pd.concat(tweet_dfs)\n",
    "    return total_dfs"
   ]
  },
  {
   "cell_type": "code",
   "execution_count": 11,
   "id": "f16884dd",
   "metadata": {
    "scrolled": false
   },
   "outputs": [],
   "source": [
    "# %%time\n",
    "# df_text = collect_tweet_dfs(tweet_ids, 0)"
   ]
  },
  {
   "cell_type": "code",
   "execution_count": 12,
   "id": "ef041f8b",
   "metadata": {},
   "outputs": [],
   "source": [
    "# df_text.head()"
   ]
  },
  {
   "cell_type": "code",
   "execution_count": 13,
   "id": "1a3b526a",
   "metadata": {},
   "outputs": [],
   "source": [
    "# df_text.shape"
   ]
  },
  {
   "cell_type": "code",
   "execution_count": 14,
   "id": "05e8a580",
   "metadata": {},
   "outputs": [],
   "source": [
    "# df_text.to_csv('up_to_9400.csv')"
   ]
  },
  {
   "cell_type": "code",
   "execution_count": 15,
   "id": "6b9302ee",
   "metadata": {},
   "outputs": [],
   "source": [
    "# %%time\n",
    "# df_text_2 = collect_tweet_dfs(tweet_ids, 9400)"
   ]
  },
  {
   "cell_type": "code",
   "execution_count": 16,
   "id": "8ee9c10d",
   "metadata": {},
   "outputs": [],
   "source": [
    "# last index number 39500\n",
    "# df_text_2.to_csv('from_9400_to_39500.csv')"
   ]
  },
  {
   "cell_type": "code",
   "execution_count": 17,
   "id": "b1228191",
   "metadata": {},
   "outputs": [],
   "source": [
    "# df_text_2.shape"
   ]
  },
  {
   "cell_type": "code",
   "execution_count": 18,
   "id": "1f5bee21",
   "metadata": {},
   "outputs": [],
   "source": [
    "# %%time\n",
    "# df_text_3 = collect_tweet_dfs(tweet_ids, 39500)"
   ]
  },
  {
   "cell_type": "code",
   "execution_count": 19,
   "id": "41d6439e",
   "metadata": {},
   "outputs": [],
   "source": [
    "# df_text_3.shape"
   ]
  },
  {
   "cell_type": "code",
   "execution_count": 20,
   "id": "7651949c",
   "metadata": {},
   "outputs": [],
   "source": [
    "# df_text_3.to_csv('from_39500_to_53700.csv')"
   ]
  },
  {
   "cell_type": "markdown",
   "id": "068a361d",
   "metadata": {},
   "source": [
    "## Combine the text DataFrames"
   ]
  },
  {
   "cell_type": "code",
   "execution_count": 21,
   "id": "4628bd8b",
   "metadata": {},
   "outputs": [],
   "source": [
    "df1 = pd.read_csv('up_to_9400.csv')\n",
    "df2 = pd.read_csv('from_9400_to_39500.csv')\n",
    "df3 = pd.read_csv('from_39500_to_53700.csv')"
   ]
  },
  {
   "cell_type": "code",
   "execution_count": 22,
   "id": "b7d70e07",
   "metadata": {},
   "outputs": [
    {
     "data": {
      "text/plain": [
       "(37469, 5)"
      ]
     },
     "execution_count": 22,
     "metadata": {},
     "output_type": "execute_result"
    }
   ],
   "source": [
    "df_all = pd.concat([df1, df2, df3])\n",
    "df_all.shape"
   ]
  },
  {
   "cell_type": "code",
   "execution_count": 23,
   "id": "d2932c4d",
   "metadata": {},
   "outputs": [
    {
     "data": {
      "text/plain": [
       "(53531, 6)"
      ]
     },
     "execution_count": 23,
     "metadata": {},
     "output_type": "execute_result"
    }
   ],
   "source": [
    "df_main = df_train.merge(df_all, on = 'tweet_id', how = 'outer')\n",
    "df_main.shape"
   ]
  },
  {
   "cell_type": "code",
   "execution_count": 24,
   "id": "10d3e018",
   "metadata": {},
   "outputs": [
    {
     "data": {
      "text/html": [
       "<div>\n",
       "<style scoped>\n",
       "    .dataframe tbody tr th:only-of-type {\n",
       "        vertical-align: middle;\n",
       "    }\n",
       "\n",
       "    .dataframe tbody tr th {\n",
       "        vertical-align: top;\n",
       "    }\n",
       "\n",
       "    .dataframe thead th {\n",
       "        text-align: right;\n",
       "    }\n",
       "</style>\n",
       "<table border=\"1\" class=\"dataframe\">\n",
       "  <thead>\n",
       "    <tr style=\"text-align: right;\">\n",
       "      <th></th>\n",
       "      <th>tweet_id</th>\n",
       "      <th>class_label</th>\n",
       "      <th>text</th>\n",
       "      <th>author_id</th>\n",
       "      <th>created_at</th>\n",
       "    </tr>\n",
       "  </thead>\n",
       "  <tbody>\n",
       "    <tr>\n",
       "      <th>0</th>\n",
       "      <td>721872405916856321</td>\n",
       "      <td>injured_or_dead_people</td>\n",
       "      <td>Powerful Ecuador quake kills at least 235: POR...</td>\n",
       "      <td>3.334140e+09</td>\n",
       "      <td>2016-04-18 01:26:07+00:00</td>\n",
       "    </tr>\n",
       "    <tr>\n",
       "      <th>1</th>\n",
       "      <td>721920840800018432</td>\n",
       "      <td>rescue_volunteering_or_donation_effort</td>\n",
       "      <td>I'm at awe and saddened with the #EcuadorEarth...</td>\n",
       "      <td>2.519605e+07</td>\n",
       "      <td>2016-04-18 04:38:35+00:00</td>\n",
       "    </tr>\n",
       "    <tr>\n",
       "      <th>2</th>\n",
       "      <td>721851949344256000</td>\n",
       "      <td>sympathy_and_support</td>\n",
       "      <td>NaN</td>\n",
       "      <td>NaN</td>\n",
       "      <td>NaN</td>\n",
       "    </tr>\n",
       "    <tr>\n",
       "      <th>3</th>\n",
       "      <td>721720535030304769</td>\n",
       "      <td>injured_or_dead_people</td>\n",
       "      <td>RT @noticias2000: Ecuador quake death toll has...</td>\n",
       "      <td>4.335623e+07</td>\n",
       "      <td>2016-04-17 15:22:39+00:00</td>\n",
       "    </tr>\n",
       "    <tr>\n",
       "      <th>4</th>\n",
       "      <td>721719197429035008</td>\n",
       "      <td>infrastructure_and_utility_damage</td>\n",
       "      <td>NaN</td>\n",
       "      <td>NaN</td>\n",
       "      <td>NaN</td>\n",
       "    </tr>\n",
       "  </tbody>\n",
       "</table>\n",
       "</div>"
      ],
      "text/plain": [
       "             tweet_id                             class_label  \\\n",
       "0  721872405916856321                  injured_or_dead_people   \n",
       "1  721920840800018432  rescue_volunteering_or_donation_effort   \n",
       "2  721851949344256000                    sympathy_and_support   \n",
       "3  721720535030304769                  injured_or_dead_people   \n",
       "4  721719197429035008       infrastructure_and_utility_damage   \n",
       "\n",
       "                                                text     author_id  \\\n",
       "0  Powerful Ecuador quake kills at least 235: POR...  3.334140e+09   \n",
       "1  I'm at awe and saddened with the #EcuadorEarth...  2.519605e+07   \n",
       "2                                                NaN           NaN   \n",
       "3  RT @noticias2000: Ecuador quake death toll has...  4.335623e+07   \n",
       "4                                                NaN           NaN   \n",
       "\n",
       "                  created_at  \n",
       "0  2016-04-18 01:26:07+00:00  \n",
       "1  2016-04-18 04:38:35+00:00  \n",
       "2                        NaN  \n",
       "3  2016-04-17 15:22:39+00:00  \n",
       "4                        NaN  "
      ]
     },
     "execution_count": 24,
     "metadata": {},
     "output_type": "execute_result"
    }
   ],
   "source": [
    "# full collection of labels and text\n",
    "df_main = df_main.drop('Unnamed: 0', axis = 1)\n",
    "df_main.head()"
   ]
  },
  {
   "cell_type": "code",
   "execution_count": 25,
   "id": "1f2e3ddd",
   "metadata": {},
   "outputs": [],
   "source": [
    "df_main.to_csv('all_tweets_with_nan.csv')"
   ]
  },
  {
   "cell_type": "code",
   "execution_count": 26,
   "id": "54c133df",
   "metadata": {},
   "outputs": [],
   "source": [
    "# from merges of text df = 37469\n",
    "# from original df = 53531"
   ]
  },
  {
   "cell_type": "code",
   "execution_count": 27,
   "id": "f6a35625",
   "metadata": {},
   "outputs": [
    {
     "data": {
      "text/plain": [
       "(37469, 5)"
      ]
     },
     "execution_count": 27,
     "metadata": {},
     "output_type": "execute_result"
    }
   ],
   "source": [
    "df_final = df_main.dropna()\n",
    "df_final.shape"
   ]
  },
  {
   "cell_type": "code",
   "execution_count": 35,
   "id": "eabc21ce",
   "metadata": {},
   "outputs": [
    {
     "data": {
      "text/html": [
       "<div>\n",
       "<style scoped>\n",
       "    .dataframe tbody tr th:only-of-type {\n",
       "        vertical-align: middle;\n",
       "    }\n",
       "\n",
       "    .dataframe tbody tr th {\n",
       "        vertical-align: top;\n",
       "    }\n",
       "\n",
       "    .dataframe thead th {\n",
       "        text-align: right;\n",
       "    }\n",
       "</style>\n",
       "<table border=\"1\" class=\"dataframe\">\n",
       "  <thead>\n",
       "    <tr style=\"text-align: right;\">\n",
       "      <th></th>\n",
       "      <th>tweet_id</th>\n",
       "      <th>class_label</th>\n",
       "      <th>text</th>\n",
       "      <th>author_id</th>\n",
       "      <th>created_at</th>\n",
       "    </tr>\n",
       "  </thead>\n",
       "  <tbody>\n",
       "    <tr>\n",
       "      <th>0</th>\n",
       "      <td>721872405916856321</td>\n",
       "      <td>injured_or_dead_people</td>\n",
       "      <td>Powerful Ecuador quake kills at least 235: POR...</td>\n",
       "      <td>3.334140e+09</td>\n",
       "      <td>2016-04-18 01:26:07+00:00</td>\n",
       "    </tr>\n",
       "    <tr>\n",
       "      <th>1</th>\n",
       "      <td>721920840800018432</td>\n",
       "      <td>rescue_volunteering_or_donation_effort</td>\n",
       "      <td>I'm at awe and saddened with the #EcuadorEarth...</td>\n",
       "      <td>2.519605e+07</td>\n",
       "      <td>2016-04-18 04:38:35+00:00</td>\n",
       "    </tr>\n",
       "    <tr>\n",
       "      <th>3</th>\n",
       "      <td>721720535030304769</td>\n",
       "      <td>injured_or_dead_people</td>\n",
       "      <td>RT @noticias2000: Ecuador quake death toll has...</td>\n",
       "      <td>4.335623e+07</td>\n",
       "      <td>2016-04-17 15:22:39+00:00</td>\n",
       "    </tr>\n",
       "    <tr>\n",
       "      <th>6</th>\n",
       "      <td>722065419276787712</td>\n",
       "      <td>rescue_volunteering_or_donation_effort</td>\n",
       "      <td>RT @thejpc: Israeli relief org already in Japa...</td>\n",
       "      <td>2.923826e+08</td>\n",
       "      <td>2016-04-18 14:13:05+00:00</td>\n",
       "    </tr>\n",
       "    <tr>\n",
       "      <th>7</th>\n",
       "      <td>722204361682743296</td>\n",
       "      <td>rescue_volunteering_or_donation_effort</td>\n",
       "      <td>RT @SamaritansPurse: We are rushing aid to hel...</td>\n",
       "      <td>3.099630e+08</td>\n",
       "      <td>2016-04-18 23:25:12+00:00</td>\n",
       "    </tr>\n",
       "  </tbody>\n",
       "</table>\n",
       "</div>"
      ],
      "text/plain": [
       "             tweet_id                             class_label  \\\n",
       "0  721872405916856321                  injured_or_dead_people   \n",
       "1  721920840800018432  rescue_volunteering_or_donation_effort   \n",
       "3  721720535030304769                  injured_or_dead_people   \n",
       "6  722065419276787712  rescue_volunteering_or_donation_effort   \n",
       "7  722204361682743296  rescue_volunteering_or_donation_effort   \n",
       "\n",
       "                                                text     author_id  \\\n",
       "0  Powerful Ecuador quake kills at least 235: POR...  3.334140e+09   \n",
       "1  I'm at awe and saddened with the #EcuadorEarth...  2.519605e+07   \n",
       "3  RT @noticias2000: Ecuador quake death toll has...  4.335623e+07   \n",
       "6  RT @thejpc: Israeli relief org already in Japa...  2.923826e+08   \n",
       "7  RT @SamaritansPurse: We are rushing aid to hel...  3.099630e+08   \n",
       "\n",
       "                  created_at  \n",
       "0  2016-04-18 01:26:07+00:00  \n",
       "1  2016-04-18 04:38:35+00:00  \n",
       "3  2016-04-17 15:22:39+00:00  \n",
       "6  2016-04-18 14:13:05+00:00  \n",
       "7  2016-04-18 23:25:12+00:00  "
      ]
     },
     "execution_count": 35,
     "metadata": {},
     "output_type": "execute_result"
    }
   ],
   "source": [
    "df_final.head()"
   ]
  },
  {
   "cell_type": "code",
   "execution_count": 28,
   "id": "807d74ff",
   "metadata": {},
   "outputs": [],
   "source": [
    "df_final.to_csv('all_tweets_no_nan.csv')"
   ]
  },
  {
   "cell_type": "code",
   "execution_count": 34,
   "id": "e84c37b7",
   "metadata": {},
   "outputs": [
    {
     "data": {
      "text/plain": [
       "(890, 27)"
      ]
     },
     "execution_count": 34,
     "metadata": {},
     "output_type": "execute_result"
    }
   ],
   "source": [
    "# maximum and minimum of tweet text lengths\n",
    "list_text = list(df_final['text'])\n",
    "tweet_lengths = [ len(x) for x in list_text]\n",
    "max(tweet_lengths), min(tweet_lengths)"
   ]
  },
  {
   "cell_type": "code",
   "execution_count": null,
   "id": "03e001ce",
   "metadata": {},
   "outputs": [],
   "source": []
  }
 ],
 "metadata": {
  "kernelspec": {
   "display_name": "Python 3 (ipykernel)",
   "language": "python",
   "name": "python3"
  },
  "language_info": {
   "codemirror_mode": {
    "name": "ipython",
    "version": 3
   },
   "file_extension": ".py",
   "mimetype": "text/x-python",
   "name": "python",
   "nbconvert_exporter": "python",
   "pygments_lexer": "ipython3",
   "version": "3.10.8"
  }
 },
 "nbformat": 4,
 "nbformat_minor": 5
}
