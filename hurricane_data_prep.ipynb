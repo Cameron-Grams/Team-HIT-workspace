{
 "cells": [
  {
   "cell_type": "code",
   "execution_count": 1,
   "id": "67f0e5bc-2b73-42ff-852f-806ef7ec72fc",
   "metadata": {},
   "outputs": [],
   "source": [
    "import pandas as pd\n",
    "import numpy as np\n",
    "import json\n",
    "import tweepy"
   ]
  },
  {
   "cell_type": "code",
   "execution_count": 2,
   "id": "561060e2-f99d-48fd-932f-bcf20671624a",
   "metadata": {},
   "outputs": [],
   "source": [
    "import config"
   ]
  },
  {
   "cell_type": "markdown",
   "id": "4ca22d4b-4a59-4c38-b6b1-43cffc95c33a",
   "metadata": {},
   "source": [
    "# Configure the initial hurricane datasets"
   ]
  },
  {
   "cell_type": "code",
   "execution_count": 3,
   "id": "2dfa84cb-06b7-47c4-ab70-99b0e0355607",
   "metadata": {},
   "outputs": [
    {
     "data": {
      "text/plain": [
       "(1157, 3)"
      ]
     },
     "execution_count": 3,
     "metadata": {},
     "output_type": "execute_result"
    }
   ],
   "source": [
    "# hurricane Mathew 2016\n",
    "df1 = pd.read_csv('../DisasterTweets/ALL_Huricane/hurricane_matthew_2016/hurricane_matthew_2016_train.tsv', delimiter='\\t')\n",
    "df1.shape"
   ]
  },
  {
   "cell_type": "code",
   "execution_count": 4,
   "id": "b89641b1-8fb0-46d4-b6fc-3db662333bcd",
   "metadata": {},
   "outputs": [
    {
     "name": "stderr",
     "output_type": "stream",
     "text": [
      "/tmp/ipykernel_4689/4006013613.py:1: FutureWarning: The error_bad_lines argument has been deprecated and will be removed in a future version. Use on_bad_lines in the future.\n",
      "\n",
      "\n",
      "  df2 = pd.read_csv('../DisasterTweets/ALL_Huricane/hurricane_irma_2017/hurricane_irma_2017_train.tsv', delimiter='\\t', error_bad_lines=False)\n"
     ]
    },
    {
     "data": {
      "text/plain": [
       "(6579, 3)"
      ]
     },
     "execution_count": 4,
     "metadata": {},
     "output_type": "execute_result"
    }
   ],
   "source": [
    "df2 = pd.read_csv('../DisasterTweets/ALL_Huricane/hurricane_irma_2017/hurricane_irma_2017_train.tsv', delimiter='\\t', error_bad_lines=False)\n",
    "df2.shape"
   ]
  },
  {
   "cell_type": "code",
   "execution_count": 5,
   "id": "5ba12ef0-c4ef-4045-a63c-43108e84515d",
   "metadata": {},
   "outputs": [
    {
     "name": "stderr",
     "output_type": "stream",
     "text": [
      "/tmp/ipykernel_4689/1660572904.py:1: FutureWarning: The error_bad_lines argument has been deprecated and will be removed in a future version. Use on_bad_lines in the future.\n",
      "\n",
      "\n",
      "  df3 = pd.read_csv('../DisasterTweets/ALL_Huricane/hurricane_maria_2017/hurricane_maria_2017_train.tsv', delimiter='\\t', error_bad_lines=False)\n"
     ]
    },
    {
     "data": {
      "text/plain": [
       "(5094, 3)"
      ]
     },
     "execution_count": 5,
     "metadata": {},
     "output_type": "execute_result"
    }
   ],
   "source": [
    "df3 = pd.read_csv('../DisasterTweets/ALL_Huricane/hurricane_maria_2017/hurricane_maria_2017_train.tsv', delimiter='\\t', error_bad_lines=False)\n",
    "df3.shape"
   ]
  },
  {
   "cell_type": "code",
   "execution_count": 6,
   "id": "fd1ffb86-7836-4148-83df-dd1cbcc16c73",
   "metadata": {},
   "outputs": [
    {
     "name": "stderr",
     "output_type": "stream",
     "text": [
      "/tmp/ipykernel_4689/2466011038.py:1: FutureWarning: The error_bad_lines argument has been deprecated and will be removed in a future version. Use on_bad_lines in the future.\n",
      "\n",
      "\n",
      "  df4 = pd.read_csv('../DisasterTweets/ALL_Huricane/hurricane_harvey_2017/hurricane_harvey_2017_train.tsv', delimiter='\\t', error_bad_lines=False)\n"
     ]
    },
    {
     "data": {
      "text/plain": [
       "(6378, 3)"
      ]
     },
     "execution_count": 6,
     "metadata": {},
     "output_type": "execute_result"
    }
   ],
   "source": [
    "df4 = pd.read_csv('../DisasterTweets/ALL_Huricane/hurricane_harvey_2017/hurricane_harvey_2017_train.tsv', delimiter='\\t', error_bad_lines=False)\n",
    "df4.shape"
   ]
  },
  {
   "cell_type": "code",
   "execution_count": 7,
   "id": "90ce5b57-782e-4e7b-9feb-c71817ea8617",
   "metadata": {},
   "outputs": [],
   "source": [
    "df = pd.concat([df1, df2, df3, df4], ignore_index=True)"
   ]
  },
  {
   "cell_type": "code",
   "execution_count": 8,
   "id": "8f5147c3-e7ec-48be-8ec4-8c211ed07da4",
   "metadata": {},
   "outputs": [
    {
     "data": {
      "text/plain": [
       "(19208, 2)"
      ]
     },
     "execution_count": 8,
     "metadata": {},
     "output_type": "execute_result"
    }
   ],
   "source": [
    "# labels and ids\n",
    "df_labels = df[['tweet_id', 'class_label']]\n",
    "df_labels.shape"
   ]
  },
  {
   "cell_type": "code",
   "execution_count": 9,
   "id": "e5d62712-60c0-4ccb-b9da-7247116836b4",
   "metadata": {},
   "outputs": [
    {
     "data": {
      "text/plain": [
       "19208"
      ]
     },
     "execution_count": 9,
     "metadata": {},
     "output_type": "execute_result"
    }
   ],
   "source": [
    "index_list = list(df_labels['tweet_id'])\n",
    "len(index_list)"
   ]
  },
  {
   "cell_type": "markdown",
   "id": "21f418b4-6c53-4437-8699-08912ff16c5d",
   "metadata": {},
   "source": [
    "# Load the additional Tweet features"
   ]
  },
  {
   "cell_type": "code",
   "execution_count": 10,
   "id": "90e4f01f-2ff8-4300-aa6c-349a87a6ee00",
   "metadata": {},
   "outputs": [],
   "source": [
    "client = tweepy.Client( \n",
    "                bearer_token = config.Bearer_token,\n",
    "                consumer_key = config.API_Key,\n",
    "                consumer_secret = config.API_Secret,\n",
    "                access_token = config.Access_Token,\n",
    "                access_token_secret = config.Access_Token_Secret,\n",
    "                wait_on_rate_limit=True\n",
    "         )"
   ]
  },
  {
   "cell_type": "code",
   "execution_count": 11,
   "id": "0ff93945-b89d-4d11-ac7b-b707eb20fa26",
   "metadata": {},
   "outputs": [],
   "source": [
    "tweet_fields = [\"author_id\", \n",
    "                \"created_at\", \n",
    "                \"conversation_id\", \n",
    "                \"context_annotations\",\n",
    "                \"edit_history_tweet_ids\",\n",
    "                \"attachments\",\n",
    "                \"entities\",\n",
    "                \"in_reply_to_user_id\",\n",
    "#                \"non_public_metrics\",\n",
    "#                \"organic_metrics\",\n",
    "                 \"possibly_sensitive\",\n",
    "#                 \"promoted_metrics\",\n",
    "                 \"public_metrics\",\n",
    "                 \"lang\",\n",
    "                 \"referenced_tweets\",\n",
    "                 \"reply_settings\",\n",
    "                 \"source\"\n",
    "                 ]"
   ]
  },
  {
   "cell_type": "code",
   "execution_count": 12,
   "id": "fcf34226-de5c-4d66-868f-a7cc4ad4bdc5",
   "metadata": {},
   "outputs": [],
   "source": [
    "def retrieve_tweets(index_list):\n",
    "    list_of_tweets = []\n",
    "    try:\n",
    "        tweets = client.get_tweets(ids = index_list, tweet_fields = tweet_fields)\n",
    "        for tweet in tweets.data:\n",
    "            current_tweet = {\n",
    "                'tweet_id': tweet.id,\n",
    "                'text': tweet.text,\n",
    "                'author_id': tweet.author_id,\n",
    "                'created_at': tweet.created_at or np.nan,\n",
    "                'conversation_id': tweet.conversation_id or np.nan,\n",
    "                'entities': tweet.entities or np.nan,\n",
    "                'context_annotations': tweet.context_annotations or np.nan,\n",
    "                \"edit_history_tweet_ids\": tweet.edit_history_tweet_ids or np.nan,\n",
    "                \"in_reply_to_user_id\": tweet.in_reply_to_user_id or np.nan,\n",
    "                \"attachments\": tweet.attachments or np.nan,\n",
    "                \n",
    "#                \"non_public_metrics\": tweet.non_public_metrics or np.nan,\n",
    "#                \"organic_metrics\": tweet.organic_metrics or np.nan,  \n",
    "#                \"promoted_metrics\": tweet.promoted_metrics or np.nan,\n",
    "                \n",
    "                \"lang\": tweet.lang or np.nan, \n",
    "                \"possibly_sensitive\": tweet.possibly_sensitive or np.nan,\n",
    "                \"public_metrics\": tweet.public_metrics or np.nan,\n",
    "                \"referenced_tweets\": tweet.referenced_tweets or np.nan,\n",
    "                \"reply_settings\": tweet.reply_settings or np.nan,\n",
    "                \"source\": tweet.source or np.nan \n",
    "            }\n",
    "            current_df = pd.DataFrame([current_tweet])\n",
    "            list_of_tweets.append(current_df)\n",
    "        df = pd.concat(list_of_tweets)\n",
    "        return df\n",
    "\n",
    "    except Error as e:\n",
    "        print(\"Error:\", e)\n",
    "        return False"
   ]
  },
  {
   "cell_type": "code",
   "execution_count": 13,
   "id": "a5596c91-740b-44da-b221-1c5ab7f62535",
   "metadata": {},
   "outputs": [],
   "source": [
    "def collect_tweet_dfs(index_list, start_twt):\n",
    "    \n",
    "    end_twt = start_twt + 100\n",
    "\n",
    "    tweet_dfs = []\n",
    "\n",
    "    working = True\n",
    "\n",
    "    while working: \n",
    "        try:\n",
    "            batch = index_list[start_twt: end_twt]\n",
    "            \n",
    "            df =  retrieve_tweets(batch)\n",
    "            tweet_dfs.append(df)\n",
    "            start_twt += 100\n",
    "            end_twt += 100\n",
    "\n",
    "        except Exception as e:\n",
    "            working = False\n",
    "            print(end_twt)\n",
    "            print(e)\n",
    "                 \n",
    "    \n",
    "    total_dfs = pd.concat(tweet_dfs)\n",
    "    return total_dfs"
   ]
  },
  {
   "cell_type": "code",
   "execution_count": 14,
   "id": "269ae762-15ec-4e98-a863-0bfd97a24014",
   "metadata": {},
   "outputs": [],
   "source": [
    "# %%time\n",
    "# df1 = collect_tweet_dfs(index_list, 0)"
   ]
  },
  {
   "cell_type": "code",
   "execution_count": 15,
   "id": "ad9ec2ca-e88b-4bde-9004-a8b08a4083fa",
   "metadata": {},
   "outputs": [],
   "source": [
    "# df2 = df1.merge(df_labels, on = 'tweet_id', how = 'inner')\n",
    "# df2.shape"
   ]
  },
  {
   "cell_type": "code",
   "execution_count": 17,
   "id": "9bf49179-8a62-4de5-b295-635a44df4cd8",
   "metadata": {},
   "outputs": [],
   "source": [
    "# df2.to_csv('all_hurricanes_tweets_train.csv')"
   ]
  },
  {
   "cell_type": "code",
   "execution_count": null,
   "id": "b14c0002-fb9f-4cfa-8f79-f0a4994bd207",
   "metadata": {},
   "outputs": [],
   "source": []
  }
 ],
 "metadata": {
  "kernelspec": {
   "display_name": "Python 3 (ipykernel)",
   "language": "python",
   "name": "python3"
  },
  "language_info": {
   "codemirror_mode": {
    "name": "ipython",
    "version": 3
   },
   "file_extension": ".py",
   "mimetype": "text/x-python",
   "name": "python",
   "nbconvert_exporter": "python",
   "pygments_lexer": "ipython3",
   "version": "3.10.6"
  }
 },
 "nbformat": 4,
 "nbformat_minor": 5
}
