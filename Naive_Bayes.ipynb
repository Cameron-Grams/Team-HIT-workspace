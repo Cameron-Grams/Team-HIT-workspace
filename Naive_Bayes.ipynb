{
 "cells": [
  {
   "cell_type": "code",
   "execution_count": 1,
   "id": "a3b2031a",
   "metadata": {},
   "outputs": [],
   "source": [
    "import pandas as pd\n",
    "import numpy as np\n",
    "import spacy\n",
    "import re"
   ]
  },
  {
   "cell_type": "code",
   "execution_count": 2,
   "id": "fe6fc795",
   "metadata": {},
   "outputs": [],
   "source": [
    "from sklearn.naive_bayes import MultinomialNB\n",
    "from sklearn.feature_extraction.text import CountVectorizer\n",
    "from sklearn.model_selection import train_test_split\n",
    "from sklearn.metrics import accuracy_score"
   ]
  },
  {
   "cell_type": "code",
   "execution_count": 3,
   "id": "2ad46352",
   "metadata": {},
   "outputs": [],
   "source": [
    "from clean_text import clean_text"
   ]
  },
  {
   "cell_type": "markdown",
   "id": "9b2b8be9",
   "metadata": {},
   "source": [
    "## Inital DataFrame\n",
    "DataFrame of Tweets from 4 hurricanes; training datasets"
   ]
  },
  {
   "cell_type": "code",
   "execution_count": 4,
   "id": "d91ef405",
   "metadata": {},
   "outputs": [
    {
     "data": {
      "text/plain": [
       "(19208, 3)"
      ]
     },
     "execution_count": 4,
     "metadata": {},
     "output_type": "execute_result"
    }
   ],
   "source": [
    "df = pd.read_csv('full_text_only.csv')\n",
    "df.shape"
   ]
  },
  {
   "cell_type": "code",
   "execution_count": 5,
   "id": "e8dc8452",
   "metadata": {},
   "outputs": [
    {
     "data": {
      "text/html": [
       "<div>\n",
       "<style scoped>\n",
       "    .dataframe tbody tr th:only-of-type {\n",
       "        vertical-align: middle;\n",
       "    }\n",
       "\n",
       "    .dataframe tbody tr th {\n",
       "        vertical-align: top;\n",
       "    }\n",
       "\n",
       "    .dataframe thead th {\n",
       "        text-align: right;\n",
       "    }\n",
       "</style>\n",
       "<table border=\"1\" class=\"dataframe\">\n",
       "  <thead>\n",
       "    <tr style=\"text-align: right;\">\n",
       "      <th></th>\n",
       "      <th>tweet_id</th>\n",
       "      <th>tweet_text</th>\n",
       "      <th>class_label</th>\n",
       "    </tr>\n",
       "  </thead>\n",
       "  <tbody>\n",
       "    <tr>\n",
       "      <th>0</th>\n",
       "      <td>783409770493571076</td>\n",
       "      <td>Horrifying. My heart breaks for Haiti. Thinkin...</td>\n",
       "      <td>sympathy_and_support</td>\n",
       "    </tr>\n",
       "    <tr>\n",
       "      <th>1</th>\n",
       "      <td>783683862018818049</td>\n",
       "      <td>Our thoughts and prayers are with those suffer...</td>\n",
       "      <td>sympathy_and_support</td>\n",
       "    </tr>\n",
       "    <tr>\n",
       "      <th>2</th>\n",
       "      <td>784696725285908481</td>\n",
       "      <td>#BreakingNews Hurricane Matthew kills over 800...</td>\n",
       "      <td>injured_or_dead_people</td>\n",
       "    </tr>\n",
       "  </tbody>\n",
       "</table>\n",
       "</div>"
      ],
      "text/plain": [
       "             tweet_id                                         tweet_text  \\\n",
       "0  783409770493571076  Horrifying. My heart breaks for Haiti. Thinkin...   \n",
       "1  783683862018818049  Our thoughts and prayers are with those suffer...   \n",
       "2  784696725285908481  #BreakingNews Hurricane Matthew kills over 800...   \n",
       "\n",
       "              class_label  \n",
       "0    sympathy_and_support  \n",
       "1    sympathy_and_support  \n",
       "2  injured_or_dead_people  "
      ]
     },
     "execution_count": 5,
     "metadata": {},
     "output_type": "execute_result"
    }
   ],
   "source": [
    "df.head(3)"
   ]
  },
  {
   "cell_type": "markdown",
   "id": "85d78a3d",
   "metadata": {},
   "source": [
    "### Establish y labels "
   ]
  },
  {
   "cell_type": "code",
   "execution_count": 6,
   "id": "1b6dcbc3",
   "metadata": {},
   "outputs": [],
   "source": [
    "labels = df['class_label']"
   ]
  },
  {
   "cell_type": "code",
   "execution_count": 7,
   "id": "d56f64f4",
   "metadata": {},
   "outputs": [
    {
     "data": {
      "text/plain": [
       "array(['sympathy_and_support', 'injured_or_dead_people',\n",
       "       'other_relevant_information',\n",
       "       'rescue_volunteering_or_donation_effort',\n",
       "       'infrastructure_and_utility_damage', 'not_humanitarian',\n",
       "       'requests_or_urgent_needs', 'caution_and_advice',\n",
       "       'displaced_people_and_evacuations'], dtype=object)"
      ]
     },
     "execution_count": 7,
     "metadata": {},
     "output_type": "execute_result"
    }
   ],
   "source": [
    "values = labels.unique()\n",
    "values"
   ]
  },
  {
   "cell_type": "code",
   "execution_count": 8,
   "id": "352a6f67",
   "metadata": {},
   "outputs": [],
   "source": [
    "value_obj = {v:i for i, v in enumerate(values)}"
   ]
  },
  {
   "cell_type": "code",
   "execution_count": 9,
   "id": "1c27c603",
   "metadata": {},
   "outputs": [],
   "source": [
    "y = [value_obj[label] for label in labels]"
   ]
  },
  {
   "cell_type": "markdown",
   "id": "a33cd945",
   "metadata": {},
   "source": [
    "### Establish dataset X"
   ]
  },
  {
   "cell_type": "code",
   "execution_count": 10,
   "id": "3a09eaec",
   "metadata": {},
   "outputs": [
    {
     "name": "stdout",
     "output_type": "stream",
     "text": [
      "Completed Text with 19208 vectors.\n",
      "CPU times: user 32.1 s, sys: 172 ms, total: 32.3 s\n",
      "Wall time: 32.3 s\n"
     ]
    }
   ],
   "source": [
    "%%time\n",
    "X_text = clean_text(df['tweet_text'])"
   ]
  },
  {
   "cell_type": "markdown",
   "id": "48f1a9ff",
   "metadata": {},
   "source": [
    "## Count Vectorize Text"
   ]
  },
  {
   "cell_type": "code",
   "execution_count": 11,
   "id": "5d215bfa",
   "metadata": {},
   "outputs": [],
   "source": [
    "vectorizer = CountVectorizer()"
   ]
  },
  {
   "cell_type": "code",
   "execution_count": 12,
   "id": "aaf3333f",
   "metadata": {},
   "outputs": [
    {
     "name": "stdout",
     "output_type": "stream",
     "text": [
      "CPU times: user 220 ms, sys: 16 µs, total: 220 ms\n",
      "Wall time: 220 ms\n"
     ]
    }
   ],
   "source": [
    "%%time\n",
    "X = vectorizer.fit_transform(X_text)"
   ]
  },
  {
   "cell_type": "code",
   "execution_count": 13,
   "id": "c9328cec",
   "metadata": {},
   "outputs": [
    {
     "data": {
      "text/plain": [
       "(19208, 23102)"
      ]
     },
     "execution_count": 13,
     "metadata": {},
     "output_type": "execute_result"
    }
   ],
   "source": [
    "X.shape"
   ]
  },
  {
   "cell_type": "markdown",
   "id": "1430be43",
   "metadata": {},
   "source": [
    "## Product Train, Test split"
   ]
  },
  {
   "cell_type": "code",
   "execution_count": 14,
   "id": "b0dd1671",
   "metadata": {},
   "outputs": [],
   "source": [
    "X_train, X_test, y_train, y_test = train_test_split(X, y)"
   ]
  },
  {
   "cell_type": "markdown",
   "id": "f8d235cd",
   "metadata": {},
   "source": [
    "# Train and model Multinomial Naive Bayes model"
   ]
  },
  {
   "cell_type": "code",
   "execution_count": 15,
   "id": "989ab150",
   "metadata": {},
   "outputs": [],
   "source": [
    "clf = MultinomialNB()"
   ]
  },
  {
   "cell_type": "code",
   "execution_count": 16,
   "id": "618575cb",
   "metadata": {},
   "outputs": [
    {
     "data": {
      "text/html": [
       "<style>#sk-container-id-1 {color: black;background-color: white;}#sk-container-id-1 pre{padding: 0;}#sk-container-id-1 div.sk-toggleable {background-color: white;}#sk-container-id-1 label.sk-toggleable__label {cursor: pointer;display: block;width: 100%;margin-bottom: 0;padding: 0.3em;box-sizing: border-box;text-align: center;}#sk-container-id-1 label.sk-toggleable__label-arrow:before {content: \"▸\";float: left;margin-right: 0.25em;color: #696969;}#sk-container-id-1 label.sk-toggleable__label-arrow:hover:before {color: black;}#sk-container-id-1 div.sk-estimator:hover label.sk-toggleable__label-arrow:before {color: black;}#sk-container-id-1 div.sk-toggleable__content {max-height: 0;max-width: 0;overflow: hidden;text-align: left;background-color: #f0f8ff;}#sk-container-id-1 div.sk-toggleable__content pre {margin: 0.2em;color: black;border-radius: 0.25em;background-color: #f0f8ff;}#sk-container-id-1 input.sk-toggleable__control:checked~div.sk-toggleable__content {max-height: 200px;max-width: 100%;overflow: auto;}#sk-container-id-1 input.sk-toggleable__control:checked~label.sk-toggleable__label-arrow:before {content: \"▾\";}#sk-container-id-1 div.sk-estimator input.sk-toggleable__control:checked~label.sk-toggleable__label {background-color: #d4ebff;}#sk-container-id-1 div.sk-label input.sk-toggleable__control:checked~label.sk-toggleable__label {background-color: #d4ebff;}#sk-container-id-1 input.sk-hidden--visually {border: 0;clip: rect(1px 1px 1px 1px);clip: rect(1px, 1px, 1px, 1px);height: 1px;margin: -1px;overflow: hidden;padding: 0;position: absolute;width: 1px;}#sk-container-id-1 div.sk-estimator {font-family: monospace;background-color: #f0f8ff;border: 1px dotted black;border-radius: 0.25em;box-sizing: border-box;margin-bottom: 0.5em;}#sk-container-id-1 div.sk-estimator:hover {background-color: #d4ebff;}#sk-container-id-1 div.sk-parallel-item::after {content: \"\";width: 100%;border-bottom: 1px solid gray;flex-grow: 1;}#sk-container-id-1 div.sk-label:hover label.sk-toggleable__label {background-color: #d4ebff;}#sk-container-id-1 div.sk-serial::before {content: \"\";position: absolute;border-left: 1px solid gray;box-sizing: border-box;top: 0;bottom: 0;left: 50%;z-index: 0;}#sk-container-id-1 div.sk-serial {display: flex;flex-direction: column;align-items: center;background-color: white;padding-right: 0.2em;padding-left: 0.2em;position: relative;}#sk-container-id-1 div.sk-item {position: relative;z-index: 1;}#sk-container-id-1 div.sk-parallel {display: flex;align-items: stretch;justify-content: center;background-color: white;position: relative;}#sk-container-id-1 div.sk-item::before, #sk-container-id-1 div.sk-parallel-item::before {content: \"\";position: absolute;border-left: 1px solid gray;box-sizing: border-box;top: 0;bottom: 0;left: 50%;z-index: -1;}#sk-container-id-1 div.sk-parallel-item {display: flex;flex-direction: column;z-index: 1;position: relative;background-color: white;}#sk-container-id-1 div.sk-parallel-item:first-child::after {align-self: flex-end;width: 50%;}#sk-container-id-1 div.sk-parallel-item:last-child::after {align-self: flex-start;width: 50%;}#sk-container-id-1 div.sk-parallel-item:only-child::after {width: 0;}#sk-container-id-1 div.sk-dashed-wrapped {border: 1px dashed gray;margin: 0 0.4em 0.5em 0.4em;box-sizing: border-box;padding-bottom: 0.4em;background-color: white;}#sk-container-id-1 div.sk-label label {font-family: monospace;font-weight: bold;display: inline-block;line-height: 1.2em;}#sk-container-id-1 div.sk-label-container {text-align: center;}#sk-container-id-1 div.sk-container {/* jupyter's `normalize.less` sets `[hidden] { display: none; }` but bootstrap.min.css set `[hidden] { display: none !important; }` so we also need the `!important` here to be able to override the default hidden behavior on the sphinx rendered scikit-learn.org. See: https://github.com/scikit-learn/scikit-learn/issues/21755 */display: inline-block !important;position: relative;}#sk-container-id-1 div.sk-text-repr-fallback {display: none;}</style><div id=\"sk-container-id-1\" class=\"sk-top-container\"><div class=\"sk-text-repr-fallback\"><pre>MultinomialNB()</pre><b>In a Jupyter environment, please rerun this cell to show the HTML representation or trust the notebook. <br />On GitHub, the HTML representation is unable to render, please try loading this page with nbviewer.org.</b></div><div class=\"sk-container\" hidden><div class=\"sk-item\"><div class=\"sk-estimator sk-toggleable\"><input class=\"sk-toggleable__control sk-hidden--visually\" id=\"sk-estimator-id-1\" type=\"checkbox\" checked><label for=\"sk-estimator-id-1\" class=\"sk-toggleable__label sk-toggleable__label-arrow\">MultinomialNB</label><div class=\"sk-toggleable__content\"><pre>MultinomialNB()</pre></div></div></div></div></div>"
      ],
      "text/plain": [
       "MultinomialNB()"
      ]
     },
     "execution_count": 16,
     "metadata": {},
     "output_type": "execute_result"
    }
   ],
   "source": [
    "clf.fit(X_train, y_train)"
   ]
  },
  {
   "cell_type": "code",
   "execution_count": 17,
   "id": "869026c3",
   "metadata": {},
   "outputs": [],
   "source": [
    "pred = clf.predict(X_test)"
   ]
  },
  {
   "cell_type": "code",
   "execution_count": 18,
   "id": "43aea19b",
   "metadata": {},
   "outputs": [],
   "source": [
    "# clf.score(pred, y_test)"
   ]
  },
  {
   "cell_type": "code",
   "execution_count": 19,
   "id": "b5d9bd41",
   "metadata": {},
   "outputs": [
    {
     "data": {
      "text/plain": [
       "(4802,)"
      ]
     },
     "execution_count": 19,
     "metadata": {},
     "output_type": "execute_result"
    }
   ],
   "source": [
    "pred.shape"
   ]
  },
  {
   "cell_type": "code",
   "execution_count": 20,
   "id": "d01082fb",
   "metadata": {},
   "outputs": [],
   "source": [
    "model_1 = accuracy_score(y_test, pred)"
   ]
  },
  {
   "cell_type": "code",
   "execution_count": 21,
   "id": "3f418720",
   "metadata": {},
   "outputs": [
    {
     "data": {
      "text/plain": [
       "0.6432736359850062"
      ]
     },
     "execution_count": 21,
     "metadata": {},
     "output_type": "execute_result"
    }
   ],
   "source": [
    "model_1"
   ]
  },
  {
   "cell_type": "markdown",
   "id": "824483e6",
   "metadata": {},
   "source": [
    "## Establish prior counts\n",
    "\n",
    "#### This is wrong; we have data leakage here...."
   ]
  },
  {
   "cell_type": "code",
   "execution_count": 22,
   "id": "0e2ef91a",
   "metadata": {},
   "outputs": [],
   "source": [
    "p_df = df.groupby('class_label').count()"
   ]
  },
  {
   "cell_type": "code",
   "execution_count": 23,
   "id": "19f649ce",
   "metadata": {},
   "outputs": [
    {
     "data": {
      "text/html": [
       "<div>\n",
       "<style scoped>\n",
       "    .dataframe tbody tr th:only-of-type {\n",
       "        vertical-align: middle;\n",
       "    }\n",
       "\n",
       "    .dataframe tbody tr th {\n",
       "        vertical-align: top;\n",
       "    }\n",
       "\n",
       "    .dataframe thead th {\n",
       "        text-align: right;\n",
       "    }\n",
       "</style>\n",
       "<table border=\"1\" class=\"dataframe\">\n",
       "  <thead>\n",
       "    <tr style=\"text-align: right;\">\n",
       "      <th></th>\n",
       "      <th>class_label</th>\n",
       "      <th>tweet_id</th>\n",
       "      <th>tweet_text</th>\n",
       "    </tr>\n",
       "  </thead>\n",
       "  <tbody>\n",
       "    <tr>\n",
       "      <th>0</th>\n",
       "      <td>caution_and_advice</td>\n",
       "      <td>987</td>\n",
       "      <td>987</td>\n",
       "    </tr>\n",
       "    <tr>\n",
       "      <th>1</th>\n",
       "      <td>displaced_people_and_evacuations</td>\n",
       "      <td>1129</td>\n",
       "      <td>1129</td>\n",
       "    </tr>\n",
       "    <tr>\n",
       "      <th>2</th>\n",
       "      <td>infrastructure_and_utility_damage</td>\n",
       "      <td>3293</td>\n",
       "      <td>3293</td>\n",
       "    </tr>\n",
       "    <tr>\n",
       "      <th>3</th>\n",
       "      <td>injured_or_dead_people</td>\n",
       "      <td>1482</td>\n",
       "      <td>1482</td>\n",
       "    </tr>\n",
       "    <tr>\n",
       "      <th>4</th>\n",
       "      <td>not_humanitarian</td>\n",
       "      <td>959</td>\n",
       "      <td>959</td>\n",
       "    </tr>\n",
       "    <tr>\n",
       "      <th>5</th>\n",
       "      <td>other_relevant_information</td>\n",
       "      <td>4214</td>\n",
       "      <td>4214</td>\n",
       "    </tr>\n",
       "    <tr>\n",
       "      <th>6</th>\n",
       "      <td>requests_or_urgent_needs</td>\n",
       "      <td>856</td>\n",
       "      <td>856</td>\n",
       "    </tr>\n",
       "    <tr>\n",
       "      <th>7</th>\n",
       "      <td>rescue_volunteering_or_donation_effort</td>\n",
       "      <td>4701</td>\n",
       "      <td>4701</td>\n",
       "    </tr>\n",
       "    <tr>\n",
       "      <th>8</th>\n",
       "      <td>sympathy_and_support</td>\n",
       "      <td>1587</td>\n",
       "      <td>1587</td>\n",
       "    </tr>\n",
       "  </tbody>\n",
       "</table>\n",
       "</div>"
      ],
      "text/plain": [
       "                              class_label  tweet_id  tweet_text\n",
       "0                      caution_and_advice       987         987\n",
       "1        displaced_people_and_evacuations      1129        1129\n",
       "2       infrastructure_and_utility_damage      3293        3293\n",
       "3                  injured_or_dead_people      1482        1482\n",
       "4                        not_humanitarian       959         959\n",
       "5              other_relevant_information      4214        4214\n",
       "6                requests_or_urgent_needs       856         856\n",
       "7  rescue_volunteering_or_donation_effort      4701        4701\n",
       "8                    sympathy_and_support      1587        1587"
      ]
     },
     "execution_count": 23,
     "metadata": {},
     "output_type": "execute_result"
    }
   ],
   "source": [
    "p_df = p_df.reset_index()\n",
    "p_df"
   ]
  },
  {
   "cell_type": "code",
   "execution_count": 24,
   "id": "d29107aa",
   "metadata": {},
   "outputs": [],
   "source": [
    "p_df['values'] = p_df.apply(lambda x: value_obj[x['class_label']], axis = 1)"
   ]
  },
  {
   "cell_type": "code",
   "execution_count": 25,
   "id": "a75501ea",
   "metadata": {},
   "outputs": [
    {
     "data": {
      "text/html": [
       "<div>\n",
       "<style scoped>\n",
       "    .dataframe tbody tr th:only-of-type {\n",
       "        vertical-align: middle;\n",
       "    }\n",
       "\n",
       "    .dataframe tbody tr th {\n",
       "        vertical-align: top;\n",
       "    }\n",
       "\n",
       "    .dataframe thead th {\n",
       "        text-align: right;\n",
       "    }\n",
       "</style>\n",
       "<table border=\"1\" class=\"dataframe\">\n",
       "  <thead>\n",
       "    <tr style=\"text-align: right;\">\n",
       "      <th></th>\n",
       "      <th>class_label</th>\n",
       "      <th>tweet_id</th>\n",
       "      <th>tweet_text</th>\n",
       "      <th>values</th>\n",
       "    </tr>\n",
       "  </thead>\n",
       "  <tbody>\n",
       "    <tr>\n",
       "      <th>8</th>\n",
       "      <td>sympathy_and_support</td>\n",
       "      <td>1587</td>\n",
       "      <td>1587</td>\n",
       "      <td>0</td>\n",
       "    </tr>\n",
       "    <tr>\n",
       "      <th>3</th>\n",
       "      <td>injured_or_dead_people</td>\n",
       "      <td>1482</td>\n",
       "      <td>1482</td>\n",
       "      <td>1</td>\n",
       "    </tr>\n",
       "    <tr>\n",
       "      <th>5</th>\n",
       "      <td>other_relevant_information</td>\n",
       "      <td>4214</td>\n",
       "      <td>4214</td>\n",
       "      <td>2</td>\n",
       "    </tr>\n",
       "    <tr>\n",
       "      <th>7</th>\n",
       "      <td>rescue_volunteering_or_donation_effort</td>\n",
       "      <td>4701</td>\n",
       "      <td>4701</td>\n",
       "      <td>3</td>\n",
       "    </tr>\n",
       "    <tr>\n",
       "      <th>2</th>\n",
       "      <td>infrastructure_and_utility_damage</td>\n",
       "      <td>3293</td>\n",
       "      <td>3293</td>\n",
       "      <td>4</td>\n",
       "    </tr>\n",
       "    <tr>\n",
       "      <th>4</th>\n",
       "      <td>not_humanitarian</td>\n",
       "      <td>959</td>\n",
       "      <td>959</td>\n",
       "      <td>5</td>\n",
       "    </tr>\n",
       "    <tr>\n",
       "      <th>6</th>\n",
       "      <td>requests_or_urgent_needs</td>\n",
       "      <td>856</td>\n",
       "      <td>856</td>\n",
       "      <td>6</td>\n",
       "    </tr>\n",
       "    <tr>\n",
       "      <th>0</th>\n",
       "      <td>caution_and_advice</td>\n",
       "      <td>987</td>\n",
       "      <td>987</td>\n",
       "      <td>7</td>\n",
       "    </tr>\n",
       "    <tr>\n",
       "      <th>1</th>\n",
       "      <td>displaced_people_and_evacuations</td>\n",
       "      <td>1129</td>\n",
       "      <td>1129</td>\n",
       "      <td>8</td>\n",
       "    </tr>\n",
       "  </tbody>\n",
       "</table>\n",
       "</div>"
      ],
      "text/plain": [
       "                              class_label  tweet_id  tweet_text  values\n",
       "8                    sympathy_and_support      1587        1587       0\n",
       "3                  injured_or_dead_people      1482        1482       1\n",
       "5              other_relevant_information      4214        4214       2\n",
       "7  rescue_volunteering_or_donation_effort      4701        4701       3\n",
       "2       infrastructure_and_utility_damage      3293        3293       4\n",
       "4                        not_humanitarian       959         959       5\n",
       "6                requests_or_urgent_needs       856         856       6\n",
       "0                      caution_and_advice       987         987       7\n",
       "1        displaced_people_and_evacuations      1129        1129       8"
      ]
     },
     "execution_count": 25,
     "metadata": {},
     "output_type": "execute_result"
    }
   ],
   "source": [
    "p_df = p_df.sort_values('values')\n",
    "p_df"
   ]
  },
  {
   "cell_type": "code",
   "execution_count": 26,
   "id": "1e3069cb",
   "metadata": {},
   "outputs": [],
   "source": [
    "p_df['proportion'] = p_df.apply(lambda x: x['tweet_id']/19208, axis = 1)"
   ]
  },
  {
   "cell_type": "code",
   "execution_count": 27,
   "id": "8c8d30fb",
   "metadata": {},
   "outputs": [
    {
     "data": {
      "text/html": [
       "<div>\n",
       "<style scoped>\n",
       "    .dataframe tbody tr th:only-of-type {\n",
       "        vertical-align: middle;\n",
       "    }\n",
       "\n",
       "    .dataframe tbody tr th {\n",
       "        vertical-align: top;\n",
       "    }\n",
       "\n",
       "    .dataframe thead th {\n",
       "        text-align: right;\n",
       "    }\n",
       "</style>\n",
       "<table border=\"1\" class=\"dataframe\">\n",
       "  <thead>\n",
       "    <tr style=\"text-align: right;\">\n",
       "      <th></th>\n",
       "      <th>class_label</th>\n",
       "      <th>tweet_id</th>\n",
       "      <th>tweet_text</th>\n",
       "      <th>values</th>\n",
       "      <th>proportion</th>\n",
       "    </tr>\n",
       "  </thead>\n",
       "  <tbody>\n",
       "    <tr>\n",
       "      <th>8</th>\n",
       "      <td>sympathy_and_support</td>\n",
       "      <td>1587</td>\n",
       "      <td>1587</td>\n",
       "      <td>0</td>\n",
       "      <td>0.082622</td>\n",
       "    </tr>\n",
       "    <tr>\n",
       "      <th>3</th>\n",
       "      <td>injured_or_dead_people</td>\n",
       "      <td>1482</td>\n",
       "      <td>1482</td>\n",
       "      <td>1</td>\n",
       "      <td>0.077155</td>\n",
       "    </tr>\n",
       "    <tr>\n",
       "      <th>5</th>\n",
       "      <td>other_relevant_information</td>\n",
       "      <td>4214</td>\n",
       "      <td>4214</td>\n",
       "      <td>2</td>\n",
       "      <td>0.219388</td>\n",
       "    </tr>\n",
       "    <tr>\n",
       "      <th>7</th>\n",
       "      <td>rescue_volunteering_or_donation_effort</td>\n",
       "      <td>4701</td>\n",
       "      <td>4701</td>\n",
       "      <td>3</td>\n",
       "      <td>0.244742</td>\n",
       "    </tr>\n",
       "    <tr>\n",
       "      <th>2</th>\n",
       "      <td>infrastructure_and_utility_damage</td>\n",
       "      <td>3293</td>\n",
       "      <td>3293</td>\n",
       "      <td>4</td>\n",
       "      <td>0.171439</td>\n",
       "    </tr>\n",
       "    <tr>\n",
       "      <th>4</th>\n",
       "      <td>not_humanitarian</td>\n",
       "      <td>959</td>\n",
       "      <td>959</td>\n",
       "      <td>5</td>\n",
       "      <td>0.049927</td>\n",
       "    </tr>\n",
       "    <tr>\n",
       "      <th>6</th>\n",
       "      <td>requests_or_urgent_needs</td>\n",
       "      <td>856</td>\n",
       "      <td>856</td>\n",
       "      <td>6</td>\n",
       "      <td>0.044565</td>\n",
       "    </tr>\n",
       "    <tr>\n",
       "      <th>0</th>\n",
       "      <td>caution_and_advice</td>\n",
       "      <td>987</td>\n",
       "      <td>987</td>\n",
       "      <td>7</td>\n",
       "      <td>0.051385</td>\n",
       "    </tr>\n",
       "    <tr>\n",
       "      <th>1</th>\n",
       "      <td>displaced_people_and_evacuations</td>\n",
       "      <td>1129</td>\n",
       "      <td>1129</td>\n",
       "      <td>8</td>\n",
       "      <td>0.058778</td>\n",
       "    </tr>\n",
       "  </tbody>\n",
       "</table>\n",
       "</div>"
      ],
      "text/plain": [
       "                              class_label  tweet_id  tweet_text  values  \\\n",
       "8                    sympathy_and_support      1587        1587       0   \n",
       "3                  injured_or_dead_people      1482        1482       1   \n",
       "5              other_relevant_information      4214        4214       2   \n",
       "7  rescue_volunteering_or_donation_effort      4701        4701       3   \n",
       "2       infrastructure_and_utility_damage      3293        3293       4   \n",
       "4                        not_humanitarian       959         959       5   \n",
       "6                requests_or_urgent_needs       856         856       6   \n",
       "0                      caution_and_advice       987         987       7   \n",
       "1        displaced_people_and_evacuations      1129        1129       8   \n",
       "\n",
       "   proportion  \n",
       "8    0.082622  \n",
       "3    0.077155  \n",
       "5    0.219388  \n",
       "7    0.244742  \n",
       "2    0.171439  \n",
       "4    0.049927  \n",
       "6    0.044565  \n",
       "0    0.051385  \n",
       "1    0.058778  "
      ]
     },
     "execution_count": 27,
     "metadata": {},
     "output_type": "execute_result"
    }
   ],
   "source": [
    "p_df"
   ]
  },
  {
   "cell_type": "code",
   "execution_count": 28,
   "id": "a2e65c58",
   "metadata": {},
   "outputs": [],
   "source": [
    "class_prior = list(p_df['proportion'])"
   ]
  },
  {
   "cell_type": "markdown",
   "id": "d004b64e",
   "metadata": {},
   "source": [
    "## Multinomial Naive Bayes with priors"
   ]
  },
  {
   "cell_type": "code",
   "execution_count": 29,
   "id": "f3e13292",
   "metadata": {},
   "outputs": [],
   "source": [
    "clf2 = MultinomialNB(class_prior=class_prior)"
   ]
  },
  {
   "cell_type": "code",
   "execution_count": 30,
   "id": "0b93ff96",
   "metadata": {},
   "outputs": [
    {
     "data": {
      "text/html": [
       "<style>#sk-container-id-2 {color: black;background-color: white;}#sk-container-id-2 pre{padding: 0;}#sk-container-id-2 div.sk-toggleable {background-color: white;}#sk-container-id-2 label.sk-toggleable__label {cursor: pointer;display: block;width: 100%;margin-bottom: 0;padding: 0.3em;box-sizing: border-box;text-align: center;}#sk-container-id-2 label.sk-toggleable__label-arrow:before {content: \"▸\";float: left;margin-right: 0.25em;color: #696969;}#sk-container-id-2 label.sk-toggleable__label-arrow:hover:before {color: black;}#sk-container-id-2 div.sk-estimator:hover label.sk-toggleable__label-arrow:before {color: black;}#sk-container-id-2 div.sk-toggleable__content {max-height: 0;max-width: 0;overflow: hidden;text-align: left;background-color: #f0f8ff;}#sk-container-id-2 div.sk-toggleable__content pre {margin: 0.2em;color: black;border-radius: 0.25em;background-color: #f0f8ff;}#sk-container-id-2 input.sk-toggleable__control:checked~div.sk-toggleable__content {max-height: 200px;max-width: 100%;overflow: auto;}#sk-container-id-2 input.sk-toggleable__control:checked~label.sk-toggleable__label-arrow:before {content: \"▾\";}#sk-container-id-2 div.sk-estimator input.sk-toggleable__control:checked~label.sk-toggleable__label {background-color: #d4ebff;}#sk-container-id-2 div.sk-label input.sk-toggleable__control:checked~label.sk-toggleable__label {background-color: #d4ebff;}#sk-container-id-2 input.sk-hidden--visually {border: 0;clip: rect(1px 1px 1px 1px);clip: rect(1px, 1px, 1px, 1px);height: 1px;margin: -1px;overflow: hidden;padding: 0;position: absolute;width: 1px;}#sk-container-id-2 div.sk-estimator {font-family: monospace;background-color: #f0f8ff;border: 1px dotted black;border-radius: 0.25em;box-sizing: border-box;margin-bottom: 0.5em;}#sk-container-id-2 div.sk-estimator:hover {background-color: #d4ebff;}#sk-container-id-2 div.sk-parallel-item::after {content: \"\";width: 100%;border-bottom: 1px solid gray;flex-grow: 1;}#sk-container-id-2 div.sk-label:hover label.sk-toggleable__label {background-color: #d4ebff;}#sk-container-id-2 div.sk-serial::before {content: \"\";position: absolute;border-left: 1px solid gray;box-sizing: border-box;top: 0;bottom: 0;left: 50%;z-index: 0;}#sk-container-id-2 div.sk-serial {display: flex;flex-direction: column;align-items: center;background-color: white;padding-right: 0.2em;padding-left: 0.2em;position: relative;}#sk-container-id-2 div.sk-item {position: relative;z-index: 1;}#sk-container-id-2 div.sk-parallel {display: flex;align-items: stretch;justify-content: center;background-color: white;position: relative;}#sk-container-id-2 div.sk-item::before, #sk-container-id-2 div.sk-parallel-item::before {content: \"\";position: absolute;border-left: 1px solid gray;box-sizing: border-box;top: 0;bottom: 0;left: 50%;z-index: -1;}#sk-container-id-2 div.sk-parallel-item {display: flex;flex-direction: column;z-index: 1;position: relative;background-color: white;}#sk-container-id-2 div.sk-parallel-item:first-child::after {align-self: flex-end;width: 50%;}#sk-container-id-2 div.sk-parallel-item:last-child::after {align-self: flex-start;width: 50%;}#sk-container-id-2 div.sk-parallel-item:only-child::after {width: 0;}#sk-container-id-2 div.sk-dashed-wrapped {border: 1px dashed gray;margin: 0 0.4em 0.5em 0.4em;box-sizing: border-box;padding-bottom: 0.4em;background-color: white;}#sk-container-id-2 div.sk-label label {font-family: monospace;font-weight: bold;display: inline-block;line-height: 1.2em;}#sk-container-id-2 div.sk-label-container {text-align: center;}#sk-container-id-2 div.sk-container {/* jupyter's `normalize.less` sets `[hidden] { display: none; }` but bootstrap.min.css set `[hidden] { display: none !important; }` so we also need the `!important` here to be able to override the default hidden behavior on the sphinx rendered scikit-learn.org. See: https://github.com/scikit-learn/scikit-learn/issues/21755 */display: inline-block !important;position: relative;}#sk-container-id-2 div.sk-text-repr-fallback {display: none;}</style><div id=\"sk-container-id-2\" class=\"sk-top-container\"><div class=\"sk-text-repr-fallback\"><pre>MultinomialNB(class_prior=[0.08262182423990004, 0.07715535193669304,\n",
       "                           0.2193877551020408, 0.2447417742607247,\n",
       "                           0.17143898375676803, 0.049927113702623906,\n",
       "                           0.044564764681382756, 0.05138483965014577,\n",
       "                           0.05877759266972095])</pre><b>In a Jupyter environment, please rerun this cell to show the HTML representation or trust the notebook. <br />On GitHub, the HTML representation is unable to render, please try loading this page with nbviewer.org.</b></div><div class=\"sk-container\" hidden><div class=\"sk-item\"><div class=\"sk-estimator sk-toggleable\"><input class=\"sk-toggleable__control sk-hidden--visually\" id=\"sk-estimator-id-2\" type=\"checkbox\" checked><label for=\"sk-estimator-id-2\" class=\"sk-toggleable__label sk-toggleable__label-arrow\">MultinomialNB</label><div class=\"sk-toggleable__content\"><pre>MultinomialNB(class_prior=[0.08262182423990004, 0.07715535193669304,\n",
       "                           0.2193877551020408, 0.2447417742607247,\n",
       "                           0.17143898375676803, 0.049927113702623906,\n",
       "                           0.044564764681382756, 0.05138483965014577,\n",
       "                           0.05877759266972095])</pre></div></div></div></div></div>"
      ],
      "text/plain": [
       "MultinomialNB(class_prior=[0.08262182423990004, 0.07715535193669304,\n",
       "                           0.2193877551020408, 0.2447417742607247,\n",
       "                           0.17143898375676803, 0.049927113702623906,\n",
       "                           0.044564764681382756, 0.05138483965014577,\n",
       "                           0.05877759266972095])"
      ]
     },
     "execution_count": 30,
     "metadata": {},
     "output_type": "execute_result"
    }
   ],
   "source": [
    "clf2.fit(X_train, y_train)"
   ]
  },
  {
   "cell_type": "code",
   "execution_count": 31,
   "id": "ab62fda7",
   "metadata": {},
   "outputs": [],
   "source": [
    "pred2 = clf2.predict(X_test)"
   ]
  },
  {
   "cell_type": "code",
   "execution_count": 32,
   "id": "7d3ee85f",
   "metadata": {},
   "outputs": [
    {
     "data": {
      "text/plain": [
       "0.6430653894210746"
      ]
     },
     "execution_count": 32,
     "metadata": {},
     "output_type": "execute_result"
    }
   ],
   "source": [
    "model_2 = accuracy_score(y_test, pred2)\n",
    "model_2"
   ]
  },
  {
   "cell_type": "code",
   "execution_count": 33,
   "id": "a2b80f61",
   "metadata": {},
   "outputs": [
    {
     "data": {
      "text/plain": [
       "(0.6432736359850062, 0.6430653894210746)"
      ]
     },
     "execution_count": 33,
     "metadata": {},
     "output_type": "execute_result"
    }
   ],
   "source": [
    "model_1, model_2"
   ]
  },
  {
   "cell_type": "code",
   "execution_count": null,
   "id": "9d66e19b",
   "metadata": {},
   "outputs": [],
   "source": []
  }
 ],
 "metadata": {
  "kernelspec": {
   "display_name": "Python 3 (ipykernel)",
   "language": "python",
   "name": "python3"
  },
  "language_info": {
   "codemirror_mode": {
    "name": "ipython",
    "version": 3
   },
   "file_extension": ".py",
   "mimetype": "text/x-python",
   "name": "python",
   "nbconvert_exporter": "python",
   "pygments_lexer": "ipython3",
   "version": "3.10.6"
  }
 },
 "nbformat": 4,
 "nbformat_minor": 5
}
