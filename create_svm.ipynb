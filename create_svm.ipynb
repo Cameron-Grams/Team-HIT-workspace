{
 "cells": [
  {
   "cell_type": "code",
   "execution_count": 1,
   "id": "fe171c6a",
   "metadata": {},
   "outputs": [],
   "source": [
    "import pandas as pd\n",
    "import numpy as np\n",
    "import nltk\n",
    "import re\n",
    "import string\n",
    "import contractions\n",
    "import collections\n",
    "import shap\n",
    "from sklearn.feature_extraction.text import CountVectorizer\n",
    "from sklearn.feature_extraction.text import TfidfTransformer\n",
    "from sklearn.feature_extraction.text import TfidfVectorizer\n",
    "from sklearn import model_selection\n",
    "from sklearn import preprocessing\n",
    "from sklearn.pipeline import Pipeline\n",
    "from sklearn.pipeline import make_pipeline\n",
    "from sklearn.naive_bayes import MultinomialNB\n",
    "from sklearn.naive_bayes import GaussianNB\n",
    "from sklearn.linear_model import LogisticRegression\n",
    "from sklearn.ensemble import RandomForestClassifier\n",
    "from sklearn.svm import LinearSVC\n",
    "from sklearn.svm import SVC\n",
    "from sklearn.dummy import DummyRegressor\n",
    "from sklearn import metrics\n",
    "from sklearn.model_selection import GridSearchCV\n",
    "from sklearn.model_selection import train_test_split\n",
    "from sklearn.neural_network import MLPClassifier\n",
    "from nltk.corpus import stopwords\n",
    "from nltk.tokenize import word_tokenize \n",
    "from nltk.stem import WordNetLemmatizer\n",
    "import matplotlib.pyplot as plt\n",
    "import seaborn as sns\n",
    "from lime.lime_text import LimeTextExplainer\n",
    "import timeit\n",
    "import shap\n",
    "import eli5\n",
    "import pickle"
   ]
  },
  {
   "cell_type": "code",
   "execution_count": 2,
   "id": "b0239b4c",
   "metadata": {},
   "outputs": [],
   "source": [
    "# load the nltk specific parameters\n",
    "stop_words = nltk.corpus.stopwords.words('english')"
   ]
  },
  {
   "cell_type": "code",
   "execution_count": 3,
   "id": "cdea8872",
   "metadata": {},
   "outputs": [],
   "source": [
    "X_ = pd.read_csv('X_training_all_hurricanes.csv')\n",
    "y = pd.read_csv('y_labels_all_hurricanes.csv')"
   ]
  },
  {
   "cell_type": "code",
   "execution_count": 4,
   "id": "72ea3341",
   "metadata": {},
   "outputs": [],
   "source": [
    "# select or combine lemmatization, stemming, stopword removal to compare performance\n",
    "\n",
    "def preprocess_text(text, flg_stemm = True, flg_lemm = True, lst_stopwords=None):\n",
    "    text_clean = re.sub(r'[^\\w\\s.,]', '', str(text).strip())\n",
    "    lst_text = text_clean.split()\n",
    "    if lst_stopwords is not None:\n",
    "        lst_text = [word for word in lst_text if word not in lst_stopwords]\n",
    "    if flg_stemm == True:\n",
    "        stemm = nltk.stem.porter.PorterStemmer()\n",
    "        lst_text = [stemm.stem(word) for word in lst_text]\n",
    "    if flg_lemm == True:\n",
    "        lem=nltk.stem.wordnet.WordNetLemmatizer()\n",
    "        lst_text = [lem.lemmatize(word) for word in lst_text]\n",
    "\n",
    "    text_clean = ' '.join(filter(None, lst_text))\n",
    "    text_clean = text_clean.replace(\" ,\",\",\").replace(' .', '.')\n",
    "    text_clean = contractions.fix(text_clean)\n",
    "    return text_clean"
   ]
  },
  {
   "cell_type": "markdown",
   "id": "45f39717",
   "metadata": {},
   "source": [
    "## Vectorize the text for use with the model"
   ]
  },
  {
   "cell_type": "code",
   "execution_count": 5,
   "id": "80ea073d",
   "metadata": {},
   "outputs": [
    {
     "data": {
      "text/plain": [
       "(26418,)"
      ]
     },
     "execution_count": 5,
     "metadata": {},
     "output_type": "execute_result"
    }
   ],
   "source": [
    "X = X_['text'].apply(lambda x: preprocess_text(x, flg_stemm=True, flg_lemm=True, lst_stopwords=stop_words))\n",
    "X.shape"
   ]
  },
  {
   "cell_type": "code",
   "execution_count": 6,
   "id": "50a5144f",
   "metadata": {},
   "outputs": [],
   "source": [
    "# X_train, X_test, y_train, y_test = train_test_split( X, y, random_state=42, test_size=0.20, shuffle=True)\n",
    "\n",
    "# tfidf_vec = TfidfVectorizer(ngram_range=(1,2), lowercase=True, min_df = 3)\n",
    "# train_vc = tfidf_vec.fit_transform(X_train)\n",
    "# test_vc = tfidf_vec.transform(X_test)"
   ]
  },
  {
   "cell_type": "code",
   "execution_count": null,
   "id": "864bb40c",
   "metadata": {},
   "outputs": [],
   "source": []
  },
  {
   "cell_type": "markdown",
   "id": "6377f68c",
   "metadata": {},
   "source": [
    "## Implement the model\n",
    "The bake-off suggests that the deaful parameters on the SVM were optiminal for the YES/NO task"
   ]
  },
  {
   "cell_type": "code",
   "execution_count": 7,
   "id": "39b2f2c3",
   "metadata": {},
   "outputs": [],
   "source": [
    "# svc = SVC(random_state=42)"
   ]
  },
  {
   "cell_type": "code",
   "execution_count": 8,
   "id": "39ed1b14",
   "metadata": {},
   "outputs": [],
   "source": [
    "# y_train = y_train['is_hurricane']\n",
    "# svc.fit(train_vc, y_train)"
   ]
  },
  {
   "cell_type": "code",
   "execution_count": 9,
   "id": "69b80219",
   "metadata": {},
   "outputs": [],
   "source": [
    "# svc prediction\n",
    "# preds_svc = svc.predict(test_vc)"
   ]
  },
  {
   "cell_type": "markdown",
   "id": "2198932e",
   "metadata": {},
   "source": [
    "### With parameters from previous examination"
   ]
  },
  {
   "cell_type": "code",
   "execution_count": 10,
   "id": "e57d4fc5",
   "metadata": {},
   "outputs": [],
   "source": [
    "# svc_p = SVC(C=10, gamma=1, kernel='rbf', random_state=42)"
   ]
  },
  {
   "cell_type": "code",
   "execution_count": 11,
   "id": "dd77c68a",
   "metadata": {},
   "outputs": [],
   "source": [
    "# svc_p.fit(train_vc, y_train)"
   ]
  },
  {
   "cell_type": "code",
   "execution_count": 12,
   "id": "7b059efd",
   "metadata": {},
   "outputs": [],
   "source": [
    "# reds_svcp = svc_p.predict(test_vc)"
   ]
  },
  {
   "cell_type": "markdown",
   "id": "b3f09628",
   "metadata": {},
   "source": [
    "### Linear SVC"
   ]
  },
  {
   "cell_type": "code",
   "execution_count": 13,
   "id": "b1330b60",
   "metadata": {},
   "outputs": [],
   "source": [
    "# l_svc = LinearSVC(random_state=42)"
   ]
  },
  {
   "cell_type": "code",
   "execution_count": 14,
   "id": "9e882099",
   "metadata": {},
   "outputs": [],
   "source": [
    "# l_svc.fit(train_vc, y_train)"
   ]
  },
  {
   "cell_type": "code",
   "execution_count": 15,
   "id": "da444d10",
   "metadata": {},
   "outputs": [],
   "source": [
    "# preds_lsvc = l_svc.predict(test_vc)"
   ]
  },
  {
   "cell_type": "markdown",
   "id": "4d6fd915",
   "metadata": {},
   "source": [
    "## Show comparison"
   ]
  },
  {
   "cell_type": "code",
   "execution_count": 16,
   "id": "40ffb8d8",
   "metadata": {},
   "outputs": [],
   "source": [
    "# results_df = pd.DataFrame(columns=['accuracy', 'precision', 'recall', 'f1-score'])\n",
    "# target_names = ['Not Hurricane Tweet', 'Hurricane Tweet']"
   ]
  },
  {
   "cell_type": "code",
   "execution_count": 17,
   "id": "fd06b939",
   "metadata": {},
   "outputs": [],
   "source": [
    "# models = ['SVC', 'SVC+', 'LinearSVC']\n",
    "# predictions = [preds_svc, preds_svcp, preds_lsvc]\n",
    "# config_obj = zip(models, predictions)"
   ]
  },
  {
   "cell_type": "code",
   "execution_count": 18,
   "id": "e7fcc649",
   "metadata": {},
   "outputs": [],
   "source": [
    "# for name, preds in config_obj:\n",
    "#     report_dict = metrics.classification_report(y_test, preds, target_names=target_names, output_dict=True)\n",
    "#     results_df.loc[name, 'accuracy'] = report_dict['accuracy']\n",
    "#     results_df.loc[name, 'precision'] = report_dict['macro avg']['precision']\n",
    "#     results_df.loc[name, 'recall'] = report_dict['macro avg']['recall']\n",
    "#     results_df.loc[name, 'f1-score'] = report_dict['macro avg']['f1-score']"
   ]
  },
  {
   "cell_type": "code",
   "execution_count": 19,
   "id": "45ede533",
   "metadata": {},
   "outputs": [],
   "source": [
    "# results_df"
   ]
  },
  {
   "cell_type": "markdown",
   "id": "f683b276",
   "metadata": {},
   "source": [
    "# Save the winning model"
   ]
  },
  {
   "cell_type": "code",
   "execution_count": 20,
   "id": "ca1415ec",
   "metadata": {},
   "outputs": [],
   "source": [
    "# model with winning parameters\n",
    "svc_p = SVC(C=10, gamma=1, kernel='rbf', random_state=42)"
   ]
  },
  {
   "cell_type": "code",
   "execution_count": 21,
   "id": "1ab2c923",
   "metadata": {},
   "outputs": [],
   "source": [
    "# vectorize the text for use with the model\n",
    "tfidf_vec = TfidfVectorizer(ngram_range=(1,2), lowercase=True, min_df = 3)\n",
    "vector_X = tfidf_vec.fit_transform(X)"
   ]
  },
  {
   "cell_type": "code",
   "execution_count": 22,
   "id": "d5cd1ed4",
   "metadata": {},
   "outputs": [
    {
     "name": "stderr",
     "output_type": "stream",
     "text": [
      "A column-vector y was passed when a 1d array was expected. Please change the shape of y to (n_samples, ), for example using ravel().\n"
     ]
    },
    {
     "data": {
      "text/html": [
       "<style>#sk-container-id-1 {color: black;background-color: white;}#sk-container-id-1 pre{padding: 0;}#sk-container-id-1 div.sk-toggleable {background-color: white;}#sk-container-id-1 label.sk-toggleable__label {cursor: pointer;display: block;width: 100%;margin-bottom: 0;padding: 0.3em;box-sizing: border-box;text-align: center;}#sk-container-id-1 label.sk-toggleable__label-arrow:before {content: \"▸\";float: left;margin-right: 0.25em;color: #696969;}#sk-container-id-1 label.sk-toggleable__label-arrow:hover:before {color: black;}#sk-container-id-1 div.sk-estimator:hover label.sk-toggleable__label-arrow:before {color: black;}#sk-container-id-1 div.sk-toggleable__content {max-height: 0;max-width: 0;overflow: hidden;text-align: left;background-color: #f0f8ff;}#sk-container-id-1 div.sk-toggleable__content pre {margin: 0.2em;color: black;border-radius: 0.25em;background-color: #f0f8ff;}#sk-container-id-1 input.sk-toggleable__control:checked~div.sk-toggleable__content {max-height: 200px;max-width: 100%;overflow: auto;}#sk-container-id-1 input.sk-toggleable__control:checked~label.sk-toggleable__label-arrow:before {content: \"▾\";}#sk-container-id-1 div.sk-estimator input.sk-toggleable__control:checked~label.sk-toggleable__label {background-color: #d4ebff;}#sk-container-id-1 div.sk-label input.sk-toggleable__control:checked~label.sk-toggleable__label {background-color: #d4ebff;}#sk-container-id-1 input.sk-hidden--visually {border: 0;clip: rect(1px 1px 1px 1px);clip: rect(1px, 1px, 1px, 1px);height: 1px;margin: -1px;overflow: hidden;padding: 0;position: absolute;width: 1px;}#sk-container-id-1 div.sk-estimator {font-family: monospace;background-color: #f0f8ff;border: 1px dotted black;border-radius: 0.25em;box-sizing: border-box;margin-bottom: 0.5em;}#sk-container-id-1 div.sk-estimator:hover {background-color: #d4ebff;}#sk-container-id-1 div.sk-parallel-item::after {content: \"\";width: 100%;border-bottom: 1px solid gray;flex-grow: 1;}#sk-container-id-1 div.sk-label:hover label.sk-toggleable__label {background-color: #d4ebff;}#sk-container-id-1 div.sk-serial::before {content: \"\";position: absolute;border-left: 1px solid gray;box-sizing: border-box;top: 0;bottom: 0;left: 50%;z-index: 0;}#sk-container-id-1 div.sk-serial {display: flex;flex-direction: column;align-items: center;background-color: white;padding-right: 0.2em;padding-left: 0.2em;position: relative;}#sk-container-id-1 div.sk-item {position: relative;z-index: 1;}#sk-container-id-1 div.sk-parallel {display: flex;align-items: stretch;justify-content: center;background-color: white;position: relative;}#sk-container-id-1 div.sk-item::before, #sk-container-id-1 div.sk-parallel-item::before {content: \"\";position: absolute;border-left: 1px solid gray;box-sizing: border-box;top: 0;bottom: 0;left: 50%;z-index: -1;}#sk-container-id-1 div.sk-parallel-item {display: flex;flex-direction: column;z-index: 1;position: relative;background-color: white;}#sk-container-id-1 div.sk-parallel-item:first-child::after {align-self: flex-end;width: 50%;}#sk-container-id-1 div.sk-parallel-item:last-child::after {align-self: flex-start;width: 50%;}#sk-container-id-1 div.sk-parallel-item:only-child::after {width: 0;}#sk-container-id-1 div.sk-dashed-wrapped {border: 1px dashed gray;margin: 0 0.4em 0.5em 0.4em;box-sizing: border-box;padding-bottom: 0.4em;background-color: white;}#sk-container-id-1 div.sk-label label {font-family: monospace;font-weight: bold;display: inline-block;line-height: 1.2em;}#sk-container-id-1 div.sk-label-container {text-align: center;}#sk-container-id-1 div.sk-container {/* jupyter's `normalize.less` sets `[hidden] { display: none; }` but bootstrap.min.css set `[hidden] { display: none !important; }` so we also need the `!important` here to be able to override the default hidden behavior on the sphinx rendered scikit-learn.org. See: https://github.com/scikit-learn/scikit-learn/issues/21755 */display: inline-block !important;position: relative;}#sk-container-id-1 div.sk-text-repr-fallback {display: none;}</style><div id=\"sk-container-id-1\" class=\"sk-top-container\"><div class=\"sk-text-repr-fallback\"><pre>SVC(C=10, gamma=1, random_state=42)</pre><b>In a Jupyter environment, please rerun this cell to show the HTML representation or trust the notebook. <br />On GitHub, the HTML representation is unable to render, please try loading this page with nbviewer.org.</b></div><div class=\"sk-container\" hidden><div class=\"sk-item\"><div class=\"sk-estimator sk-toggleable\"><input class=\"sk-toggleable__control sk-hidden--visually\" id=\"sk-estimator-id-1\" type=\"checkbox\" checked><label for=\"sk-estimator-id-1\" class=\"sk-toggleable__label sk-toggleable__label-arrow\">SVC</label><div class=\"sk-toggleable__content\"><pre>SVC(C=10, gamma=1, random_state=42)</pre></div></div></div></div></div>"
      ],
      "text/plain": [
       "SVC(C=10, gamma=1, random_state=42)"
      ]
     },
     "execution_count": 22,
     "metadata": {},
     "output_type": "execute_result"
    }
   ],
   "source": [
    "# fit the model with all available data\n",
    "svc_p.fit(vector_X, y)"
   ]
  },
  {
   "cell_type": "code",
   "execution_count": 23,
   "id": "8135aec3",
   "metadata": {},
   "outputs": [],
   "source": [
    "# save the vectorizer for use with the model later\n",
    "with open('./WINNING_MODEL/training_vectorizer.pkl', 'wb') as file:\n",
    "    pickle.dump(tfidf_vec, file)"
   ]
  },
  {
   "cell_type": "code",
   "execution_count": 24,
   "id": "e98afae7",
   "metadata": {},
   "outputs": [],
   "source": [
    "with open('./WINNING_MODEL/yes_no_svc_plus.pkl', 'wb') as file:\n",
    "    pickle.dump(svc_p, file)"
   ]
  },
  {
   "cell_type": "code",
   "execution_count": null,
   "id": "6d96e701",
   "metadata": {},
   "outputs": [],
   "source": []
  }
 ],
 "metadata": {
  "kernelspec": {
   "display_name": "Python 3 (ipykernel)",
   "language": "python",
   "name": "python3"
  },
  "language_info": {
   "codemirror_mode": {
    "name": "ipython",
    "version": 3
   },
   "file_extension": ".py",
   "mimetype": "text/x-python",
   "name": "python",
   "nbconvert_exporter": "python",
   "pygments_lexer": "ipython3",
   "version": "3.10.8"
  }
 },
 "nbformat": 4,
 "nbformat_minor": 5
}
